{
 "cells": [
  {
   "cell_type": "code",
   "execution_count": 0,
   "metadata": {
    "application/vnd.databricks.v1+cell": {
     "cellMetadata": {
      "byteLimit": 2048000,
      "rowLimit": 10000
     },
     "inputWidgets": {},
     "nuid": "12d93b49-2d23-4381-9000-704990bfb166",
     "showTitle": false,
     "tableResultSettingsMap": {},
     "title": ""
    }
   },
   "outputs": [
    {
     "name": "stdout",
     "output_type": "stream",
     "text": [
      "Running notebook: 01_simulate_daily_ingestion\n",
      "Completed notebook: 01_simulate_daily_ingestion with result: None\n",
      "Running notebook: 02_parse_resumes\n",
      "Completed notebook: 02_parse_resumes with result: None\n",
      "Running notebook: 03_transform_and_scd2\n",
      "Completed notebook: 03_transform_and_scd2 with result: None\n",
      "Running notebook: 04_load_fact_tables\n",
      "Completed notebook: 04_load_fact_tables with result: None\n",
      "Running notebook: 05_reporting_queries\n",
      "Completed notebook: 05_reporting_queries with result: None\n",
      "All notebooks completed successfully.\n"
     ]
    }
   ],
   "source": [
    "notebooks = [\n",
    "    \"notebooks/01_simulate_daily_ingestion\",\n",
    "    \"notebooks/02_parse_resumes\",\n",
    "    \"notebooks/03_transform_and_scd2\",\n",
    "    \"notebooks/04_load_fact_tables\",\n",
    "    \"notebooks/05_reporting_queries\"\n",
    "]\n",
    "\n",
    "for nb_path in notebooks:\n",
    "    print(f\"Running notebook: {nb_path}\")\n",
    "    # Run notebook with timeout of 3600 seconds (1 hour), no arguments passed here\n",
    "    result = dbutils.notebook.run(nb_path, 3600)\n",
    "    print(f\"Completed notebook: {nb_path} with result: {result}\")\n",
    "\n",
    "print(\"All notebooks completed successfully.\")\n"
   ]
  }
 ],
 "metadata": {
  "application/vnd.databricks.v1+notebook": {
   "computePreferences": null,
   "dashboards": [],
   "environmentMetadata": {
    "base_environment": "",
    "environment_version": "2"
   },
   "inputWidgetPreferences": null,
   "language": "python",
   "notebookMetadata": {
    "pythonIndentUnit": 4
   },
   "notebookName": "dbutils.notebook.run",
   "widgets": {}
  },
  "language_info": {
   "name": "python"
  }
 },
 "nbformat": 4,
 "nbformat_minor": 0
}
