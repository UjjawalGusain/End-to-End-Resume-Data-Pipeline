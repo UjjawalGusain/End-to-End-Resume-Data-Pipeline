{
 "cells": [
  {
   "cell_type": "code",
   "execution_count": 0,
   "metadata": {
    "application/vnd.databricks.v1+cell": {
     "cellMetadata": {
      "byteLimit": 2048000,
      "rowLimit": 10000
     },
     "inputWidgets": {},
     "nuid": "c2294b8b-e0a9-48ed-be54-d984234f1a6c",
     "showTitle": false,
     "tableResultSettingsMap": {},
     "title": ""
    }
   },
   "outputs": [
    {
     "output_type": "stream",
     "name": "stdout",
     "output_type": "stream",
     "text": [
      "Total resumes to parse: 603\n+--------------------+--------+------------+-------------------+\n|              Resume|Category|candidate_id|        upload_date|\n+--------------------+--------+------------+-------------------+\n| a Christian maga...|   Other|      000038|2023-01-01 00:00:00|\n| experienced desi...|   Other|      000047|2023-01-01 00:00:00|\n|                 ADP|   Other|      000052|2023-01-01 00:00:00|\n|         HR SPECI...|      HR|      000077|2023-01-01 00:00:00|\n|               forms|   Other|      000090|2023-01-01 00:00:00|\n+--------------------+--------+------------+-------------------+\nonly showing top 5 rows\n"
     ]
    }
   ],
   "source": [
    "from pyspark.sql.functions import col\n",
    "from pyspark.sql.window import Window\n",
    "from pyspark.sql.functions import row_number, col\n",
    "\n",
    "df_raw = spark.read.table(\"workspace.resume_project.resume_raw_data\")\n",
    "window_spec = Window.partitionBy(\"candidate_id\").orderBy(col(\"upload_date\").desc())\n",
    "df_raw = df_raw.withColumn(\"row_num\", row_number().over(window_spec)) \\\n",
    "                   .filter(col(\"row_num\") == 1) \\\n",
    "                   .drop(\"row_num\")\n",
    "\n",
    "print(f\"Total resumes to parse: {df_raw.count()}\")\n",
    "df_raw.show(5)"
   ]
  },
  {
   "cell_type": "markdown",
   "metadata": {
    "application/vnd.databricks.v1+cell": {
     "cellMetadata": {},
     "inputWidgets": {},
     "nuid": "e07484a6-0f30-47e4-8e8a-1b3aaf12a7d1",
     "showTitle": false,
     "tableResultSettingsMap": {},
     "title": ""
    }
   },
   "source": [
    "### Match skills"
   ]
  },
  {
   "cell_type": "code",
   "execution_count": 0,
   "metadata": {
    "application/vnd.databricks.v1+cell": {
     "cellMetadata": {
      "byteLimit": 2048000,
      "rowLimit": 10000
     },
     "inputWidgets": {},
     "nuid": "deac6945-85a0-450b-b1ef-a1819e8742a5",
     "showTitle": false,
     "tableResultSettingsMap": {},
     "title": ""
    }
   },
   "outputs": [],
   "source": [
    "skill_keywords = [\n",
    "    # Programming Languages\n",
    "    \"java\", \"python\", \"c\", \"c++\", \"c#\", \"scala\", \"go\", \"rust\", \"ruby\", \"php\", \"kotlin\", \"swift\", \"typescript\", \"javascript\", \"html\", \"css\", \"bash\", \"shell scripting\", \"matlab\", \"r\",\n",
    "\n",
    "    # Data Science / ML\n",
    "    \"pandas\", \"numpy\", \"scikit-learn\", \"tensorflow\", \"keras\", \"pytorch\", \"xgboost\", \"lightgbm\", \"statsmodels\", \"opencv\", \"matplotlib\", \"seaborn\", \"nltk\", \"spacy\", \"gensim\", \"mlflow\", \"huggingface\", \"transformers\", \"langchain\", \"lstm\", \"cnn\", \"gan\", \"nlp\", \"ocr\",\n",
    "\n",
    "    # Web Development\n",
    "    \"react\", \"angular\", \"vue\", \"next.js\", \"express.js\", \"node.js\", \"flask\", \"django\", \"fastapi\", \"spring\", \"jsp\", \"bootstrap\", \"tailwind\", \"jquery\", \"graphql\", \"websockets\", \"rest api\", \"soap\",\n",
    "\n",
    "    # Databases\n",
    "    \"mysql\", \"postgresql\", \"oracle\", \"sql server\", \"sqlite\", \"mongodb\", \"cassandra\", \"dynamodb\", \"neo4j\", \"redis\", \"elasticsearch\", \"firebase\",\n",
    "\n",
    "    # DevOps & Cloud\n",
    "    \"docker\", \"kubernetes\", \"jenkins\", \"ansible\", \"puppet\", \"terraform\", \"prometheus\", \"grafana\", \"aws\", \"azure\", \"gcp\", \"lambda\", \"s3\", \"ec2\", \"cloudformation\", \"ci/cd\", \"git\", \"bitbucket\", \"gitlab\", \"github actions\", \"nexus\", \"helm\", \"nginx\", \"apache\",\n",
    "\n",
    "    # Testing & QA\n",
    "    \"selenium\", \"cypress\", \"junit\", \"pytest\", \"postman\", \"restassured\", \"jmeter\", \"appium\", \"karma\", \"mocha\", \"testng\", \"robot framework\", \"manual testing\", \"unit testing\", \"integration testing\", \"ui testing\", \"api testing\",\n",
    "\n",
    "    # Project & Agile Tools\n",
    "    \"jira\", \"confluence\", \"trello\", \"asana\", \"slack\", \"monday.com\", \"ms project\", \"kanban\", \"scrum\", \"agile\", \"waterfall\", \"safe\", \"rally\", \"notion\",\n",
    "\n",
    "    # BI & Visualization\n",
    "    \"power bi\", \"tableau\", \"looker\", \"qlikview\", \"metabase\", \"excel\", \"google sheets\", \"data studio\", \"qlik sense\", \"redash\",\n",
    "\n",
    "    # Design & Marketing\n",
    "    \"photoshop\", \"illustrator\", \"figma\", \"adobe xd\", \"canva\", \"seo\", \"sem\", \"google analytics\", \"email marketing\", \"social media\", \"wordpress\", \"shopify\", \"ux/ui\", \"coreldraw\",\n",
    "\n",
    "    # ERP & Enterprise\n",
    "    \"sap\", \"sap fico\", \"sap mm\", \"oracle fusion\", \"oracle ebs\", \"netsuite\", \"salesforce\", \"zoho crm\", \"workday\", \"peopleSoft\",\n",
    "\n",
    "    # Operating Systems / Sys Admin\n",
    "    \"linux\", \"ubuntu\", \"windows server\", \"rhel\", \"bash\", \"powershell\", \"cron\", \"networking\", \"vpn\", \"dns\", \"load balancing\", \"firewall\", \"vmware\", \"virtualbox\", \"vagrant\",\n",
    "\n",
    "    # Big Data & Streaming\n",
    "    \"hadoop\", \"spark\", \"pyspark\", \"hive\", \"pig\", \"oozie\", \"kafka\", \"flink\", \"storm\", \"airflow\", \"databricks\",\n",
    "\n",
    "    # Security\n",
    "    \"owasp\", \"penetration testing\", \"nmap\", \"burpsuite\", \"wireshark\", \"firewall\", \"siem\", \"splunk\", \"ids\", \"encryption\", \"ssl\", \"tls\", \"jwt\", \"oauth\",\n",
    "\n",
    "    # Soft Skills\n",
    "    \"communication\", \"teamwork\", \"leadership\", \"problem solving\", \"critical thinking\", \"adaptability\", \"time management\", \"collaboration\", \"decision making\", \"creativity\", \"negotiation\"\n",
    "]\n"
   ]
  },
  {
   "cell_type": "code",
   "execution_count": 0,
   "metadata": {
    "application/vnd.databricks.v1+cell": {
     "cellMetadata": {
      "byteLimit": 2048000,
      "rowLimit": 10000
     },
     "inputWidgets": {},
     "nuid": "320aafb1-72dc-4ab6-a4a3-6396e7ee630b",
     "showTitle": false,
     "tableResultSettingsMap": {},
     "title": ""
    }
   },
   "outputs": [],
   "source": [
    "import re\n",
    "\n",
    "education_pattern = re.compile(r\"\\b(B\\.E|MBA|PhD|M\\.Sc|B\\.Tech|Bachelor|Master|Doctorate)\\b\", re.I)\n",
    "email_pattern = re.compile(r\"[a-zA-Z0-9._%+-]+@[a-zA-Z0-9.-]+\\.[a-zA-Z]{2,}\")\n",
    "url_pattern = re.compile(\n",
    "    r\"(https?://[^\\s]+|www\\.[^\\s]+)\",\n",
    "    re.IGNORECASE\n",
    ")"
   ]
  },
  {
   "cell_type": "code",
   "execution_count": 0,
   "metadata": {
    "application/vnd.databricks.v1+cell": {
     "cellMetadata": {
      "byteLimit": 2048000,
      "rowLimit": 10000
     },
     "inputWidgets": {},
     "nuid": "4289cb5d-30b2-456e-8cdc-d318fae3ca8b",
     "showTitle": false,
     "tableResultSettingsMap": {},
     "title": ""
    }
   },
   "outputs": [],
   "source": [
    "from pyspark.sql.functions import pandas_udf\n",
    "import pandas as pd\n",
    "\n",
    "@pandas_udf(\"string\")\n",
    "def extract_skills(resumes: pd.Series) -> pd.Series:\n",
    "    def match_skills(text):\n",
    "        if pd.isnull(text):\n",
    "            return \"\"\n",
    "        text = text.lower()\n",
    "        found = set()\n",
    "        for kw in skill_keywords:\n",
    "            # Match exact word using word boundaries\n",
    "            pattern = r'\\b' + re.escape(kw.lower()) + r'\\b'\n",
    "            if re.search(pattern, text):\n",
    "                found.add(kw)\n",
    "        return \", \".join(sorted(found))\n",
    "    return resumes.apply(match_skills)"
   ]
  },
  {
   "cell_type": "code",
   "execution_count": 0,
   "metadata": {
    "application/vnd.databricks.v1+cell": {
     "cellMetadata": {
      "byteLimit": 2048000,
      "rowLimit": 10000
     },
     "inputWidgets": {},
     "nuid": "efb0d1c1-15c5-49df-b179-a22ddc44b23b",
     "showTitle": false,
     "tableResultSettingsMap": {},
     "title": ""
    }
   },
   "outputs": [],
   "source": [
    "@pandas_udf(\"string\")\n",
    "def extract_emails(resumes: pd.Series) -> pd.Series:\n",
    "    def get_emails(text):\n",
    "        if pd.isnull(text):\n",
    "            return \"\"\n",
    "        return \", \".join(set(email_pattern.findall(text.lower())))\n",
    "    return resumes.apply(get_emails)"
   ]
  },
  {
   "cell_type": "code",
   "execution_count": 0,
   "metadata": {
    "application/vnd.databricks.v1+cell": {
     "cellMetadata": {
      "byteLimit": 2048000,
      "rowLimit": 10000
     },
     "inputWidgets": {},
     "nuid": "03257a90-de23-4294-99fe-c2473be8add0",
     "showTitle": false,
     "tableResultSettingsMap": {},
     "title": ""
    }
   },
   "outputs": [],
   "source": [
    "@pandas_udf(\"string\")\n",
    "def extract_urls(resumes: pd.Series) -> pd.Series:\n",
    "    def get_urls(text):\n",
    "        if pd.isnull(text):\n",
    "            return \"\"\n",
    "        return \", \".join(set(url_pattern.findall(text.lower())))\n",
    "    return resumes.apply(get_urls)"
   ]
  },
  {
   "cell_type": "code",
   "execution_count": 0,
   "metadata": {
    "application/vnd.databricks.v1+cell": {
     "cellMetadata": {
      "byteLimit": 2048000,
      "rowLimit": 10000
     },
     "inputWidgets": {},
     "nuid": "6ad02138-9ddc-427e-9cbb-ef0ce6ddb273",
     "showTitle": false,
     "tableResultSettingsMap": {},
     "title": ""
    }
   },
   "outputs": [],
   "source": [
    "@pandas_udf(\"string\")\n",
    "def extract_education(resumes: pd.Series) -> pd.Series:\n",
    "    def get_education(text):\n",
    "        if pd.isnull(text):\n",
    "            return \"\"\n",
    "        matches = education_pattern.findall(text)\n",
    "        return \", \".join(set(matches))\n",
    "    return resumes.apply(get_education)"
   ]
  },
  {
   "cell_type": "code",
   "execution_count": 0,
   "metadata": {
    "application/vnd.databricks.v1+cell": {
     "cellMetadata": {
      "byteLimit": 2048000,
      "rowLimit": 10000
     },
     "inputWidgets": {},
     "nuid": "cb4805a1-f5b4-4903-b7ee-01ab69b09cd0",
     "showTitle": false,
     "tableResultSettingsMap": {},
     "title": ""
    }
   },
   "outputs": [],
   "source": [
    "df_parsed = df_raw \\\n",
    "    .withColumn(\"skills\", extract_skills(col(\"Resume\"))) \\\n",
    "    .withColumn(\"emails\", extract_emails(col(\"Resume\"))) \\\n",
    "    .withColumn(\"urls\", extract_urls(col(\"Resume\"))) \\\n",
    "    .withColumn(\"education_level\", extract_education(col(\"Resume\")))"
   ]
  },
  {
   "cell_type": "code",
   "execution_count": 0,
   "metadata": {
    "application/vnd.databricks.v1+cell": {
     "cellMetadata": {
      "byteLimit": 2048000,
      "rowLimit": 10000
     },
     "inputWidgets": {},
     "nuid": "8cbd4358-f63a-43ca-b270-0d4e3d22df1f",
     "showTitle": false,
     "tableResultSettingsMap": {},
     "title": ""
    }
   },
   "outputs": [
    {
     "output_type": "stream",
     "name": "stdout",
     "output_type": "stream",
     "text": [
      "+--------------------+--------------------+------------+-------------------+--------------------+------+--------------------+--------------------+\n|              Resume|            Category|candidate_id|        upload_date|              skills|emails|                urls|     education_level|\n+--------------------+--------------------+------------+-------------------+--------------------+------+--------------------+--------------------+\n| a Christian maga...|               Other|      000038|2023-01-01 00:00:00|                    |      |                    |                    |\n| experienced desi...|               Other|      000047|2023-01-01 00:00:00|                    |      |                    |                    |\n|                 ADP|               Other|      000052|2023-01-01 00:00:00|                    |      |                    |                    |\n|         HR SPECI...|                  HR|      000077|2023-01-01 00:00:00|  communication, sap|      |                    |                    |\n|               forms|               Other|      000090|2023-01-01 00:00:00|                    |      |                    |                    |\n| </span> <span cl...|               Other|      000099|2023-01-01 00:00:00|                    |      |                    |                    |\n| </span> <span cl...|               Other|      000135|2023-01-01 00:00:00|                    |      |                    |                    |\n| performing HR du...|               Other|      000204|2023-01-01 00:00:00|                    |      |                    |                    |\n| 2015-2017      S...|               Other|      000237|2023-01-01 00:00:00|                    |      |                    |                    |\n|              faxing|               Other|      000240|2023-01-01 00:00:00|                    |      |                    |                    |\n| updated personne...|               Other|      000256|2023-01-01 00:00:00|                    |      |                    |                    |\n|   State      GPA...|               Other|      000301|2023-01-01 00:00:00|                    |      |                    |                    |\n|               Excel|               Other|      000344|2023-01-01 00:00:00|               excel|      |                    |                    |\n|\"         HR EXEC...|                  HR|      000448|2023-01-01 00:00:00|       communication|      |                    |            MBA, B.E|\n|  employee relations|               Other|      000479|2023-01-01 00:00:00|                    |      |                    |                    |\n| </span> <span cl...|                  HR|      000494|2023-01-01 00:00:00|                    |      |                    |                    |\n| the director of ...|               Other|      000511|2023-01-01 00:00:00|                    |      |                    |                    |\n|             drawing|               Other|      000528|2023-01-01 00:00:00|                    |      |                    |                    |\n| including experi...|               Other|      000634|2023-01-01 00:00:00|                    |      |                    |                    |\n| </span> <span cl...|                  HR|      000652|2023-01-01 00:00:00|                    |      |                    |                    |\n|  working conditions|               Other|      000657|2023-01-01 00:00:00|                    |      |                    |                    |\n| establishing ban...|   Software Engineer|      000666|2023-01-01 00:00:00|                    |      |                    |                    |\n|   State         ...|               Other|      000675|2023-01-01 00:00:00|                    |      |                    |                    |\n| </span> <span cl...|               Other|      000691|2023-01-01 00:00:00|          leadership|      |                    |                    |\n|      Career Builder|               Other|      000705|2023-01-01 00:00:00|                    |      |                    |                    |\n|   State       De...|                  HR|      000722|2023-01-01 00:00:00|                    |      |                    |                    |\n|               forms|               Other|      000773|2023-01-01 00:00:00|                    |      |                    |                    |\n| deliver expected...|               Other|      000793|2023-01-01 00:00:00|                    |      |                    |                    |\n|               Excel|               Other|      000798|2023-01-01 00:00:00|               excel|      |                    |                    |\n|         HR ASSOC...|                  HR|      000832|2023-01-01 00:00:00|          excel, sap|      |                    |                    |\n|   State      Ass...|               Other|      000843|2023-01-01 00:00:00|                    |      |                    |                    |\n|           new hires|               Other|      000847|2023-01-01 00:00:00|                    |      |                    |                    |\n| </span> <span cl...|               Other|      000865|2023-01-01 00:00:00|                    |      |                    |                    |\n|               Excel|               Other|      000871|2023-01-01 00:00:00|               excel|      |                    |                    |\n|\"         HR MANA...|                  HR|      000964|2023-01-01 00:00:00|          leadership|      |                    |                    |\n| and creating str...|                  HR|      000994|2023-01-01 00:00:00|                    |      |https://schema.or...|                    |\n| </span> <span cl...|               Other|      000997|2023-01-01 00:00:00|                    |      |                    |                    |\n|          streamline|               Other|      001000|2023-01-01 00:00:00|                    |      |                    |                    |\n| </span> <span cl...|                  HR|      001086|2023-01-01 00:00:00|                    |      |                    |                    |\n|.</li> <li> Partn...|        Data Science|      001091|2023-01-01 00:00:00|                    |      |                    |                    |\n| </span> <span cl...|          Accounting|      001136|2023-01-01 00:00:00|                    |      |                    |                    |\n|              agency|               Other|      001140|2023-01-01 00:00:00|                    |      |                    |                    |\n|   coaching sessions|               Other|      001187|2023-01-01 00:00:00|                    |      |                    |                    |\n|             Closing|               Other|      001215|2023-01-01 00:00:00|                    |      |                    |                    |\n| </span> <span cl...|               Other|      001216|2023-01-01 00:00:00|                    |      |                    |                    |\n| </span> <span cl...|               Other|      001227|2023-01-01 00:00:00|                    |      |                    |                    |\n| LinkedIn X-ray s...|               Other|      001242|2023-01-01 00:00:00|                    |      |                    |                    |\n| Local Chapter of...|               Other|      001251|2023-01-01 00:00:00|                    |      |                    |                    |\n|\"         HR MANA...|                  HR|      001276|2023-01-01 00:00:00|excel, leadership...|      |                    |                    |\n| Resourceful Huma...|               Other|      001299|2023-01-01 00:00:00|                    |      |                    |                    |\n|      Confluence UML|               Other|      001323|2023-01-01 00:00:00|          confluence|      |                    |                    |\n| including mentor...|               Other|      001455|2023-01-01 00:00:00|                    |      |                    |                    |\n| </span> <span cl...|               Other|      001485|2023-01-01 00:00:00|                    |      |                    |                    |\n|   State       Re...|                  HR|      001534|2023-01-01 00:00:00|                    |      |                    |                    |\n| vehicle glider e...| Mechanical Engineer|      001547|2023-01-01 00:00:00|                    |      |                    |                    |\n| </span> <span cl...|            Advocate|      001591|2023-01-01 00:00:00|                    |      |                    |                    |\n|         HR ASSIS...|                  HR|      001734|2023-01-01 00:00:00|communication, cr...|      |                    |            BACHELOR|\n| National Associa...|            Advocate|      001816|2023-01-01 00:00:00|                    |      |                    |                    |\n| </span> <span cl...|               Other|      001837|2023-01-01 00:00:00|                    |      |                    |                    |\n|     Plan Force-Outs|            Advocate|      001841|2023-01-01 00:00:00|                    |      |                    |                    |\n| </span> <span cl...|               Other|      001873|2023-01-01 00:00:00|                    |      |                    |                    |\n| 2013</span> </sp...|                Arts|      001886|2023-01-01 00:00:00|                    |      |                    |                 MBA|\n|              agency|               Other|      001896|2023-01-01 00:00:00|                    |      |                    |                    |\n|\"         HR CONS...|            Advocate|      001933|2023-01-01 00:00:00|      go, leadership|      |                    |                    |\n|  but not limited to|               Other|      001962|2023-01-01 00:00:00|                    |      |                    |                    |\n|         HR PAYRO...|  Operations Manager|      001970|2023-01-01 00:00:00|communication, ex...|      |                    |                    |\n| </span> <span cl...|               Other|      001998|2023-01-01 00:00:00|                    |      |                    |                    |\n|         3D modeling|               Other|      002019|2023-01-01 00:00:00|                    |      |                    |                    |\n|         HR GENER...|                  HR|      002045|2023-01-01 00:00:00|communication, ex...|      |http://beknown.co...|            Bachelor|\n|\"<div class=\"\"fon...|               Other|      002095|2023-01-01 00:00:00|                    |      |                    |                    |\n|              vision|               Other|      002109|2023-01-01 00:00:00|                    |      |                    |                    |\n| </span> <span cl...|                Arts|      002117|2023-01-01 00:00:00|                    |      |                    |                    |\n|\"         HR & SA...|                  HR|      002136|2023-01-01 00:00:00|                    |      |                    |                    |\n|        drug testing|               Other|      002192|2023-01-01 00:00:00|                    |      |                    |                    |\n|  working conditions|               Other|      002232|2023-01-01 00:00:00|                    |      |                    |                    |\n|              verify|                  HR|      002239|2023-01-01 00:00:00|                    |      |                    |                    |\n|               Excel|          Accounting|      002244|2023-01-01 00:00:00|               excel|      |                    |                    |\n|\"         HR MANA...|            Advocate|      002317|2023-01-01 00:00:00|excel, illustrato...|      |                    |                    |\n|   instructional ...|               Other|      002368|2023-01-01 00:00:00|                    |      |                    |                    |\n|         DESIGNER...|   Software Engineer|      002378|2023-01-01 00:00:00|communication, ex...|      |                    |                    |\n|     2015-2017     \"|               Other|      002382|2023-01-01 00:00:00|                    |      |                    |                    |\n| administrative s...|               Other|      002392|2023-01-01 00:00:00|                    |      |                    |                    |\n|          automation|  Automation Testing|      002406|2023-01-01 00:00:00|                    |      |                    |                    |\n| </span> <span cl...|            Advocate|      002478|2023-01-01 00:00:00|                    |      |                    |                    |\n| LinkedIn X-ray s...|               Other|      002503|2023-01-01 00:00:00|                    |      |                    |                    |\n|             State  |               Other|      002554|2023-01-01 00:00:00|                    |      |                    |                    |\n|        implementing|               Other|      002558|2023-01-01 00:00:00|                    |      |                    |                    |\n|   State       Se...|        Data Science|      002570|2023-01-01 00:00:00|                    |      |                    |                    |\n|               Excel|               Other|      002571|2023-01-01 00:00:00|               excel|      |                    |                    |\n|            Benefits|        Data Science|      002621|2023-01-01 00:00:00|                    |      |                    |                    |\n| performance reviews|               Other|      002642|2023-01-01 00:00:00|                    |      |                    |                    |\n| a Christian maga...|               Other|      002653|2023-01-01 00:00:00|                    |      |                    |                    |\n|          streamline|               Other|      002660|2023-01-01 00:00:00|                    |      |                    |                    |\n|         HR SHARE...|                  HR|      002668|2023-01-01 00:00:00|     peopleSoft, sap|      |                    |                    |\n|     detail-oriented|               Other|      002720|2023-01-01 00:00:00|                    |      |                    |                    |\n| appropriately pr...|               Other|      002776|2023-01-01 00:00:00|                    |      |                    |                    |\n|            benefits|               Other|      002800|2023-01-01 00:00:00|                    |      |                    |                    |\n| &amp; VLookup)</...|               Other|      002850|2023-01-01 00:00:00|                    |      |                    |                    |\n| content owners a...|               Other|      002932|2023-01-01 00:00:00|                    |      |                    |                    |\n| </span> <span cl...|               Other|      002938|2023-01-01 00:00:00|       communication|      |                    |                    |\n| including classr...|               Other|      002989|2023-01-01 00:00:00|                    |      |                    |                    |\n| Administrative A...|               Other|      003037|2023-01-01 00:00:00|                    |      |                    |                    |\n|         HR SPECI...|                  HR|      003124|2023-01-01 00:00:00|communication, cr...|      |                    |            Bachelor|\n|            benefits|               Other|      003177|2023-01-01 00:00:00|                    |      |                    |                    |\n|              budget|               Other|      003290|2023-01-01 00:00:00|                    |      |                    |                    |\n| </span> <span cl...|               Other|      003317|2023-01-01 00:00:00|                    |      |                    |                    |\n| including experi...|               Other|      003337|2023-01-01 00:00:00|                    |      |                    |                    |\n| several producti...|               Other|      003406|2023-01-01 00:00:00|                    |      |                    |                    |\n|         orientation|               Other|      003407|2023-01-01 00:00:00|                    |      |                    |                    |\n|         bookkeeping|Network Security ...|      003419|2023-01-01 00:00:00|                    |      |                    |                    |\n| </span> <span cl...|               Other|      003440|2023-01-01 00:00:00|                    |      |                    |                    |\n|   State     Help...|               Other|      003532|2023-01-01 00:00:00|                    |      |                    |                    |\n|              verify|                  HR|      003540|2023-01-01 00:00:00|                    |      |                    |                    |\n|           new hires|               Other|      003547|2023-01-01 00:00:00|                    |      |                    |                    |\n| </span> <span cl...|               Other|      003608|2023-01-01 00:00:00|                    |      |                    |                    |\n|         HR ASSIS...|                  HR|      003615|2023-01-01 00:00:00|c, excel, sap, ti...|      |                    |                    |\n| 2013     MBA  : ...|                Arts|      003622|2023-01-01 00:00:00|                    |      |                    |                 MBA|\n| </span> <span cl...|                  HR|      003634|2023-01-01 00:00:00|                    |      |                    |                    |\n|   State       Su...|       SAP Developer|      003640|2023-01-01 00:00:00|                 sap|      |                    |                    |\n|            policies|                  HR|      003750|2023-01-01 00:00:00|                    |      |                    |                    |\n|                UNIX|               Other|      003754|2023-01-01 00:00:00|                    |      |                    |                    |\n| in: eLearning de...|               Other|      003773|2023-01-01 00:00:00|                    |      |                    |                    |\n|        consultation|               Other|      003797|2023-01-01 00:00:00|                    |      |                    |                    |\n|              leaves|                Arts|      003811|2023-01-01 00:00:00|                    |      |                    |                    |\n| </span> <span cl...|        Data Science|      003818|2023-01-01 00:00:00|                    |      |                    |                    |\n| answering questi...|               Sales|      003842|2023-01-01 00:00:00|                    |      |                    |                    |\n| </span> <span cl...|                  HR|      003901|2023-01-01 00:00:00|                    |      |                    |                    |\n| </span> <span st...|               Other|      003907|2023-01-01 00:00:00|                    |      |                    |                    |\n| </span> <span cl...|               Other|      003931|2023-01-01 00:00:00|                    |      |                    |                    |\n|         SENIOR H...|                  HR|      003942|2023-01-01 00:00:00|excel, peopleSoft...|      |                    |            Bachelor|\n| ISO and FDA regu...|               Other|      003960|2023-01-01 00:00:00|                    |      |                    |                    |\n| </li> <li> Agenc...|  Automation Testing|      004038|2023-01-01 00:00:00|                    |      |                    |                    |\n| administrative a...|               Other|      004064|2023-01-01 00:00:00|                    |      |                    |                    |\n|\"         HR EXEC...|                  HR|      004071|2023-01-01 00:00:00|                    |      |                    |                 MBA|\n|   State      Pla...|                Arts|      004091|2023-01-01 00:00:00|                    |      |                    |                    |\n|          Accounting|          Accounting|      004119|2023-01-01 00:00:00|                    |      |                    |                    |\n| </span> <span cl...|                  HR|      004200|2023-01-01 00:00:00|                    |      |                    |                    |\n| </span> <span cl...|               Other|      004242|2023-01-01 00:00:00|                    |      |                    |                    |\n| </span> <span cl...|            Advocate|      004279|2023-01-01 00:00:00|                    |      |                    |                    |\n|         Advertising|               Other|      004285|2023-01-01 00:00:00|                    |      |                    |                    |\n| concerns and int...|        Data Science|      004303|2023-01-01 00:00:00|                    |      |                    |                    |\n|            Benefits|               Other|      004314|2023-01-01 00:00:00|                    |      |                    |                    |\n|       in: eLearning|               Other|      004315|2023-01-01 00:00:00|                    |      |                    |                    |\n| 2 years as a Stu...|               Other|      004318|2023-01-01 00:00:00|                    |      |                    |                    |\n|      Sabine Kaschta|               Other|      004389|2023-01-01 00:00:00|                    |      |                    |                    |\n| </span> <span cl...|                  HR|      004421|2023-01-01 00:00:00|                    |      |                    |                    |\n|               Excel|          Accounting|      004423|2023-01-01 00:00:00|               excel|      |                    |                    |\n|         posters   \"|   Software Engineer|      004429|2023-01-01 00:00:00|                    |      |                    |                    |\n|              budget|               Other|      004480|2023-01-01 00:00:00|                    |      |                    |                    |\n|                 C++|      Java Developer|      004595|2023-01-01 00:00:00|                   c|      |                    |                    |\n| which will be av...|                  HR|      004628|2023-01-01 00:00:00|                    |      |                    |                    |\n|       data analysis|        Data Science|      004630|2023-01-01 00:00:00|                    |      |                    |                    |\n|         Advertising|               Other|      004641|2023-01-01 00:00:00|                    |      |                    |                    |\n|         in: Redbook|               Other|      004648|2023-01-01 00:00:00|                    |      |                    |                    |\n| I possess over 6...|               Other|      004852|2023-01-01 00:00:00|                    |      |                    |                    |\n|\"         DIRECTO...|                  HR|      004860|2023-01-01 00:00:00|          leadership|      |                    |                    |\n| administrative s...|               Other|      004861|2023-01-01 00:00:00|                    |      |                    |                    |\n| employee and lab...|               Other|      004911|2023-01-01 00:00:00|                    |      |                    |                    |\n| Pre-Employment T...|               Other|      005010|2023-01-01 00:00:00|                    |      |                    |                    |\n| </span> <span cl...|               Other|      005065|2023-01-01 00:00:00|                    |      |                    |                    |\n|          PeopleSoft|               Other|      005090|2023-01-01 00:00:00|          peopleSoft|      |                    |                    |\n|\"         GLOBAL ...|       SAP Developer|      005105|2023-01-01 00:00:00|excel, leadership...|      |                    |                    |\n|        consultation|               Other|      005171|2023-01-01 00:00:00|                    |      |                    |                    |\n|  Processing Payroll|                  HR|      005215|2023-01-01 00:00:00|                    |      |                    |                    |\n|  Processing Payroll|                  HR|      005232|2023-01-01 00:00:00|                    |      |                    |                    |\n| </span> <span cl...|               Other|      005272|2023-01-01 00:00:00|                    |      |                    |                    |\n|\"         HR MANA...|                  HR|      005276|2023-01-01 00:00:00|communication, le...|      |                    |                    |\n|         \n\n*** WARNING: max output size exceeded, skipping output. ***\n\n       |\n| </span> <span cl...|               Other|      013700|2023-01-01 00:00:00|                    |      |                    |                    |\n|        Pharmacology|               Other|      013824|2023-01-01 00:00:00|                    |      |                    |                    |\n| BSM/HRM  :   Bus...|               Other|      013849|2023-01-01 00:00:00|                    |      |                    |                    |\n| organizing perso...|               Other|      013854|2023-01-01 00:00:00|                    |      |                    |                    |\n|         HR SPECI...|                  HR|      013876|2023-01-01 00:00:00|communication, ex...|      |                    |            Bachelor|\n|         HR MANAG...|                  HR|      013878|2023-01-01 00:00:00|communication, de...|      |                    |    Master, Bachelor|\n|            MS Excel|               Other|      013925|2023-01-01 00:00:00|               excel|      |                    |                    |\n|           Notepad++|               Other|      013933|2023-01-01 00:00:00|                    |      |                    |                    |\n| </span> <span cl...|                  HR|      013936|2023-01-01 00:00:00|                    |      |                    |                    |\n|                Avid|               Other|      013954|2023-01-01 00:00:00|                    |      |                    |                    |\n|           transfers|               Other|      013966|2023-01-01 00:00:00|                    |      |                    |                    |\n| involving survey...|Network Security ...|      013988|2023-01-01 00:00:00|                    |      |                    |                    |\n| </span> <span cl...|               Other|      014014|2023-01-01 00:00:00|                    |      |                    |                    |\n| </span> <span cl...|               Other|      014022|2023-01-01 00:00:00|                    |      |                    |                    |\n|         HR DIREC...|   Software Engineer|      014104|2023-01-01 00:00:00|communication, le...|      |                    |              master|\n|           GRAPHI...|  Operations Manager|      014133|2023-01-01 00:00:00|collaboration, co...|      |                    |                    |\n| </span> <span cl...|                  HR|      014176|2023-01-01 00:00:00|                    |      |                    |                    |\n|         FLORAL D...|  Operations Manager|      014180|2023-01-01 00:00:00|communication, le...|      |                    |                    |\n|        compensation|               Other|      014222|2023-01-01 00:00:00|                    |      |                    |                    |\n| </span> <span cl...|               Other|      014288|2023-01-01 00:00:00|                    |      |                    |                    |\n|             Closing|               Other|      014289|2023-01-01 00:00:00|                    |      |                    |                    |\n|              agency|               Other|      014321|2023-01-01 00:00:00|                    |      |                    |                    |\n| </span> <span cl...|               Other|      014356|2023-01-01 00:00:00|                    |      |                    |                    |\n|          horsepower|               Other|      014388|2023-01-01 00:00:00|                    |      |                    |                    |\n| Family &amp; Mat...|               Other|      014390|2023-01-01 00:00:00|                    |      |                    |                    |\n|   1982    Univer...|               Other|      014400|2023-01-01 00:00:00|                    |      |                    |                    |\n| several producti...|               Other|      014447|2023-01-01 00:00:00|                    |      |                    |                    |\n| Coding and Unit ...|               Other|      014455|2023-01-01 00:00:00|        unit testing|      |                    |                    |\n| </span> <span cl...|               Other|      014457|2023-01-01 00:00:00|                    |      |https://schema.or...|                    |\n| </span> <span cl...|               Other|      014477|2023-01-01 00:00:00|                    |      |                    |                    |\n| which will be av...|                  HR|      014488|2023-01-01 00:00:00|                    |      |                    |                    |\n| policies and pro...|               Other|      014491|2023-01-01 00:00:00|                    |      |                    |                    |\n| performing HR du...|               Other|      014611|2023-01-01 00:00:00|                    |      |                    |                    |\n| </span> <span cl...|                Arts|      014737|2023-01-01 00:00:00|                    |      |                    |                    |\n| and Spanish     ...|               Other|      014834|2023-01-01 00:00:00|                    |      |                    |                    |\n| thus increased c...|                  HR|      014838|2023-01-01 00:00:00|                    |      |                    |                    |\n| Coding and Unit ...|               Other|      015028|2023-01-01 00:00:00|        unit testing|      |                    |                    |\n| </span> <span cl...|            Advocate|      015045|2023-01-01 00:00:00|                    |      |                    |                    |\n| time management ...|               Other|      015057|2023-01-01 00:00:00|     time management|      |                    |                    |\n| </span> <span cl...|               Other|      015064|2023-01-01 00:00:00|                    |      |                    |                    |\n|         SENIOR H...|  Health and Fitness|      015080|2023-01-01 00:00:00|leadership, negot...|      |                    |            Bachelor|\n|  employee and la...|Network Security ...|      015086|2023-01-01 00:00:00|                    |      |                    |                    |\n| annual income gr...|                  HR|      015143|2023-01-01 00:00:00|                    |      |                    |                    |\n|         HR COORD...|                  HR|      015195|2023-01-01 00:00:00|          leadership|      |                    |                 MBA|\n| </span> <span cl...|               Other|      015199|2023-01-01 00:00:00|                    |      |                    |                    |\n|              dental|               Other|      015309|2023-01-01 00:00:00|                    |      |                    |                    |\n| </span> <span cl...|            Advocate|      015335|2023-01-01 00:00:00|                    |      |                    |                    |\n|         HR ASSIS...|   Software Engineer|      015341|2023-01-01 00:00:00|communication, ex...|      |                    |                    |\n| </span> <span cl...|        Data Science|      015382|2023-01-01 00:00:00|                    |      |                    |                    |\n|                 C++|      Java Developer|      015387|2023-01-01 00:00:00|                   c|      |                    |                    |\n|   Staffing Agencies|                  HR|      015408|2023-01-01 00:00:00|                    |      |                    |                    |\n| 2015-2017</div> ...|               Other|      015446|2023-01-01 00:00:00|                    |      |                    |                    |\n| </span> <span cl...|               Other|      015480|2023-01-01 00:00:00|                    |      |                    |                    |\n| the director of ...|               Other|      015529|2023-01-01 00:00:00|                    |      |                    |                    |\n|                 ads|    Business Analyst|      015546|2023-01-01 00:00:00|                    |      |                    |                    |\n| Computer Science...|               Other|      015596|2023-01-01 00:00:00|                    |      |                    |                    |\n|   State    Offic...|  Operations Manager|      015622|2023-01-01 00:00:00|          leadership|      |                    |                    |\n|                UNIX|               Other|      015656|2023-01-01 00:00:00|                    |      |                    |                    |\n|          procedures|               Other|      015672|2023-01-01 00:00:00|                    |      |                    |                    |\n|   State       Sp...|                  HR|      015677|2023-01-01 00:00:00|                    |      |                    |                    |\n|         Power Point|               Other|      015727|2023-01-01 00:00:00|                    |      |                    |                    |\n|              emails|               Other|      015746|2023-01-01 00:00:00|                    |      |                    |                    |\n| tool etc Annual ...|  Health and Fitness|      015763|2023-01-01 00:00:00|                    |      |                    |                    |\n|   State     Taki...|               Other|      015805|2023-01-01 00:00:00|                    |      |                    |                    |\n| training and dev...|               Other|      015947|2023-01-01 00:00:00|                    |      |                    |                    |\n| </span> <span cl...|               Other|      015982|2023-01-01 00:00:00|                    |      |                    |                    |\n|            Uniforms|               Other|      016003|2023-01-01 00:00:00|                    |      |                    |                    |\n|               Excel|               Other|      016107|2023-01-01 00:00:00|               excel|      |                    |                    |\n|         Maintenance|               Other|      016135|2023-01-01 00:00:00|                    |      |                    |                    |\n| in: eLearning de...|               Other|      016188|2023-01-01 00:00:00|                    |      |                    |                    |\n| suppliers and in...|        Data Science|      016234|2023-01-01 00:00:00|                    |      |                    |                    |\n| dedicated and fo...|               Other|      016311|2023-01-01 00:00:00|                    |      |                    |                    |\n|               Clerk|               Other|      016321|2023-01-01 00:00:00|                    |      |                    |                    |\n|             Outlook|        Data Science|      016330|2023-01-01 00:00:00|                    |      |                    |                    |\n|   04/2020   to  ...|               Other|      016349|2023-01-01 00:00:00|                    |      |                    |                    |\n| </span> <span cl...|               Other|      016429|2023-01-01 00:00:00|                    |      |                    |                    |\n|.  Partner with r...|        Data Science|      016473|2023-01-01 00:00:00|                    |      |                    |                    |\n| </span> </span> ...|Network Security ...|      016551|2023-01-01 00:00:00|                    |      |https://schema.or...|                    |\n|            MS Excel|               Other|      016553|2023-01-01 00:00:00|               excel|      |                    |                    |\n|           transfers|               Other|      016588|2023-01-01 00:00:00|                    |      |                    |                    |\n|             drawing|               Other|      016615|2023-01-01 00:00:00|                    |      |                    |                    |\n| and speaking at ...|               Other|      016624|2023-01-01 00:00:00|                    |      |                    |                    |\n| </span> <span cl...|          Accounting|      016649|2023-01-01 00:00:00|                    |      |                    |                    |\n| </span> </span> ...|               Other|      016773|2023-01-01 00:00:00|                    |      |https://schema.or...|                    |\n|      easily shipped|               Other|      016778|2023-01-01 00:00:00|                    |      |                    |                    |\n| reaching potenti...|                  HR|      016805|2023-01-01 00:00:00|                    |      |                    |                    |\n| </span> <span cl...|               Other|      016895|2023-01-01 00:00:00|                    |      |                    |                    |\n|      Confluence UML|               Other|      016906|2023-01-01 00:00:00|          confluence|      |                    |                    |\n|      easily shipped|               Other|      016976|2023-01-01 00:00:00|                    |      |                    |                    |\n| appropriately pr...|               Other|      016984|2023-01-01 00:00:00|                    |      |                    |                    |\n| </span> <span cl...|                  HR|      016994|2023-01-01 00:00:00|                    |      |                    |                    |\n|     Problem Solving|               Other|      017004|2023-01-01 00:00:00|     problem solving|      |                    |                    |\n| </span> <span cl...|      Civil Engineer|      017082|2023-01-01 00:00:00|                    |      |                    |                    |\n| </span> <span cl...|               Other|      017155|2023-01-01 00:00:00|                    |      |                    |                    |\n| and responsible ...|               Other|      017206|2023-01-01 00:00:00|                    |      |                    |                    |\n| Computer Science...|               Other|      017209|2023-01-01 00:00:00|                    |      |                    |                    |\n|             Biology|               Other|      017257|2023-01-01 00:00:00|                    |      |                    |                    |\n|    in: DB2 Magazine|               Other|      017297|2023-01-01 00:00:00|                    |      |                    |                    |\n|             Banking|               Other|      017301|2023-01-01 00:00:00|                    |      |                    |                    |\n| </span> </span> ...|               Other|      017398|2023-01-01 00:00:00|                    |      |https://schema.or...|                    |\n|\"<div class=\"\"fon...|               Other|      017422|2023-01-01 00:00:00|                    |      |                    |                    |\n|      Sabine Kaschta|               Other|      017456|2023-01-01 00:00:00|                    |      |                    |                    |\n| resolving employ...|               Other|      017476|2023-01-01 00:00:00|                    |      |                    |                    |\n|        implementing|               Other|      017529|2023-01-01 00:00:00|                    |      |                    |                    |\n|         HR GENER...|                  HR|      017618|2023-01-01 00:00:00|communication, ex...|      |                    |                 MBA|\n| maintaining conf...|               Other|      017621|2023-01-01 00:00:00|                    |      |                    |                    |\n| </span> <span cl...|               Other|      017622|2023-01-01 00:00:00|                    |      |https://schema.or...|                    |\n| developing teamb...|               Other|      017623|2023-01-01 00:00:00|                    |      |                    |                    |\n| hiring managers ...|                  HR|      017664|2023-01-01 00:00:00|                    |      |                    |                    |\n|               Excel|               Other|      017666|2023-01-01 00:00:00|               excel|      |                    |                    |\n| vehicle glider e...| Mechanical Engineer|      017670|2023-01-01 00:00:00|                    |      |                    |                    |\n| based on user fe...|            Database|      017683|2023-01-01 00:00:00|                    |      |                    |                    |\n|  employee and la...|Network Security ...|      017756|2023-01-01 00:00:00|                    |      |                    |                    |\n|  employee relations|               Other|      017762|2023-01-01 00:00:00|                    |      |                    |                    |\n| </span> <span cl...|  Health and Fitness|      017859|2023-01-01 00:00:00|                    |      |                    |                    |\n|       data analysis|        Data Science|      017861|2023-01-01 00:00:00|                    |      |                    |                    |\n| </span> <span cl...|               Other|      017883|2023-01-01 00:00:00|                    |      |                    |                    |\n| meeting you at t...|                  HR|      017939|2023-01-01 00:00:00|                    |      |                    |                    |\n| Inventory (PO/PR...|                  HR|      017964|2023-01-01 00:00:00|                    |      |                    |                    |\n|              Dental|               Other|      017989|2023-01-01 00:00:00|                    |      |                    |                    |\n| </span> <span cl...|        Data Science|      018001|2023-01-01 00:00:00|                    |      |                    |                    |\n| tool etc Annual ...|  Health and Fitness|      018017|2023-01-01 00:00:00|                    |      |                    |                    |\n|              budget|               Other|      018025|2023-01-01 00:00:00|                    |      |                    |                    |\n|              Arabic|               Other|      018071|2023-01-01 00:00:00|                    |      |                    |                    |\n|              dental|               Other|      018135|2023-01-01 00:00:00|                    |      |                    |                    |\n| License number  ...|               Other|      018183|2023-01-01 00:00:00|                    |      |                    |                    |\n|   Newsletter pro...|               Other|      018188|2023-01-01 00:00:00|                    |      |                    |                    |\n|   Agency Automation|  Automation Testing|      018190|2023-01-01 00:00:00|                    |      |                    |                    |\n|            benefits|               Other|      018199|2023-01-01 00:00:00|                    |      |                    |                    |\n| time management ...|               Other|      018236|2023-01-01 00:00:00|     time management|      |                    |                    |\n|      special events|               Other|      018255|2023-01-01 00:00:00|                    |      |                    |                    |\n| </span> <span cl...|Network Security ...|      018268|2023-01-01 00:00:00|                    |      |                    |                    |\n| accounts receivable|               Other|      018310|2023-01-01 00:00:00|                    |      |                    |                    |\n| </span> <span cl...|               Other|      018325|2023-01-01 00:00:00|                    |      |                    |                    |\n| Inc. in talent m...|               Other|      018354|2023-01-01 00:00:00|                    |      |                    |                    |\n| development plan...|               Other|      018376|2023-01-01 00:00:00|                    |      |                    |                    |\n| </span> <span cl...|   Software Engineer|      018413|2023-01-01 00:00:00|                    |      |                    |                    |\n| Pre-Employment T...|               Other|      018455|2023-01-01 00:00:00|                    |      |                    |                    |\n| BSM/HRM</span> <...|               Other|      018538|2023-01-01 00:00:00|                    |      |                    |                    |\n| </span> <span cl...|                  HR|      018551|2023-01-01 00:00:00|                    |      |                    |                    |\n| </span> <span cl...|               Other|      018605|2023-01-01 00:00:00|                    |      |                    |                    |\n|             drawing|               Other|      018677|2023-01-01 00:00:00|                    |      |                    |                    |\n|                Avid|               Other|      018707|2023-01-01 00:00:00|                    |      |                    |                    |\n|         REGIONAL...|            Advocate|      018709|2023-01-01 00:00:00|leadership, peopl...|      |                    |    Master, Bachelor|\n| including experi...|                  HR|      018731|2023-01-01 00:00:00|                    |      |                    |                    |\n|              faxing|               Other|      018756|2023-01-01 00:00:00|                    |      |                    |                    |\n| developing teamb...|               Other|      018758|2023-01-01 00:00:00|                    |      |                    |                    |\n|         INSTRUCT...|  Health and Fitness|      018784|2023-01-01 00:00:00|   communication, go|      |                    |              Master|\n| or those who use...|               Other|      018786|2023-01-01 00:00:00|                    |      |                    |                    |\n|            MS Excel|               Other|      018803|2023-01-01 00:00:00|               excel|      |                    |                    |\n|         ASSISTAN...|                  HR|      018818|2023-01-01 00:00:00|collaboration, co...|      |www.linkedin.com/...|MBA, Bachelor, ma...|\n| </span> <span cl...|                  HR|      018829|2023-01-01 00:00:00|                    |      |                    |                    |\n|      dependent care|               Other|      019009|2023-01-01 00:00:00|                    |      |                    |                    |\n| </span> <span cl...|                  HR|      019055|2023-01-01 00:00:00|                    |      |                    |                    |\n| </span> <span cl...|               Other|      019131|2023-01-01 00:00:00|                    |      |                    |                    |\n|\"         SENIOR ...|                  HR|      019146|2023-01-01 00:00:00|       communication|      |                    |                    |\n| </span> <span cl...|       SAP Developer|      019181|2023-01-01 00:00:00|                 sap|      |                    |                    |\n|        compensation|               Other|      019226|2023-01-01 00:00:00|                    |      |                    |                    |\n| </span> <span cl...|        Data Science|      019275|2023-01-01 00:00:00|                    |      |                    |                    |\n| </span> <span cl...|               Other|      019300|2023-01-01 00:00:00|                    |      |                    |                    |\n| </span> <span cl...|        Data Science|      019357|2023-01-01 00:00:00|                    |      |                    |                    |\n| </span> <span cl...|               Other|      019407|2023-01-01 00:00:00|                    |      |                    |                    |\n|              driven|               Other|      019439|2023-01-01 00:00:00|                    |      |                    |                    |\n|          automation|  Automation Testing|      019453|2023-01-01 00:00:00|                    |      |                    |                    |\n| development plan...|               Other|      019463|2023-01-01 00:00:00|                    |      |                    |                    |\n|               Excel|               Other|      019506|2023-01-01 00:00:00|               excel|      |                    |                    |\n|  Data entry systems|        Data Science|      019551|2023-01-01 00:00:00|                    |      |                    |                    |\n| Local Chapter of...|               Other|      019560|2023-01-01 00:00:00|                    |      |                    |                    |\n| and LinkedIn Sea...|               Other|      019562|2023-01-01 00:00:00|                    |      |                    |                    |\n+--------------------+--------------------+------------+-------------------+--------------------+------+--------------------+--------------------+\n\n"
     ]
    }
   ],
   "source": [
    "df_parsed.show(1000)"
   ]
  },
  {
   "cell_type": "code",
   "execution_count": 0,
   "metadata": {
    "application/vnd.databricks.v1+cell": {
     "cellMetadata": {
      "byteLimit": 2048000,
      "rowLimit": 10000
     },
     "inputWidgets": {},
     "nuid": "ccfcef81-efe4-4940-9611-7badc4ee56d6",
     "showTitle": false,
     "tableResultSettingsMap": {},
     "title": ""
    }
   },
   "outputs": [
    {
     "output_type": "execute_result",
     "data": {
      "text/plain": [
       "DataFrame[summary: string, Resume: string, Category: string, candidate_id: string, skills: string, emails: string, urls: string, education_level: string]"
      ]
     },
     "execution_count": 14,
     "metadata": {},
     "output_type": "execute_result"
    }
   ],
   "source": [
    "df_parsed.describe()"
   ]
  },
  {
   "cell_type": "code",
   "execution_count": 0,
   "metadata": {
    "application/vnd.databricks.v1+cell": {
     "cellMetadata": {
      "byteLimit": 2048000,
      "rowLimit": 10000
     },
     "inputWidgets": {},
     "nuid": "be0c5916-d01b-4b51-ab2b-56fc8b5d0aa1",
     "showTitle": false,
     "tableResultSettingsMap": {},
     "title": ""
    }
   },
   "outputs": [],
   "source": [
    "from pyspark.sql.functions import col, length, when, regexp_replace\n",
    "\n",
    "special_chars_pattern = r\"[<>&%$#@!{}\\[\\]\\\\|^~`]\"\n",
    "\n",
    "special_chars_condition = (\n",
    "    (length(col(\"Resume\")) - length(regexp_replace(col(\"Resume\"), special_chars_pattern, \"\"))) > 50\n",
    ")\n",
    "\n",
    "empty_extracted_fields = (\n",
    "    (col(\"skills\").isNull() | (col(\"skills\") == \"\")) &\n",
    "    (col(\"emails\").isNull() | (col(\"emails\") == \"\")) &\n",
    "    (col(\"urls\").isNull() | (col(\"urls\") == \"\")) &\n",
    "    (col(\"education_level\").isNull() | (col(\"education_level\") == \"\"))\n",
    ")\n",
    "\n",
    "df_filtered = df_parsed.withColumn(\n",
    "    \"is_usable\",\n",
    "    (~(length(col(\"Resume\")) < 100) &              # Resume length >= 100\n",
    "     (~special_chars_condition) &                  # Not too many special chars\n",
    "     (~empty_extracted_fields))                    # At least one extracted field not empty\n",
    ")\n"
   ]
  },
  {
   "cell_type": "code",
   "execution_count": 0,
   "metadata": {
    "application/vnd.databricks.v1+cell": {
     "cellMetadata": {
      "byteLimit": 2048000,
      "rowLimit": 10000
     },
     "inputWidgets": {},
     "nuid": "b7c3d561-a76a-460c-8250-487b22a0870c",
     "showTitle": false,
     "tableResultSettingsMap": {},
     "title": ""
    }
   },
   "outputs": [
    {
     "output_type": "stream",
     "name": "stdout",
     "output_type": "stream",
     "text": [
      "+--------------------+--------------------+------------+-------------------+--------------------+------+--------------------+--------------------+---------+\n|              Resume|            Category|candidate_id|        upload_date|              skills|emails|                urls|     education_level|is_usable|\n+--------------------+--------------------+------------+-------------------+--------------------+------+--------------------+--------------------+---------+\n| a Christian maga...|               Other|      000038|2023-01-01 00:00:00|                    |      |                    |                    |    false|\n| experienced desi...|               Other|      000047|2023-01-01 00:00:00|                    |      |                    |                    |    false|\n|                 ADP|               Other|      000052|2023-01-01 00:00:00|                    |      |                    |                    |    false|\n|         HR SPECI...|                  HR|      000077|2023-01-01 00:00:00|  communication, sap|      |                    |                    |     true|\n|               forms|               Other|      000090|2023-01-01 00:00:00|                    |      |                    |                    |    false|\n| </span> <span cl...|               Other|      000099|2023-01-01 00:00:00|                    |      |                    |                    |    false|\n| </span> <span cl...|               Other|      000135|2023-01-01 00:00:00|                    |      |                    |                    |    false|\n| performing HR du...|               Other|      000204|2023-01-01 00:00:00|                    |      |                    |                    |    false|\n| 2015-2017      S...|               Other|      000237|2023-01-01 00:00:00|                    |      |                    |                    |    false|\n|              faxing|               Other|      000240|2023-01-01 00:00:00|                    |      |                    |                    |    false|\n| updated personne...|               Other|      000256|2023-01-01 00:00:00|                    |      |                    |                    |    false|\n|   State      GPA...|               Other|      000301|2023-01-01 00:00:00|                    |      |                    |                    |    false|\n|               Excel|               Other|      000344|2023-01-01 00:00:00|               excel|      |                    |                    |    false|\n|\"         HR EXEC...|                  HR|      000448|2023-01-01 00:00:00|       communication|      |                    |            MBA, B.E|     true|\n|  employee relations|               Other|      000479|2023-01-01 00:00:00|                    |      |                    |                    |    false|\n| </span> <span cl...|                  HR|      000494|2023-01-01 00:00:00|                    |      |                    |                    |    false|\n| the director of ...|               Other|      000511|2023-01-01 00:00:00|                    |      |                    |                    |    false|\n|             drawing|               Other|      000528|2023-01-01 00:00:00|                    |      |                    |                    |    false|\n| including experi...|               Other|      000634|2023-01-01 00:00:00|                    |      |                    |                    |    false|\n| </span> <span cl...|                  HR|      000652|2023-01-01 00:00:00|                    |      |                    |                    |    false|\n|  working conditions|               Other|      000657|2023-01-01 00:00:00|                    |      |                    |                    |    false|\n| establishing ban...|   Software Engineer|      000666|2023-01-01 00:00:00|                    |      |                    |                    |    false|\n|   State         ...|               Other|      000675|2023-01-01 00:00:00|                    |      |                    |                    |    false|\n| </span> <span cl...|               Other|      000691|2023-01-01 00:00:00|          leadership|      |                    |                    |     true|\n|      Career Builder|               Other|      000705|2023-01-01 00:00:00|                    |      |                    |                    |    false|\n|   State       De...|                  HR|      000722|2023-01-01 00:00:00|                    |      |                    |                    |    false|\n|               forms|               Other|      000773|2023-01-01 00:00:00|                    |      |                    |                    |    false|\n| deliver expected...|               Other|      000793|2023-01-01 00:00:00|                    |      |                    |                    |    false|\n|               Excel|               Other|      000798|2023-01-01 00:00:00|               excel|      |                    |                    |    false|\n|         HR ASSOC...|                  HR|      000832|2023-01-01 00:00:00|          excel, sap|      |                    |                    |     true|\n|   State      Ass...|               Other|      000843|2023-01-01 00:00:00|                    |      |                    |                    |    false|\n|           new hires|               Other|      000847|2023-01-01 00:00:00|                    |      |                    |                    |    false|\n| </span> <span cl...|               Other|      000865|2023-01-01 00:00:00|                    |      |                    |                    |    false|\n|               Excel|               Other|      000871|2023-01-01 00:00:00|               excel|      |                    |                    |    false|\n|\"         HR MANA...|                  HR|      000964|2023-01-01 00:00:00|          leadership|      |                    |                    |     true|\n| and creating str...|                  HR|      000994|2023-01-01 00:00:00|                    |      |https://schema.or...|                    |    false|\n| </span> <span cl...|               Other|      000997|2023-01-01 00:00:00|                    |      |                    |                    |    false|\n|          streamline|               Other|      001000|2023-01-01 00:00:00|                    |      |                    |                    |    false|\n| </span> <span cl...|                  HR|      001086|2023-01-01 00:00:00|                    |      |                    |                    |    false|\n|.</li> <li> Partn...|        Data Science|      001091|2023-01-01 00:00:00|                    |      |                    |                    |    false|\n| </span> <span cl...|          Accounting|      001136|2023-01-01 00:00:00|                    |      |                    |                    |    false|\n|              agency|               Other|      001140|2023-01-01 00:00:00|                    |      |                    |                    |    false|\n|   coaching sessions|               Other|      001187|2023-01-01 00:00:00|                    |      |                    |                    |    false|\n|             Closing|               Other|      001215|2023-01-01 00:00:00|                    |      |                    |                    |    false|\n| </span> <span cl...|               Other|      001216|2023-01-01 00:00:00|                    |      |                    |                    |    false|\n| </span> <span cl...|               Other|      001227|2023-01-01 00:00:00|                    |      |                    |                    |    false|\n| LinkedIn X-ray s...|               Other|      001242|2023-01-01 00:00:00|                    |      |                    |                    |    false|\n| Local Chapter of...|               Other|      001251|2023-01-01 00:00:00|                    |      |                    |                    |    false|\n|\"         HR MANA...|                  HR|      001276|2023-01-01 00:00:00|excel, leadership...|      |                    |                    |     true|\n| Resourceful Huma...|               Other|      001299|2023-01-01 00:00:00|                    |      |                    |                    |    false|\n|      Confluence UML|               Other|      001323|2023-01-01 00:00:00|          confluence|      |                    |                    |    false|\n| including mentor...|               Other|      001455|2023-01-01 00:00:00|                    |      |                    |                    |    false|\n| </span> <span cl...|               Other|      001485|2023-01-01 00:00:00|                    |      |                    |                    |    false|\n|   State       Re...|                  HR|      001534|2023-01-01 00:00:00|                    |      |                    |                    |    false|\n| vehicle glider e...| Mechanical Engineer|      001547|2023-01-01 00:00:00|                    |      |                    |                    |    false|\n| </span> <span cl...|            Advocate|      001591|2023-01-01 00:00:00|                    |      |                    |                    |    false|\n|         HR ASSIS...|                  HR|      001734|2023-01-01 00:00:00|communication, cr...|      |                    |            BACHELOR|     true|\n| National Associa...|            Advocate|      001816|2023-01-01 00:00:00|                    |      |                    |                    |    false|\n| </span> <span cl...|               Other|      001837|2023-01-01 00:00:00|                    |      |                    |                    |    false|\n|     Plan Force-Outs|            Advocate|      001841|2023-01-01 00:00:00|                    |      |                    |                    |    false|\n| </span> <span cl...|               Other|      001873|2023-01-01 00:00:00|                    |      |                    |                    |    false|\n| 2013</span> </sp...|                Arts|      001886|2023-01-01 00:00:00|                    |      |                    |                 MBA|     true|\n|              agency|               Other|      001896|2023-01-01 00:00:00|                    |      |                    |                    |    false|\n|\"         HR CONS...|            Advocate|      001933|2023-01-01 00:00:00|      go, leadership|      |                    |                    |     true|\n|  but not limited to|               Other|      001962|2023-01-01 00:00:00|                    |      |                    |                    |    false|\n|         HR PAYRO...|  Operations Manager|      001970|2023-01-01 00:00:00|communication, ex...|      |                    |                    |     true|\n| </span> <span cl...|               Other|      001998|2023-01-01 00:00:00|                    |      |                    |                    |    false|\n|         3D modeling|               Other|      002019|2023-01-01 00:00:00|                    |      |                    |                    |    false|\n|         HR GENER...|                  HR|      002045|2023-01-01 00:00:00|communication, ex...|      |http://beknown.co...|            Bachelor|     true|\n|\"<div class=\"\"fon...|               Other|      002095|2023-01-01 00:00:00|                    |      |                    |                    |    false|\n|              vision|               Other|      002109|2023-01-01 00:00:00|                    |      |                    |                    |    false|\n| </span> <span cl...|                Arts|      002117|2023-01-01 00:00:00|                    |      |                    |                    |    false|\n|\"         HR & SA...|                  HR|      002136|2023-01-01 00:00:00|                    |      |                    |                    |    false|\n|        drug testing|               Other|      002192|2023-01-01 00:00:00|                    |      |                    |                    |    false|\n|  working conditions|               Other|      002232|2023-01-01 00:00:00|                    |      |                    |                    |    false|\n|              verify|                  HR|      002239|2023-01-01 00:00:00|                    |      |                    |                    |    false|\n|               Excel|          Accounting|      002244|2023-01-01 00:00:00|               excel|      |                    |                    |    false|\n|\"         HR MANA...|            Advocate|      002317|2023-01-01 00:00:00|excel, illustrato...|      |                    |                    |     true|\n|   instructional ...|               Other|      002368|2023-01-01 00:00:00|                    |      |                    |                    |    false|\n|         DESIGNER...|   Software Engineer|      002378|2023-01-01 00:00:00|communication, ex...|      |                    |                    |     true|\n|     2015-2017     \"|               Other|      002382|2023-01-01 00:00:00|                    |      |                    |                    |    false|\n| administrative s...|               Other|      002392|2023-01-01 00:00:00|                    |      |                    |                    |    false|\n|          automation|  Automation Testing|      002406|2023-01-01 00:00:00|                    |      |                    |                    |    false|\n| </span> <span cl...|            Advocate|      002478|2023-01-01 00:00:00|                    |      |                    |                    |    false|\n| LinkedIn X-ray s...|               Other|      002503|2023-01-01 00:00:00|                    |      |                    |                    |    false|\n|             State  |               Other|      002554|2023-01-01 00:00:00|                    |      |                    |                    |    false|\n|        implementing|               Other|      002558|2023-01-01 00:00:00|                    |      |                    |                    |    false|\n|   State       Se...|        Data Science|      002570|2023-01-01 00:00:00|                    |      |                    |                    |    false|\n|               Excel|               Other|      002571|2023-01-01 00:00:00|               excel|      |                    |                    |    false|\n|            Benefits|        Data Science|      002621|2023-01-01 00:00:00|                    |      |                    |                    |    false|\n| performance reviews|               Other|      002642|2023-01-01 00:00:00|                    |      |                    |                    |    false|\n| a Christian maga...|               Other|      002653|2023-01-01 00:00:00|                    |      |                    |                    |    false|\n|          streamline|               Other|      002660|2023-01-01 00:00:00|                    |      |                    |                    |    false|\n|         HR SHARE...|                  HR|      002668|2023-01-01 00:00:00|     peopleSoft, sap|      |                    |                    |     true|\n|     detail-oriented|               Other|      002720|2023-01-01 00:00:00|                    |      |                    |                    |    false|\n| appropriately pr...|               Other|      002776|2023-01-01 00:00:00|                    |      |                    |                    |    false|\n|            benefits|               Other|      002800|2023-01-01 00:00:00|                    |      |                    |                    |    false|\n| &amp; VLookup)</...|               Other|      002850|2023-01-01 00:00:00|                    |      |                    |                    |    false|\n| content owners a...|               Other|      002932|2023-01-01 00:00:00|                    |      |                    |                    |    false|\n| </span> <span cl...|               Other|      002938|2023-01-01 00:00:00|       communication|      |                    |                    |     true|\n| including classr...|               Other|      002989|2023-01-01 00:00:00|                    |      |                    |                    |    false|\n| Administrative A...|               Other|      003037|2023-01-01 00:00:00|                    |      |                    |                    |    false|\n|         HR SPECI...|                  HR|      003124|2023-01-01 00:00:00|communication, cr...|      |                    |            Bachelor|     true|\n|            benefits|               Other|      003177|2023-01-01 00:00:00|                    |      |                    |                    |    false|\n|              budget|               Other|      003290|2023-01-01 00:00:00|                    |      |                    |                    |    false|\n| </span> <span cl...|               Other|      003317|2023-01-01 00:00:00|                    |      |                    |                    |    false|\n| including experi...|               Other|      003337|2023-01-01 00:00:00|                    |      |                    |                    |    false|\n| several producti...|               Other|      003406|2023-01-01 00:00:00|                    |      |                    |                    |    false|\n|         orientation|               Other|      003407|2023-01-01 00:00:00|                    |      |                    |                    |    false|\n|         bookkeeping|Network Security ...|      003419|2023-01-01 00:00:00|                    |      |                    |                    |    false|\n| </span> <span cl...|               Other|      003440|2023-01-01 00:00:00|                    |      |                    |                    |    false|\n|   State     Help...|               Other|      003532|2023-01-01 00:00:00|                    |      |                    |                    |    false|\n|              verify|                  HR|      003540|2023-01-01 00:00:00|                    |      |                    |                    |    false|\n|           new hires|               Other|      003547|2023-01-01 00:00:00|                    |      |                    |                    |    false|\n| </span> <span cl...|               Other|      003608|2023-01-01 00:00:00|                    |      |                    |                    |    false|\n|         HR ASSIS...|                  HR|      003615|2023-01-01 00:00:00|c, excel, sap, ti...|      |                    |                    |     true|\n| 2013     MBA  : ...|                Arts|      003622|2023-01-01 00:00:00|                    |      |                    |                 MBA|    false|\n| </span> <span cl...|                  HR|      003634|2023-01-01 00:00:00|                    |      |                    |                    |    false|\n|   State       Su...|       SAP Developer|      003640|2023-01-01 00:00:00|                 sap|      |                    |                    |     true|\n|            policies|                  HR|      003750|2023-01-01 00:00:00|                    |      |                    |                    |    false|\n|                UNIX|               Other|      003754|2023-01-01 00:00:00|                    |      |                    |                    |    false|\n| in: eLearning de...|               Other|      003773|2023-01-01 00:00:00|                    |      |                    |                    |    false|\n|        consultation|               Other|      003797|2023-01-01 00:00:00|                    |      |                    |                    |    false|\n|              leaves|                Arts|      003811|2023-01-01 00:00:00|                    |      |                    |                    |    false|\n| </span> <span cl...|        Data Science|      003818|2023-01-01 00:00:00|                    |      |                    |                    |    false|\n| answering questi...|               Sales|      003842|2023-01-01 00:00:00|                    |      |                    |                    |    false|\n| </span> <span cl...|                  HR|      003901|2023-01-01 00:00:00|                    |      |                    |                    |    false|\n| </span> <span st...|               Other|      003907|2023-01-01 00:00:00|                    |      |                    |                    |    false|\n| </span> <span cl...|               Other|      003931|2023-01-01 00:00:00|                    |      |                    |                    |    false|\n|         SENIOR H...|                  HR|      003942|2023-01-01 00:00:00|excel, peopleSoft...|      |                    |            Bachelor|     true|\n| ISO and FDA regu...|               Other|      003960|2023-01-01 00:00:00|                    |      |                    |                    |    false|\n| </li> <li> Agenc...|  Automation Testing|      004038|2023-01-01 00:00:00|                    |      |                    |                    |    false|\n| administrative a...|               Other|      004064|2023-01-01 00:00:00|                    |      |                    |                    |    false|\n|\"         HR EXEC...|                  HR|      004071|2023-01-01 00:00:00|                    |      |                    |                 MBA|     true|\n|   State      Pla...|                Arts|      004091|2023-01-01 00:00:00|                    |      |                    |                    |    false|\n|          Accounting|          Accounting|      004119|2023-01-01 00:00:00|                    |      |                    |                    |    false|\n| </span> <span cl...|                  HR|      004200|2023-01-01 00:00:00|                    |      |                    |                    |    false|\n| </span> <span cl...|               Other|      004242|2023-01-01 00:00:00|                    |      |                    |                    |    false|\n| </span> <span cl...|            Advocate|      004279|2023-01-01 00:00:00|                    |      |                    |                    |    false|\n|         Advertising|               Other|      004285|2023-01-01 00:00:00|                    |      |                    |                    |    false|\n| concerns and int...|        Data Science|      004303|2023-01-01 00:00:00|                    |      |                    |                    |    false|\n|            Benefits|               Other|      004314|2023-01-01 00:00:00|                    |      |                    |                    |    false|\n|       in: eLearning|               Other|      004315|2023-01-01 00:00:00|                    |      |                    |                    |    false|\n| 2 years as a Stu...|               Other|      004318|2023-01-01 00:00:00|                    |      |                    |                    |    false|\n|      Sabine Kaschta|               Other|      004389|2023-01-01 00:00:00|                    |      |                    |                    |    false|\n| </span> <span cl...|                  HR|      004421|2023-01-01 00:00:00|                    |      |                    |                    |    false|\n|               Excel|          Accounting|      004423|2023-01-01 00:00:00|               excel|      |                    |                    |    false|\n|         posters   \"|   Software Engineer|      004429|2023-01-01 00:00:00|                    |      |                    |                    |    false|\n|              budget|               Other|      004480|2023-01-01 00:00:00|                    |      |                    |                    |    false|\n|                 C++|      Java Developer|      004595|2023-01-01 00:00:00|                   c|      |                    |                    |    false|\n| which will be av...|                  HR|      004628|2023-01-01 00:00:00|                    |      |                    |                    |    false|\n|       data analysis|        Data Science|      004630|2023-01-01 00:00:00|                    |      |                    |                    |    false|\n|         Advertising|               Other|      004641|2023-01-01 00:00:00|                    |      |                    |                    |    false|\n|         in: Redbook|               Other|      004648|2023-01-01 00:00:00|                    |      |                    |                    |    false|\n| I possess over 6...|               Other|      004852|2023-01-01 00:00:00|                    |      |                    |                    |    false|\n|\"         DIRECTO...|                  HR|      004860|2023-01-01 00:00:00|          leadership|      |                    |                    |     true|\n| administrative s...|               \n\n*** WARNING: max output size exceeded, skipping output. ***\n\n   |                    |    false|\n| involving survey...|Network Security ...|      013988|2023-01-01 00:00:00|                    |      |                    |                    |    false|\n| </span> <span cl...|               Other|      014014|2023-01-01 00:00:00|                    |      |                    |                    |    false|\n| </span> <span cl...|               Other|      014022|2023-01-01 00:00:00|                    |      |                    |                    |    false|\n|         HR DIREC...|   Software Engineer|      014104|2023-01-01 00:00:00|communication, le...|      |                    |              master|     true|\n|           GRAPHI...|  Operations Manager|      014133|2023-01-01 00:00:00|collaboration, co...|      |                    |                    |     true|\n| </span> <span cl...|                  HR|      014176|2023-01-01 00:00:00|                    |      |                    |                    |    false|\n|         FLORAL D...|  Operations Manager|      014180|2023-01-01 00:00:00|communication, le...|      |                    |                    |     true|\n|        compensation|               Other|      014222|2023-01-01 00:00:00|                    |      |                    |                    |    false|\n| </span> <span cl...|               Other|      014288|2023-01-01 00:00:00|                    |      |                    |                    |    false|\n|             Closing|               Other|      014289|2023-01-01 00:00:00|                    |      |                    |                    |    false|\n|              agency|               Other|      014321|2023-01-01 00:00:00|                    |      |                    |                    |    false|\n| </span> <span cl...|               Other|      014356|2023-01-01 00:00:00|                    |      |                    |                    |    false|\n|          horsepower|               Other|      014388|2023-01-01 00:00:00|                    |      |                    |                    |    false|\n| Family &amp; Mat...|               Other|      014390|2023-01-01 00:00:00|                    |      |                    |                    |    false|\n|   1982    Univer...|               Other|      014400|2023-01-01 00:00:00|                    |      |                    |                    |    false|\n| several producti...|               Other|      014447|2023-01-01 00:00:00|                    |      |                    |                    |    false|\n| Coding and Unit ...|               Other|      014455|2023-01-01 00:00:00|        unit testing|      |                    |                    |    false|\n| </span> <span cl...|               Other|      014457|2023-01-01 00:00:00|                    |      |https://schema.or...|                    |    false|\n| </span> <span cl...|               Other|      014477|2023-01-01 00:00:00|                    |      |                    |                    |    false|\n| which will be av...|                  HR|      014488|2023-01-01 00:00:00|                    |      |                    |                    |    false|\n| policies and pro...|               Other|      014491|2023-01-01 00:00:00|                    |      |                    |                    |    false|\n| performing HR du...|               Other|      014611|2023-01-01 00:00:00|                    |      |                    |                    |    false|\n| </span> <span cl...|                Arts|      014737|2023-01-01 00:00:00|                    |      |                    |                    |    false|\n| and Spanish     ...|               Other|      014834|2023-01-01 00:00:00|                    |      |                    |                    |    false|\n| thus increased c...|                  HR|      014838|2023-01-01 00:00:00|                    |      |                    |                    |    false|\n| Coding and Unit ...|               Other|      015028|2023-01-01 00:00:00|        unit testing|      |                    |                    |    false|\n| </span> <span cl...|            Advocate|      015045|2023-01-01 00:00:00|                    |      |                    |                    |    false|\n| time management ...|               Other|      015057|2023-01-01 00:00:00|     time management|      |                    |                    |    false|\n| </span> <span cl...|               Other|      015064|2023-01-01 00:00:00|                    |      |                    |                    |    false|\n|         SENIOR H...|  Health and Fitness|      015080|2023-01-01 00:00:00|leadership, negot...|      |                    |            Bachelor|     true|\n|  employee and la...|Network Security ...|      015086|2023-01-01 00:00:00|                    |      |                    |                    |    false|\n| annual income gr...|                  HR|      015143|2023-01-01 00:00:00|                    |      |                    |                    |    false|\n|         HR COORD...|                  HR|      015195|2023-01-01 00:00:00|          leadership|      |                    |                 MBA|     true|\n| </span> <span cl...|               Other|      015199|2023-01-01 00:00:00|                    |      |                    |                    |    false|\n|              dental|               Other|      015309|2023-01-01 00:00:00|                    |      |                    |                    |    false|\n| </span> <span cl...|            Advocate|      015335|2023-01-01 00:00:00|                    |      |                    |                    |    false|\n|         HR ASSIS...|   Software Engineer|      015341|2023-01-01 00:00:00|communication, ex...|      |                    |                    |     true|\n| </span> <span cl...|        Data Science|      015382|2023-01-01 00:00:00|                    |      |                    |                    |    false|\n|                 C++|      Java Developer|      015387|2023-01-01 00:00:00|                   c|      |                    |                    |    false|\n|   Staffing Agencies|                  HR|      015408|2023-01-01 00:00:00|                    |      |                    |                    |    false|\n| 2015-2017</div> ...|               Other|      015446|2023-01-01 00:00:00|                    |      |                    |                    |    false|\n| </span> <span cl...|               Other|      015480|2023-01-01 00:00:00|                    |      |                    |                    |    false|\n| the director of ...|               Other|      015529|2023-01-01 00:00:00|                    |      |                    |                    |    false|\n|                 ads|    Business Analyst|      015546|2023-01-01 00:00:00|                    |      |                    |                    |    false|\n| Computer Science...|               Other|      015596|2023-01-01 00:00:00|                    |      |                    |                    |    false|\n|   State    Offic...|  Operations Manager|      015622|2023-01-01 00:00:00|          leadership|      |                    |                    |     true|\n|                UNIX|               Other|      015656|2023-01-01 00:00:00|                    |      |                    |                    |    false|\n|          procedures|               Other|      015672|2023-01-01 00:00:00|                    |      |                    |                    |    false|\n|   State       Sp...|                  HR|      015677|2023-01-01 00:00:00|                    |      |                    |                    |    false|\n|         Power Point|               Other|      015727|2023-01-01 00:00:00|                    |      |                    |                    |    false|\n|              emails|               Other|      015746|2023-01-01 00:00:00|                    |      |                    |                    |    false|\n| tool etc Annual ...|  Health and Fitness|      015763|2023-01-01 00:00:00|                    |      |                    |                    |    false|\n|   State     Taki...|               Other|      015805|2023-01-01 00:00:00|                    |      |                    |                    |    false|\n| training and dev...|               Other|      015947|2023-01-01 00:00:00|                    |      |                    |                    |    false|\n| </span> <span cl...|               Other|      015982|2023-01-01 00:00:00|                    |      |                    |                    |    false|\n|            Uniforms|               Other|      016003|2023-01-01 00:00:00|                    |      |                    |                    |    false|\n|               Excel|               Other|      016107|2023-01-01 00:00:00|               excel|      |                    |                    |    false|\n|         Maintenance|               Other|      016135|2023-01-01 00:00:00|                    |      |                    |                    |    false|\n| in: eLearning de...|               Other|      016188|2023-01-01 00:00:00|                    |      |                    |                    |    false|\n| suppliers and in...|        Data Science|      016234|2023-01-01 00:00:00|                    |      |                    |                    |    false|\n| dedicated and fo...|               Other|      016311|2023-01-01 00:00:00|                    |      |                    |                    |    false|\n|               Clerk|               Other|      016321|2023-01-01 00:00:00|                    |      |                    |                    |    false|\n|             Outlook|        Data Science|      016330|2023-01-01 00:00:00|                    |      |                    |                    |    false|\n|   04/2020   to  ...|               Other|      016349|2023-01-01 00:00:00|                    |      |                    |                    |    false|\n| </span> <span cl...|               Other|      016429|2023-01-01 00:00:00|                    |      |                    |                    |    false|\n|.  Partner with r...|        Data Science|      016473|2023-01-01 00:00:00|                    |      |                    |                    |    false|\n| </span> </span> ...|Network Security ...|      016551|2023-01-01 00:00:00|                    |      |https://schema.or...|                    |     true|\n|            MS Excel|               Other|      016553|2023-01-01 00:00:00|               excel|      |                    |                    |    false|\n|           transfers|               Other|      016588|2023-01-01 00:00:00|                    |      |                    |                    |    false|\n|             drawing|               Other|      016615|2023-01-01 00:00:00|                    |      |                    |                    |    false|\n| and speaking at ...|               Other|      016624|2023-01-01 00:00:00|                    |      |                    |                    |    false|\n| </span> <span cl...|          Accounting|      016649|2023-01-01 00:00:00|                    |      |                    |                    |    false|\n| </span> </span> ...|               Other|      016773|2023-01-01 00:00:00|                    |      |https://schema.or...|                    |     true|\n|      easily shipped|               Other|      016778|2023-01-01 00:00:00|                    |      |                    |                    |    false|\n| reaching potenti...|                  HR|      016805|2023-01-01 00:00:00|                    |      |                    |                    |    false|\n| </span> <span cl...|               Other|      016895|2023-01-01 00:00:00|                    |      |                    |                    |    false|\n|      Confluence UML|               Other|      016906|2023-01-01 00:00:00|          confluence|      |                    |                    |    false|\n|      easily shipped|               Other|      016976|2023-01-01 00:00:00|                    |      |                    |                    |    false|\n| appropriately pr...|               Other|      016984|2023-01-01 00:00:00|                    |      |                    |                    |    false|\n| </span> <span cl...|                  HR|      016994|2023-01-01 00:00:00|                    |      |                    |                    |    false|\n|     Problem Solving|               Other|      017004|2023-01-01 00:00:00|     problem solving|      |                    |                    |    false|\n| </span> <span cl...|      Civil Engineer|      017082|2023-01-01 00:00:00|                    |      |                    |                    |    false|\n| </span> <span cl...|               Other|      017155|2023-01-01 00:00:00|                    |      |                    |                    |    false|\n| and responsible ...|               Other|      017206|2023-01-01 00:00:00|                    |      |                    |                    |    false|\n| Computer Science...|               Other|      017209|2023-01-01 00:00:00|                    |      |                    |                    |    false|\n|             Biology|               Other|      017257|2023-01-01 00:00:00|                    |      |                    |                    |    false|\n|    in: DB2 Magazine|               Other|      017297|2023-01-01 00:00:00|                    |      |                    |                    |    false|\n|             Banking|               Other|      017301|2023-01-01 00:00:00|                    |      |                    |                    |    false|\n| </span> </span> ...|               Other|      017398|2023-01-01 00:00:00|                    |      |https://schema.or...|                    |     true|\n|\"<div class=\"\"fon...|               Other|      017422|2023-01-01 00:00:00|                    |      |                    |                    |    false|\n|      Sabine Kaschta|               Other|      017456|2023-01-01 00:00:00|                    |      |                    |                    |    false|\n| resolving employ...|               Other|      017476|2023-01-01 00:00:00|                    |      |                    |                    |    false|\n|        implementing|               Other|      017529|2023-01-01 00:00:00|                    |      |                    |                    |    false|\n|         HR GENER...|                  HR|      017618|2023-01-01 00:00:00|communication, ex...|      |                    |                 MBA|     true|\n| maintaining conf...|               Other|      017621|2023-01-01 00:00:00|                    |      |                    |                    |    false|\n| </span> <span cl...|               Other|      017622|2023-01-01 00:00:00|                    |      |https://schema.or...|                    |     true|\n| developing teamb...|               Other|      017623|2023-01-01 00:00:00|                    |      |                    |                    |    false|\n| hiring managers ...|                  HR|      017664|2023-01-01 00:00:00|                    |      |                    |                    |    false|\n|               Excel|               Other|      017666|2023-01-01 00:00:00|               excel|      |                    |                    |    false|\n| vehicle glider e...| Mechanical Engineer|      017670|2023-01-01 00:00:00|                    |      |                    |                    |    false|\n| based on user fe...|            Database|      017683|2023-01-01 00:00:00|                    |      |                    |                    |    false|\n|  employee and la...|Network Security ...|      017756|2023-01-01 00:00:00|                    |      |                    |                    |    false|\n|  employee relations|               Other|      017762|2023-01-01 00:00:00|                    |      |                    |                    |    false|\n| </span> <span cl...|  Health and Fitness|      017859|2023-01-01 00:00:00|                    |      |                    |                    |    false|\n|       data analysis|        Data Science|      017861|2023-01-01 00:00:00|                    |      |                    |                    |    false|\n| </span> <span cl...|               Other|      017883|2023-01-01 00:00:00|                    |      |                    |                    |    false|\n| meeting you at t...|                  HR|      017939|2023-01-01 00:00:00|                    |      |                    |                    |    false|\n| Inventory (PO/PR...|                  HR|      017964|2023-01-01 00:00:00|                    |      |                    |                    |    false|\n|              Dental|               Other|      017989|2023-01-01 00:00:00|                    |      |                    |                    |    false|\n| </span> <span cl...|        Data Science|      018001|2023-01-01 00:00:00|                    |      |                    |                    |    false|\n| tool etc Annual ...|  Health and Fitness|      018017|2023-01-01 00:00:00|                    |      |                    |                    |    false|\n|              budget|               Other|      018025|2023-01-01 00:00:00|                    |      |                    |                    |    false|\n|              Arabic|               Other|      018071|2023-01-01 00:00:00|                    |      |                    |                    |    false|\n|              dental|               Other|      018135|2023-01-01 00:00:00|                    |      |                    |                    |    false|\n| License number  ...|               Other|      018183|2023-01-01 00:00:00|                    |      |                    |                    |    false|\n|   Newsletter pro...|               Other|      018188|2023-01-01 00:00:00|                    |      |                    |                    |    false|\n|   Agency Automation|  Automation Testing|      018190|2023-01-01 00:00:00|                    |      |                    |                    |    false|\n|            benefits|               Other|      018199|2023-01-01 00:00:00|                    |      |                    |                    |    false|\n| time management ...|               Other|      018236|2023-01-01 00:00:00|     time management|      |                    |                    |    false|\n|      special events|               Other|      018255|2023-01-01 00:00:00|                    |      |                    |                    |    false|\n| </span> <span cl...|Network Security ...|      018268|2023-01-01 00:00:00|                    |      |                    |                    |    false|\n| accounts receivable|               Other|      018310|2023-01-01 00:00:00|                    |      |                    |                    |    false|\n| </span> <span cl...|               Other|      018325|2023-01-01 00:00:00|                    |      |                    |                    |    false|\n| Inc. in talent m...|               Other|      018354|2023-01-01 00:00:00|                    |      |                    |                    |    false|\n| development plan...|               Other|      018376|2023-01-01 00:00:00|                    |      |                    |                    |    false|\n| </span> <span cl...|   Software Engineer|      018413|2023-01-01 00:00:00|                    |      |                    |                    |    false|\n| Pre-Employment T...|               Other|      018455|2023-01-01 00:00:00|                    |      |                    |                    |    false|\n| BSM/HRM</span> <...|               Other|      018538|2023-01-01 00:00:00|                    |      |                    |                    |    false|\n| </span> <span cl...|                  HR|      018551|2023-01-01 00:00:00|                    |      |                    |                    |    false|\n| </span> <span cl...|               Other|      018605|2023-01-01 00:00:00|                    |      |                    |                    |    false|\n|             drawing|               Other|      018677|2023-01-01 00:00:00|                    |      |                    |                    |    false|\n|                Avid|               Other|      018707|2023-01-01 00:00:00|                    |      |                    |                    |    false|\n|         REGIONAL...|            Advocate|      018709|2023-01-01 00:00:00|leadership, peopl...|      |                    |    Master, Bachelor|     true|\n| including experi...|                  HR|      018731|2023-01-01 00:00:00|                    |      |                    |                    |    false|\n|              faxing|               Other|      018756|2023-01-01 00:00:00|                    |      |                    |                    |    false|\n| developing teamb...|               Other|      018758|2023-01-01 00:00:00|                    |      |                    |                    |    false|\n|         INSTRUCT...|  Health and Fitness|      018784|2023-01-01 00:00:00|   communication, go|      |                    |              Master|     true|\n| or those who use...|               Other|      018786|2023-01-01 00:00:00|                    |      |                    |                    |    false|\n|            MS Excel|               Other|      018803|2023-01-01 00:00:00|               excel|      |                    |                    |    false|\n|         ASSISTAN...|                  HR|      018818|2023-01-01 00:00:00|collaboration, co...|      |www.linkedin.com/...|MBA, Bachelor, ma...|     true|\n| </span> <span cl...|                  HR|      018829|2023-01-01 00:00:00|                    |      |                    |                    |    false|\n|      dependent care|               Other|      019009|2023-01-01 00:00:00|                    |      |                    |                    |    false|\n| </span> <span cl...|                  HR|      019055|2023-01-01 00:00:00|                    |      |                    |                    |    false|\n| </span> <span cl...|               Other|      019131|2023-01-01 00:00:00|                    |      |                    |                    |    false|\n|\"         SENIOR ...|                  HR|      019146|2023-01-01 00:00:00|       communication|      |                    |                    |     true|\n| </span> <span cl...|       SAP Developer|      019181|2023-01-01 00:00:00|                 sap|      |                    |                    |     true|\n|        compensation|               Other|      019226|2023-01-01 00:00:00|                    |      |                    |                    |    false|\n| </span> <span cl...|        Data Science|      019275|2023-01-01 00:00:00|                    |      |                    |                    |    false|\n| </span> <span cl...|               Other|      019300|2023-01-01 00:00:00|                    |      |                    |                    |    false|\n| </span> <span cl...|        Data Science|      019357|2023-01-01 00:00:00|                    |      |                    |                    |    false|\n| </span> <span cl...|               Other|      019407|2023-01-01 00:00:00|                    |      |                    |                    |    false|\n|              driven|               Other|      019439|2023-01-01 00:00:00|                    |      |                    |                    |    false|\n|          automation|  Automation Testing|      019453|2023-01-01 00:00:00|                    |      |                    |                    |    false|\n| development plan...|               Other|      019463|2023-01-01 00:00:00|                    |      |                    |                    |    false|\n|               Excel|               Other|      019506|2023-01-01 00:00:00|               excel|      |                    |                    |    false|\n|  Data entry systems|        Data Science|      019551|2023-01-01 00:00:00|                    |      |                    |                    |    false|\n| Local Chapter of...|               Other|      019560|2023-01-01 00:00:00|                    |      |                    |                    |    false|\n| and LinkedIn Sea...|               Other|      019562|2023-01-01 00:00:00|                    |      |                    |                    |    false|\n+--------------------+--------------------+------------+-------------------+--------------------+------+--------------------+--------------------+---------+\n\n"
     ]
    }
   ],
   "source": [
    "df_filtered.show(1000)"
   ]
  },
  {
   "cell_type": "code",
   "execution_count": 0,
   "metadata": {
    "application/vnd.databricks.v1+cell": {
     "cellMetadata": {
      "byteLimit": 2048000,
      "rowLimit": 10000
     },
     "inputWidgets": {},
     "nuid": "0f5ab5e0-e537-4e52-8f03-9a3bc38e9e7d",
     "showTitle": false,
     "tableResultSettingsMap": {},
     "title": ""
    }
   },
   "outputs": [
    {
     "output_type": "stream",
     "name": "stdout",
     "output_type": "stream",
     "text": [
      "+---------+-----+\n|is_usable|count|\n+---------+-----+\n|     true|   76|\n|    false|  527|\n+---------+-----+\n\n"
     ]
    }
   ],
   "source": [
    "df_filtered.groupBy(col(\"is_usable\")) \\\n",
    "    .count() \\\n",
    "    .show()"
   ]
  },
  {
   "cell_type": "code",
   "execution_count": 0,
   "metadata": {
    "application/vnd.databricks.v1+cell": {
     "cellMetadata": {
      "byteLimit": 2048000,
      "rowLimit": 10000
     },
     "inputWidgets": {},
     "nuid": "12b07064-518a-4d34-b16e-8606dd7a7d47",
     "showTitle": false,
     "tableResultSettingsMap": {},
     "title": ""
    }
   },
   "outputs": [
    {
     "output_type": "stream",
     "name": "stdout",
     "output_type": "stream",
     "text": [
      "root\n |-- Resume: string (nullable = true)\n |-- Category: string (nullable = true)\n |-- candidate_id: string (nullable = true)\n |-- upload_date: timestamp (nullable = true)\n |-- skills: string (nullable = true)\n |-- emails: string (nullable = true)\n |-- urls: string (nullable = true)\n |-- education_level: string (nullable = true)\n |-- is_usable: boolean (nullable = true)\n\n"
     ]
    }
   ],
   "source": [
    "df_filtered.printSchema()"
   ]
  },
  {
   "cell_type": "code",
   "execution_count": 0,
   "metadata": {
    "application/vnd.databricks.v1+cell": {
     "cellMetadata": {
      "byteLimit": 2048000,
      "rowLimit": 10000
     },
     "inputWidgets": {},
     "nuid": "ea97bcd4-ecee-4eac-9b2b-b1cf743c989a",
     "showTitle": false,
     "tableResultSettingsMap": {},
     "title": ""
    }
   },
   "outputs": [
    {
     "output_type": "stream",
     "name": "stdout",
     "output_type": "stream",
     "text": [
      "Last processed date: 2022-12-31\nCurrent processed date: 2023-01-01\n"
     ]
    }
   ],
   "source": [
    "from datetime import datetime, timedelta\n",
    "from pyspark.sql.functions import lit\n",
    "\n",
    "tracker_df = spark.read.table(\"workspace.resume_project.processing_tracker\")\n",
    "\n",
    "last_processed_str = tracker_df.select(\"last_processed_date\").first()[0]\n",
    "last_processed_date = datetime.strptime(last_processed_str, \"%Y-%m-%d\")\n",
    "current_processed_date = last_processed_date + timedelta(days=1)\n",
    "\n",
    "print(f\"Last processed date: {last_processed_date.date()}\")\n",
    "print(f\"Current processed date: {current_processed_date.date()}\")\n",
    "\n",
    "effective_date = lit(current_processed_date.date())"
   ]
  },
  {
   "cell_type": "code",
   "execution_count": 0,
   "metadata": {
    "application/vnd.databricks.v1+cell": {
     "cellMetadata": {
      "byteLimit": 2048000,
      "rowLimit": 10000
     },
     "inputWidgets": {},
     "nuid": "9af1bdae-cbde-445b-8524-c4ec0fe6fbd4",
     "showTitle": false,
     "tableResultSettingsMap": {},
     "title": ""
    }
   },
   "outputs": [],
   "source": [
    "from pyspark.sql.functions import when\n",
    "\n",
    "df_final = df_filtered.withColumn(\"effective_start_date\", effective_date) \\\n",
    "                    .withColumn(\"effective_end_date\", lit(\"3000-01-01\")) \\\n",
    "                    .withColumn(\"is_current\", when(col(\"is_usable\") == True, True).otherwise(False))"
   ]
  },
  {
   "cell_type": "code",
   "execution_count": 0,
   "metadata": {
    "application/vnd.databricks.v1+cell": {
     "cellMetadata": {
      "byteLimit": 2048000,
      "rowLimit": 10000
     },
     "inputWidgets": {},
     "nuid": "41c7bbbb-baa3-432b-95e5-5b505f0e615f",
     "showTitle": false,
     "tableResultSettingsMap": {},
     "title": ""
    }
   },
   "outputs": [
    {
     "output_type": "execute_result",
     "data": {
      "text/plain": [
       "603"
      ]
     },
     "execution_count": 21,
     "metadata": {},
     "output_type": "execute_result"
    }
   ],
   "source": [
    "df_final.count()"
   ]
  },
  {
   "cell_type": "code",
   "execution_count": 0,
   "metadata": {
    "application/vnd.databricks.v1+cell": {
     "cellMetadata": {
      "byteLimit": 2048000,
      "rowLimit": 10000
     },
     "inputWidgets": {},
     "nuid": "4acd051c-b29d-45fd-ae84-b517a49c33b3",
     "showTitle": false,
     "tableResultSettingsMap": {},
     "title": ""
    }
   },
   "outputs": [
    {
     "output_type": "stream",
     "name": "stdout",
     "output_type": "stream",
     "text": [
      "root\n |-- Resume: string (nullable = true)\n |-- Category: string (nullable = true)\n |-- candidate_id: string (nullable = true)\n |-- upload_date: timestamp (nullable = true)\n |-- skills: string (nullable = true)\n |-- emails: string (nullable = true)\n |-- urls: string (nullable = true)\n |-- education_level: string (nullable = true)\n |-- is_usable: boolean (nullable = true)\n |-- effective_start_date: date (nullable = false)\n |-- effective_end_date: string (nullable = false)\n |-- is_current: boolean (nullable = false)\n\n"
     ]
    }
   ],
   "source": [
    "df_final.printSchema()"
   ]
  },
  {
   "cell_type": "code",
   "execution_count": 0,
   "metadata": {
    "application/vnd.databricks.v1+cell": {
     "cellMetadata": {
      "byteLimit": 2048000,
      "rowLimit": 10000
     },
     "inputWidgets": {},
     "nuid": "3339369c-3525-42f8-8f6b-4b3581f3b348",
     "showTitle": false,
     "tableResultSettingsMap": {},
     "title": ""
    }
   },
   "outputs": [],
   "source": [
    "df_final.write.format(\"delta\") \\\n",
    "    .mode(\"overwrite\") \\\n",
    "    .option(\"overwriteSchema\", \"true\") \\\n",
    "    .partitionBy(\"upload_date\") \\\n",
    "    .saveAsTable(\"workspace.resume_project.resume_parsed_data\")"
   ]
  },
  {
   "cell_type": "code",
   "execution_count": 0,
   "metadata": {
    "application/vnd.databricks.v1+cell": {
     "cellMetadata": {},
     "inputWidgets": {},
     "nuid": "4a2a2df7-dd7a-452f-bb26-1688f7c1fbaa",
     "showTitle": false,
     "tableResultSettingsMap": {},
     "title": ""
    }
   },
   "outputs": [],
   "source": []
  }
 ],
 "metadata": {
  "application/vnd.databricks.v1+notebook": {
   "computePreferences": null,
   "dashboards": [],
   "environmentMetadata": {
    "base_environment": "",
    "environment_version": "2"
   },
   "inputWidgetPreferences": null,
   "language": "python",
   "notebookMetadata": {
    "pythonIndentUnit": 4
   },
   "notebookName": "02_parse_resumes",
   "widgets": {}
  },
  "language_info": {
   "name": "python"
  }
 },
 "nbformat": 4,
 "nbformat_minor": 0
}