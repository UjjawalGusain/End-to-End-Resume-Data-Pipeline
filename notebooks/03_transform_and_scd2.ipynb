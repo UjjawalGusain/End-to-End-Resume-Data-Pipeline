{
 "cells": [
  {
   "cell_type": "code",
   "execution_count": 0,
   "metadata": {
    "application/vnd.databricks.v1+cell": {
     "cellMetadata": {
      "byteLimit": 2048000,
      "rowLimit": 10000
     },
     "inputWidgets": {},
     "nuid": "885efd18-81e3-4be2-995b-7b1b4482eee5",
     "showTitle": false,
     "tableResultSettingsMap": {},
     "title": ""
    }
   },
   "outputs": [],
   "source": [
    "parsed_df = spark.read.table(\"workspace.resume_project.resume_parsed_data\")"
   ]
  },
  {
   "cell_type": "code",
   "execution_count": 0,
   "metadata": {
    "application/vnd.databricks.v1+cell": {
     "cellMetadata": {
      "byteLimit": 2048000,
      "rowLimit": 10000
     },
     "inputWidgets": {},
     "nuid": "dd1cf781-ef5d-4731-bfe6-67a3b0b97093",
     "showTitle": false,
     "tableResultSettingsMap": {},
     "title": ""
    }
   },
   "outputs": [],
   "source": [
    "from pyspark.sql.window import Window\n",
    "from pyspark.sql.functions import row_number, col\n",
    "from pyspark.sql.functions import explode, split, trim, monotonically_increasing_id\n",
    "\n",
    "\n",
    "w = Window.partitionBy(\"candidate_id\").orderBy(col(\"upload_date\").desc())\n",
    "\n",
    "latest_df = parsed_df.withColumn(\"rn\", row_number().over(w)) \\\n",
    "                     .filter(col(\"rn\") == 1) \\\n",
    "                     .drop(\"rn\")\n",
    "\n",
    "incoming_skills_df = parsed_df.select(explode(split(\"skills\", \",\")).alias(\"skill\")) \\\n",
    "                              .withColumn(\"skill\", trim(\"skill\")) \\\n",
    "                              .filter(\"skill != '' AND skill IS NOT NULL\") \\\n",
    "                              .dropDuplicates()"
   ]
  },
  {
   "cell_type": "code",
   "execution_count": 0,
   "metadata": {
    "application/vnd.databricks.v1+cell": {
     "cellMetadata": {
      "byteLimit": 2048000,
      "rowLimit": 10000
     },
     "inputWidgets": {},
     "nuid": "d09b2581-5ad2-4d8c-8ca1-06633ff39d0b",
     "showTitle": false,
     "tableResultSettingsMap": {},
     "title": ""
    }
   },
   "outputs": [
    {
     "output_type": "stream",
     "name": "stderr",
     "output_type": "stream",
     "text": [
      "/databricks/python/lib/python3.11/site-packages/pyspark/sql/connect/expressions.py:1017: UserWarning: WARN WindowExpression: No Partition Defined for Window operation! Moving all data to a single partition, this can cause serious performance degradation.\n  warnings.warn(\n"
     ]
    }
   ],
   "source": [
    "from pyspark.sql.window import Window\n",
    "from pyspark.sql.utils import AnalysisException\n",
    "\n",
    "dim_skill_table = \"workspace.resume_project.dim_skill\"\n",
    "\n",
    "try:\n",
    "    dim_skill_df = spark.read.table(dim_skill_table)\n",
    "    max_id = dim_skill_df.agg({\"skill_id\": \"max\"}).collect()[0][0]\n",
    "    start_id = max_id + 1 if max_id is not None else 1\n",
    "\n",
    "    new_skills = incoming_skills_df.join(dim_skill_df, on=\"skill\", how=\"left_anti\")\n",
    "\n",
    "    window = Window.orderBy(\"skill\")\n",
    "    new_skills = new_skills.withColumn(\"skill_id\", row_number().over(window) + start_id - 1)\n",
    "\n",
    "    dim_skill_df = dim_skill_df.unionByName(new_skills)\n",
    "\n",
    "except AnalysisException:\n",
    "    from pyspark.sql.functions import row_number\n",
    "    window = Window.orderBy(\"skill\")\n",
    "\n",
    "    dim_skill_df = incoming_skills_df.withColumn(\"skill_id\", row_number().over(window))\n",
    "\n",
    "dim_skill_df.write.format(\"delta\").mode(\"overwrite\").saveAsTable(dim_skill_table)\n"
   ]
  },
  {
   "cell_type": "code",
   "execution_count": 0,
   "metadata": {
    "application/vnd.databricks.v1+cell": {
     "cellMetadata": {
      "byteLimit": 2048000,
      "rowLimit": 10000
     },
     "inputWidgets": {},
     "nuid": "b40de1b4-d6a1-4bb4-aa37-63dd2d265733",
     "showTitle": false,
     "tableResultSettingsMap": {},
     "title": ""
    }
   },
   "outputs": [
    {
     "output_type": "stream",
     "name": "stdout",
     "output_type": "stream",
     "text": [
      "+-----------------+--------+\n|            skill|skill_id|\n+-----------------+--------+\n|     adaptability|       1|\n|                c|       2|\n|    collaboration|       3|\n|    communication|       4|\n|       confluence|       5|\n|       creativity|       6|\n|critical thinking|       7|\n|              css|       8|\n|  decision making|       9|\n|            excel|      10|\n|               go|      11|\n|    google sheets|      12|\n|             html|      13|\n|      illustrator|      14|\n|             java|      15|\n|       javascript|      16|\n|       leadership|      17|\n|            linux|      18|\n|      negotiation|      19|\n|       networking|      20|\n|           oracle|      21|\n|       peopleSoft|      22|\n|        photoshop|      23|\n|  problem solving|      24|\n|           puppet|      25|\n|                r|      26|\n|             safe|      27|\n|              sap|      28|\n|     social media|      29|\n|           spring|      30|\n|       sql server|      31|\n|            swift|      32|\n|          tableau|      33|\n|         teamwork|      34|\n|  time management|      35|\n|     unit testing|      36|\n|          workday|      37|\n+-----------------+--------+\n\n"
     ]
    }
   ],
   "source": [
    "dim_skill_df.show(1000)"
   ]
  },
  {
   "cell_type": "code",
   "execution_count": 0,
   "metadata": {
    "application/vnd.databricks.v1+cell": {
     "cellMetadata": {
      "byteLimit": 2048000,
      "rowLimit": 10000
     },
     "inputWidgets": {},
     "nuid": "51b2e7ca-73ac-4eb4-81f1-f2a8fe3c8f34",
     "showTitle": false,
     "tableResultSettingsMap": {},
     "title": ""
    }
   },
   "outputs": [],
   "source": [
    "def upsert_dimension(df_new, dim_table, key_col):\n",
    "    try:\n",
    "        dim_df = spark.read.table(dim_table)  # Try to load the dimension table if it exists\n",
    "        max_id = dim_df.agg({\"{}_id\".format(key_col): \"max\"}).collect()[0][0]  # Get the max id so far\n",
    "        start_id = (max_id or 0) + 1  # If no ID exists, start from 1\n",
    "\n",
    "        # Find new records not already in the dimension table\n",
    "        to_insert = (\n",
    "            df_new.join(dim_df, on=key_col, how=\"left_anti\")  # only new values\n",
    "                  .withColumn(f\"{key_col}_id\", \n",
    "                              row_number().over(Window.orderBy(key_col)) + start_id - 1)\n",
    "        )\n",
    "\n",
    "        # Union new rows with existing ones\n",
    "        dim_df = dim_df.unionByName(to_insert)\n",
    "\n",
    "    except AnalysisException:\n",
    "        # If table doesn't exist, this is the first load\n",
    "        dim_df = (\n",
    "            df_new.withColumn(f\"{key_col}_id\", \n",
    "                              row_number().over(Window.orderBy(key_col)))\n",
    "        )\n",
    "\n",
    "    # Save (overwrite or create) the dimension table\n",
    "    dim_df.write.format(\"delta\").mode(\"overwrite\").saveAsTable(dim_table)\n",
    "    return dim_df\n"
   ]
  },
  {
   "cell_type": "code",
   "execution_count": 0,
   "metadata": {
    "application/vnd.databricks.v1+cell": {
     "cellMetadata": {
      "byteLimit": 2048000,
      "rowLimit": 10000
     },
     "inputWidgets": {},
     "nuid": "5d7bc506-25eb-4b72-8edd-7a16400852da",
     "showTitle": false,
     "tableResultSettingsMap": {},
     "title": ""
    }
   },
   "outputs": [],
   "source": [
    "edu_df_new = (\n",
    "    parsed_df\n",
    "    .select(trim(col(\"education_level\")).alias(\"education_level\"))  # remove whitespace\n",
    "    .filter(\"education_level IS NOT NULL AND education_level != ''\")  # clean invalids\n",
    "    .dropDuplicates()\n",
    ")\n",
    "dim_education = upsert_dimension(edu_df_new, \"workspace.resume_project.dim_education_level\", \"education_level\")\n"
   ]
  },
  {
   "cell_type": "code",
   "execution_count": 0,
   "metadata": {
    "application/vnd.databricks.v1+cell": {
     "cellMetadata": {
      "byteLimit": 2048000,
      "rowLimit": 10000
     },
     "inputWidgets": {},
     "nuid": "c97f1578-95af-4a9e-93da-0ba56127ef32",
     "showTitle": false,
     "tableResultSettingsMap": {},
     "title": ""
    }
   },
   "outputs": [],
   "source": [
    "cat_df_new = (\n",
    "    parsed_df\n",
    "    .select(trim(col(\"Category\")).alias(\"Category\"))\n",
    "    .filter(\"Category IS NOT NULL AND Category != ''\")\n",
    "    .dropDuplicates()\n",
    ")\n",
    "dim_category = upsert_dimension(cat_df_new, \"workspace.resume_project.dim_category\", \"Category\")\n"
   ]
  },
  {
   "cell_type": "code",
   "execution_count": 0,
   "metadata": {
    "application/vnd.databricks.v1+cell": {
     "cellMetadata": {
      "byteLimit": 2048000,
      "rowLimit": 10000
     },
     "inputWidgets": {},
     "nuid": "3fc3e6e0-9287-4bb3-89aa-7edd9e2dd0ee",
     "showTitle": false,
     "tableResultSettingsMap": {},
     "title": ""
    }
   },
   "outputs": [],
   "source": [
    "skill_lookup = spark.read.table(\"workspace.resume_project.dim_skill\")\n",
    "\n",
    "bridge_candidate_skill = (\n",
    "    parsed_df\n",
    "    .select(\"candidate_id\", explode(split(\"skills\", \",\")).alias(\"skill\"))  # split comma-separated skills\n",
    "    .withColumn(\"skill\", trim(\"skill\"))  # remove leading/trailing spaces\n",
    "    .filter(\"skill IS NOT NULL AND skill != ''\")  # drop blanks\n",
    "    .join(skill_lookup, on=\"skill\", how=\"inner\")  # match with dim_skill for skill_id\n",
    "    .select(\"candidate_id\", \"skill_id\")\n",
    "    .dropDuplicates()\n",
    ")\n",
    "\n",
    "bridge_candidate_skill.write.format(\"delta\").mode(\"overwrite\").saveAsTable(\n",
    "    \"workspace.resume_project.bridge_candidate_skill\"\n",
    ")\n"
   ]
  },
  {
   "cell_type": "code",
   "execution_count": 0,
   "metadata": {
    "application/vnd.databricks.v1+cell": {
     "cellMetadata": {
      "byteLimit": 2048000,
      "rowLimit": 10000
     },
     "inputWidgets": {},
     "nuid": "07f1bc29-1c89-48b9-a389-f17ad9e36676",
     "showTitle": false,
     "tableResultSettingsMap": {},
     "title": ""
    }
   },
   "outputs": [
    {
     "output_type": "stream",
     "name": "stdout",
     "output_type": "stream",
     "text": [
      "+-----------------+--------+\n|            skill|skill_id|\n+-----------------+--------+\n|     adaptability|       1|\n|                c|       2|\n|    collaboration|       3|\n|    communication|       4|\n|       confluence|       5|\n|       creativity|       6|\n|critical thinking|       7|\n|              css|       8|\n|  decision making|       9|\n|            excel|      10|\n|               go|      11|\n|    google sheets|      12|\n|             html|      13|\n|      illustrator|      14|\n|             java|      15|\n|       javascript|      16|\n|       leadership|      17|\n|            linux|      18|\n|      negotiation|      19|\n|       networking|      20|\n+-----------------+--------+\nonly showing top 20 rows\n+--------------------+------------------+\n|     education_level|education_level_id|\n+--------------------+------------------+\n|            BACHELOR|                 1|\n|            Bachelor|                 2|\n|                 MBA|                 3|\n|            MBA, B.E|                 4|\n|MBA, Bachelor, ma...|                 5|\n|MBA, Master, Doct...|                 6|\n|              Master|                 7|\n|    Master, Bachelor|                 8|\n|              master|                 9|\n|    Bachelor, Master|                10|\n|MBA, Doctorate, M...|                11|\n+--------------------+------------------+\n\n+--------------------+-----------+\n|            Category|Category_id|\n+--------------------+-----------+\n|          Accounting|          1|\n|            Advocate|          2|\n|                Arts|          3|\n|  Automation Testing|          4|\n|    Business Analyst|          5|\n|      Civil Engineer|          6|\n|        Data Science|          7|\n|            Database|          8|\n|    DotNet Developer|          9|\n|                  HR|         10|\n|  Health and Fitness|         11|\n|      Java Developer|         12|\n|           Marketing|         13|\n| Mechanical Engineer|         14|\n|Network Security ...|         15|\n|  Operations Manager|         16|\n|               Other|         17|\n|       SAP Developer|         18|\n|               Sales|         19|\n|   Software Engineer|         20|\n+--------------------+-----------+\nonly showing top 20 rows\n+------------+--------+\n|candidate_id|skill_id|\n+------------+--------+\n|      012307|      21|\n|      013328|       3|\n|      013328|      13|\n|      001970|      35|\n|      015195|      17|\n|      014133|      34|\n|      005276|       4|\n|      011352|      34|\n|      013298|      20|\n|      013878|      24|\n|      017618|      10|\n|      002378|      23|\n|      002045|      10|\n|      010751|      28|\n|      018818|      24|\n|      005754|      21|\n|      003615|      10|\n|      010568|       4|\n|      014133|       8|\n|      001734|      10|\n+------------+--------+\nonly showing top 20 rows\n"
     ]
    }
   ],
   "source": [
    "dim_skill_df.show()\n",
    "dim_education.show()\n",
    "dim_category.show()\n",
    "bridge_candidate_skill.show()\n",
    "\n"
   ]
  },
  {
   "cell_type": "code",
   "execution_count": 0,
   "metadata": {
    "application/vnd.databricks.v1+cell": {
     "cellMetadata": {
      "byteLimit": 2048000,
      "rowLimit": 10000
     },
     "inputWidgets": {},
     "nuid": "1a61c4f9-b046-4f69-bc0c-d3ccbb2c1df4",
     "showTitle": false,
     "tableResultSettingsMap": {},
     "title": ""
    }
   },
   "outputs": [],
   "source": [
    "cand_stage = (\n",
    "    parsed_df\n",
    "    .join(dim_education, on=\"education_level\", how=\"left\")\n",
    "    .join(dim_category, on=\"Category\", how=\"left\")\n",
    "    .select(\n",
    "        \"candidate_id\",\n",
    "        \"Category\",\n",
    "        \"category_id\",\n",
    "        \"education_level\",\n",
    "        \"education_level_id\",\n",
    "        \"emails\",\n",
    "        \"urls\",\n",
    "        \"is_usable\",\n",
    "        \"effective_start_date\",\n",
    "        \"effective_end_date\",\n",
    "        \"is_current\"\n",
    "    )\n",
    ")\n"
   ]
  },
  {
   "cell_type": "code",
   "execution_count": 0,
   "metadata": {
    "application/vnd.databricks.v1+cell": {
     "cellMetadata": {
      "byteLimit": 2048000,
      "rowLimit": 10000
     },
     "inputWidgets": {},
     "nuid": "6e703f47-6beb-4a9e-838e-3a0a3ce73d8c",
     "showTitle": false,
     "tableResultSettingsMap": {},
     "title": ""
    }
   },
   "outputs": [],
   "source": [
    "cand_stage.write.format(\"delta\").mode(\"overwrite\").saveAsTable(\n",
    "    \"workspace.resume_project.dim_candidate_stage\"\n",
    ")"
   ]
  },
  {
   "cell_type": "code",
   "execution_count": 0,
   "metadata": {
    "application/vnd.databricks.v1+cell": {
     "cellMetadata": {
      "byteLimit": 2048000,
      "rowLimit": 10000
     },
     "inputWidgets": {},
     "nuid": "9ae29915-4f62-4b83-902c-aff5848e6fc4",
     "showTitle": false,
     "tableResultSettingsMap": {},
     "title": ""
    }
   },
   "outputs": [
    {
     "output_type": "stream",
     "name": "stderr",
     "output_type": "stream",
     "text": [
      "/databricks/python/lib/python3.11/site-packages/pyspark/sql/connect/expressions.py:1017: UserWarning: WARN WindowExpression: No Partition Defined for Window operation! Moving all data to a single partition, this can cause serious performance degradation.\n  warnings.warn(\n"
     ]
    },
    {
     "output_type": "stream",
     "name": "stdout",
     "output_type": "stream",
     "text": [
      "+------------+--------------------+-----------+--------------------+------------------+------+--------------------+---------+--------------------+------------------+----------+\n|candidate_id|            Category|category_id|     education_level|education_level_id|emails|                urls|is_usable|effective_start_date|effective_end_date|is_current|\n+------------+--------------------+-----------+--------------------+------------------+------+--------------------+---------+--------------------+------------------+----------+\n|      000038|               Other|         17|                    |              NULL|      |                    |    false|          2023-01-01|        3000-01-01|     false|\n|      000047|               Other|         17|                    |              NULL|      |                    |    false|          2023-01-01|        3000-01-01|     false|\n|      000052|               Other|         17|                    |              NULL|      |                    |    false|          2023-01-01|        3000-01-01|     false|\n|      000077|                  HR|         10|                    |              NULL|      |                    |     true|          2023-01-01|        3000-01-01|      true|\n|      000090|               Other|         17|                    |              NULL|      |                    |    false|          2023-01-01|        3000-01-01|     false|\n|      000099|               Other|         17|                    |              NULL|      |                    |    false|          2023-01-01|        3000-01-01|     false|\n|      000135|               Other|         17|                    |              NULL|      |                    |    false|          2023-01-01|        3000-01-01|     false|\n|      000204|               Other|         17|                    |              NULL|      |                    |    false|          2023-01-01|        3000-01-01|     false|\n|      000237|               Other|         17|                    |              NULL|      |                    |    false|          2023-01-01|        3000-01-01|     false|\n|      000240|               Other|         17|                    |              NULL|      |                    |    false|          2023-01-01|        3000-01-01|     false|\n|      000256|               Other|         17|                    |              NULL|      |                    |    false|          2023-01-01|        3000-01-01|     false|\n|      000301|               Other|         17|                    |              NULL|      |                    |    false|          2023-01-01|        3000-01-01|     false|\n|      000344|               Other|         17|                    |              NULL|      |                    |    false|          2023-01-01|        3000-01-01|     false|\n|      000448|                  HR|         10|            MBA, B.E|                 4|      |                    |     true|          2023-01-01|        3000-01-01|      true|\n|      000479|               Other|         17|                    |              NULL|      |                    |    false|          2023-01-01|        3000-01-01|     false|\n|      000494|                  HR|         10|                    |              NULL|      |                    |    false|          2023-01-01|        3000-01-01|     false|\n|      000511|               Other|         17|                    |              NULL|      |                    |    false|          2023-01-01|        3000-01-01|     false|\n|      000528|               Other|         17|                    |              NULL|      |                    |    false|          2023-01-01|        3000-01-01|     false|\n|      000634|               Other|         17|                    |              NULL|      |                    |    false|          2023-01-01|        3000-01-01|     false|\n|      000652|                  HR|         10|                    |              NULL|      |                    |    false|          2023-01-01|        3000-01-01|     false|\n|      000657|               Other|         17|                    |              NULL|      |                    |    false|          2023-01-01|        3000-01-01|     false|\n|      000666|   Software Engineer|         20|                    |              NULL|      |                    |    false|          2023-01-01|        3000-01-01|     false|\n|      000675|               Other|         17|                    |              NULL|      |                    |    false|          2023-01-01|        3000-01-01|     false|\n|      000691|               Other|         17|                    |              NULL|      |                    |     true|          2023-01-01|        3000-01-01|      true|\n|      000705|               Other|         17|                    |              NULL|      |                    |    false|          2023-01-01|        3000-01-01|     false|\n|      000722|                  HR|         10|                    |              NULL|      |                    |    false|          2023-01-01|        3000-01-01|     false|\n|      000773|               Other|         17|                    |              NULL|      |                    |    false|          2023-01-01|        3000-01-01|     false|\n|      000793|               Other|         17|                    |              NULL|      |                    |    false|          2023-01-01|        3000-01-01|     false|\n|      000798|               Other|         17|                    |              NULL|      |                    |    false|          2023-01-01|        3000-01-01|     false|\n|      000832|                  HR|         10|                    |              NULL|      |                    |     true|          2023-01-01|        3000-01-01|      true|\n|      000843|               Other|         17|                    |              NULL|      |                    |    false|          2023-01-01|        3000-01-01|     false|\n|      000847|               Other|         17|                    |              NULL|      |                    |    false|          2023-01-01|        3000-01-01|     false|\n|      000865|               Other|         17|                    |              NULL|      |                    |    false|          2023-01-01|        3000-01-01|     false|\n|      000871|               Other|         17|                    |              NULL|      |                    |    false|          2023-01-01|        3000-01-01|     false|\n|      000964|                  HR|         10|                    |              NULL|      |                    |     true|          2023-01-01|        3000-01-01|      true|\n|      000994|                  HR|         10|                    |              NULL|      |https://schema.or...|    false|          2023-01-01|        3000-01-01|     false|\n|      000997|               Other|         17|                    |              NULL|      |                    |    false|          2023-01-01|        3000-01-01|     false|\n|      001000|               Other|         17|                    |              NULL|      |                    |    false|          2023-01-01|        3000-01-01|     false|\n|      001086|                  HR|         10|                    |              NULL|      |                    |    false|          2023-01-01|        3000-01-01|     false|\n|      001091|        Data Science|          7|                    |              NULL|      |                    |    false|          2023-01-01|        3000-01-01|     false|\n|      001136|          Accounting|          1|                    |              NULL|      |                    |    false|          2023-01-01|        3000-01-01|     false|\n|      001140|               Other|         17|                    |              NULL|      |                    |    false|          2023-01-01|        3000-01-01|     false|\n|      001187|               Other|         17|                    |              NULL|      |                    |    false|          2023-01-01|        3000-01-01|     false|\n|      001215|               Other|         17|                    |              NULL|      |                    |    false|          2023-01-01|        3000-01-01|     false|\n|      001216|               Other|         17|                    |              NULL|      |                    |    false|          2023-01-01|        3000-01-01|     false|\n|      001227|               Other|         17|                    |              NULL|      |                    |    false|          2023-01-01|        3000-01-01|     false|\n|      001242|               Other|         17|                    |              NULL|      |                    |    false|          2023-01-01|        3000-01-01|     false|\n|      001251|               Other|         17|                    |              NULL|      |                    |    false|          2023-01-01|        3000-01-01|     false|\n|      001276|                  HR|         10|                    |              NULL|      |                    |     true|          2023-01-01|        3000-01-01|      true|\n|      001299|               Other|         17|                    |              NULL|      |                    |    false|          2023-01-01|        3000-01-01|     false|\n|      001323|               Other|         17|                    |              NULL|      |                    |    false|          2023-01-01|        3000-01-01|     false|\n|      001455|               Other|         17|                    |              NULL|      |                    |    false|          2023-01-01|        3000-01-01|     false|\n|      001485|               Other|         17|                    |              NULL|      |                    |    false|          2023-01-01|        3000-01-01|     false|\n|      001534|                  HR|         10|                    |              NULL|      |                    |    false|          2023-01-01|        3000-01-01|     false|\n|      001547| Mechanical Engineer|         14|                    |              NULL|      |                    |    false|          2023-01-01|        3000-01-01|     false|\n|      001591|            Advocate|          2|                    |              NULL|      |                    |    false|          2023-01-01|        3000-01-01|     false|\n|      001734|                  HR|         10|            BACHELOR|                 1|      |                    |     true|          2023-01-01|        3000-01-01|      true|\n|      001816|            Advocate|          2|                    |              NULL|      |                    |    false|          2023-01-01|        3000-01-01|     false|\n|      001837|               Other|         17|                    |              NULL|      |                    |    false|          2023-01-01|        3000-01-01|     false|\n|      001841|            Advocate|          2|                    |              NULL|      |                    |    false|          2023-01-01|        3000-01-01|     false|\n|      001873|               Other|         17|                    |              NULL|      |                    |    false|          2023-01-01|        3000-01-01|     false|\n|      001886|                Arts|          3|                 MBA|                 3|      |                    |     true|          2023-01-01|        3000-01-01|      true|\n|      001896|               Other|         17|                    |              NULL|      |                    |    false|          2023-01-01|        3000-01-01|     false|\n|      001933|            Advocate|          2|                    |              NULL|      |                    |     true|          2023-01-01|        3000-01-01|      true|\n|      001962|               Other|         17|                    |              NULL|      |                    |    false|          2023-01-01|        3000-01-01|     false|\n|      001970|  Operations Manager|         16|                    |              NULL|      |                    |     true|          2023-01-01|        3000-01-01|      true|\n|      001998|               Other|         17|                    |              NULL|      |                    |    false|          2023-01-01|        3000-01-01|     false|\n|      002019|               Other|         17|                    |              NULL|      |                    |    false|          2023-01-01|        3000-01-01|     false|\n|      002045|                  HR|         10|            Bachelor|                 2|      |http://beknown.co...|     true|          2023-01-01|        3000-01-01|      true|\n|      002095|               Other|         17|                    |              NULL|      |                    |    false|          2023-01-01|        3000-01-01|     false|\n|      002109|               Other|         17|                    |              NULL|      |                    |    false|          2023-01-01|        3000-01-01|     false|\n|      002117|                Arts|          3|                    |              NULL|      |                    |    false|          2023-01-01|        3000-01-01|     false|\n|      002136|                  HR|         10|                    |              NULL|      |                    |    false|          2023-01-01|        3000-01-01|     false|\n|      002192|               Other|         17|                    |              NULL|      |                    |    false|          2023-01-01|        3000-01-01|     false|\n|      002232|               Other|         17|                    |              NULL|      |                    |    false|          2023-01-01|        3000-01-01|     false|\n|      002239|                  HR|         10|                    |              NULL|      |                    |    false|          2023-01-01|        3000-01-01|     false|\n|      002244|          Accounting|          1|                    |              NULL|      |                    |    false|          2023-01-01|        3000-01-01|     false|\n|      002317|            Advocate|          2|                    |              NULL|      |                    |     true|          2023-01-01|        3000-01-01|      true|\n|      002368|               Other|         17|                    |              NULL|      |                    |    false|          2023-01-01|        3000-01-01|     false|\n|      002378|   Software Engineer|         20|                    |              NULL|      |                    |     true|          2023-01-01|        3000-01-01|      true|\n|      002382|               Other|         17|                    |              NULL|      |                    |    false|          2023-01-01|        3000-01-01|     false|\n|      002392|               Other|         17|                    |              NULL|      |                    |    false|          2023-01-01|        3000-01-01|     false|\n|      002406|  Automation Testing|          4|                    |              NULL|      |                    |    false|          2023-01-01|        3000-01-01|     false|\n|      002478|            Advocate|          2|                    |              NULL|      |                    |    false|          2023-01-01|        3000-01-01|     false|\n|      002503|               Other|         17|                    |              NULL|      |                    |    false|          2023-01-01|        3000-01-01|     false|\n|      002554|               Other|         17|                    |              NULL|      |                    |    false|          2023-01-01|        3000-01-01|     false|\n|      002558|               Other|         17|                    |              NULL|      |                    |    false|          2023-01-01|        3000-01-01|     false|\n|      002570|        Data Science|          7|                    |              NULL|      |                    |    false|          2023-01-01|        3000-01-01|     false|\n|      002571|               Other|         17|                    |              NULL|      |                    |    false|          2023-01-01|        3000-01-01|     false|\n|      002621|        Data Science|          7|                    |              NULL|      |                    |    false|          2023-01-01|        3000-01-01|     false|\n|      002642|               Other|         17|                    |              NULL|      |                    |    false|          2023-01-01|        3000-01-01|     false|\n|      002653|               Other|         17|                    |              NULL|      |                    |    false|          2023-01-01|        3000-01-01|     false|\n|      002660|               Other|         17|                    |              NULL|      |                    |    false|          2023-01-01|        3000-01-01|     false|\n|      002668|                  HR|         10|                    |              NULL|      |                    |     true|          2023-01-01|        3000-01-01|      true|\n|      002720|               Other|         17|                    |              NULL|      |                    |    false|          2023-01-01|        3000-01-01|     false|\n|      002776|               Other|         17|                    |              NULL|      |                    |    false|          2023-01-01|        3000-01-01|     false|\n|      002800|               Other|         17|                    |              NULL|      |                    |    false|          2023-01-01|        3000-01-01|     false|\n|      002850|               Other|         17|                    |              NULL|      |                    |    false|          2023-01-01|        3000-01-01|     false|\n|      002932|               Other|         17|                    |              NULL|      |                    |    false|          2023-01-01|        3000-01-01|     false|\n|      002938|               Other|         17|                    |              NULL|      |                    |     true|          2023-01-01|        3000-01-01|      true|\n|      002989|               Other|         17|                    |              NULL|      |                    |    false|          2023-01-01|        3000-01-01|     false|\n|      003037|               Other|         17|                    |              NULL|      |                    |    false|          2023-01-01|        3000-01-01|     false|\n|      003124|                  HR|         10|            Bachelor|                 2|      |                    |     true|          2023-01-01|        3000-01-01|      true|\n|      003177|               Other|         17|                    |              NULL|      |                    |    false|          2023-01-01|        3000-01-01|     false|\n|      003290|               Other|         17|                    |              NULL|      |                    |    false|          2023-01-01|        3000-01-01|     false|\n|      003317|               Other|         17|                    |              NULL|      |                    |    false|          2023-01-01|        3000-01-01|     false|\n|      003337|               Other|         17|                    |              NULL|      |                    |    false|          2023-01-01|        3000-01-01|     false|\n|      003406|               Other|         17|                    |              NULL|      |                    |    false|          2023-01-01|        3000-01-01|     false|\n|      003407|               Other|         17|                    |              NULL|      |                    |    false|          2023-01-01|        3000-01-01|     false|\n|      003419|Network Security ...|         15|                    |              NULL|      |                    |    false|          2023-01-01|        3000-01-01|     false|\n|      003440|               Other|         17|                    |              NULL|      |                    |    false|          2023-01-01|        3000-01-01|     false|\n|      003532|               Other|         17|                    |              NULL|      |                    |    false|          2023-01-01|        3000-01-01|     false|\n|      003540|                  HR|         10|                    |              NULL|      |                    |    false|          2023-01-01|        3000-01-01|     false|\n|      003547|               Other|         17|                    |              NULL|      |                    |    false|          2023-01-01|        3000-01-01|     false|\n|      003608|               Other|         17|                    |              NULL|      |                    |    false|          2023-01-01|        3000-01-01|     false|\n|      003615|                  HR|         10|                    |              NULL|      |                    |     true|          2023-01-01|        3000-01-01|      true|\n|      003622|                Arts|          3|                 MBA|                 3|      |                    |    false|          2023-01-01|        3000-01-01|     false|\n|      003634|                  HR|         10|                    |              NULL|      |                    |    false|          2023-01-01|        3000-01-01|     false|\n|      003640|       SAP Developer|         18|                    |              NULL|      |                    |     true|          2023-01-01|        3000-01-01|      true|\n|      003750|                  HR|         10|                    |              NULL|      |                    |    false|          2023-01-01|        3000-01-01|     false|\n|      003754|               Other|         17|                    |              NULL|      |                    |    false|          2023-01-01|        3000-01-01|     false|\n|      003773|               Other|         17|                    |              NULL|      |                    |    false|          2023-01-01|        3000-01-01|     false|\n|      003797|               Other|         17|                    |              NULL|      |                    |    false|          2023-01-01|        3000-01-01|     false|\n|      003811|                Arts|          3|                    |              NULL|      |                    |    false|          2023-01-01|        3000-01-01|     false|\n|      003818|        Data Science|          7|                    |              NULL|      |                    |    false|          2023-01-01|        3000-01-01|     false|\n|      003842|               Sales|         19|                    |              NULL|      |                    |    false|          2023-01-01|        3000-01-01|     false|\n|      003901|                  HR|         10|                    |              NULL|      |                    |    false|          2023-01-01|        3000-01-01|     false|\n|      003907|               Other|         17|                    |              NULL|      |                    |    false|          2023-01-01|        3000-01-01|     false|\n|      003931|               Other|         17|                    |              NULL|      |                    |    false|          2023-01-01|        3000-01-01|     false|\n|      003942|                  HR|         10|            Bachelor|                 2|      |                    |     true|          2023-01-01|        3000-01-01|      true|\n|      003960|               Other|         17|                    |              NULL|      |                    |    false|          2023-01-01|        3000-01-01|     false|\n|      004038|  Automation Testing|          4|                    |              NULL|      |                    |    false|          2023-01-01|        3000-01-01|     false|\n|      004064|               Other|         17|                    |              NULL|      |                    |    false|          2023-01-01|        3000-01-01|     false|\n|      004071|                  HR|         10|                 MBA|                 3|      |                    |     true|          2023-01-01|        3000-01-01|      true|\n|      004091|                Arts|          3|                    |              NULL|      |                    |    false|          2023-01-01|        3000-01-01|     false|\n|      004119|          Accounting|          1|                    |              NULL|      |                    |    false|          2023-01-01|        3000-01-01|     false|\n|      004200|                  HR|         10|                    |              NULL|      |                    |    false|          2023-01-01|        3000-01-01|     false|\n|      004242|               Other|         17|                    |              NULL|      |                    |    false|          2023-01-01|        3000-01-01|     false|\n|      004279|            Advocate|        \n\n*** WARNING: max output size exceeded, skipping output. ***\n\n2023-01-01|        3000-01-01|     false|\n|      014477|               Other|         17|                    |              NULL|      |                    |    false|          2023-01-01|        3000-01-01|     false|\n|      014488|                  HR|         10|                    |              NULL|      |                    |    false|          2023-01-01|        3000-01-01|     false|\n|      014491|               Other|         17|                    |              NULL|      |                    |    false|          2023-01-01|        3000-01-01|     false|\n|      014611|               Other|         17|                    |              NULL|      |                    |    false|          2023-01-01|        3000-01-01|     false|\n|      014737|                Arts|          3|                    |              NULL|      |                    |    false|          2023-01-01|        3000-01-01|     false|\n|      014834|               Other|         17|                    |              NULL|      |                    |    false|          2023-01-01|        3000-01-01|     false|\n|      014838|                  HR|         10|                    |              NULL|      |                    |    false|          2023-01-01|        3000-01-01|     false|\n|      015028|               Other|         17|                    |              NULL|      |                    |    false|          2023-01-01|        3000-01-01|     false|\n|      015045|            Advocate|          2|                    |              NULL|      |                    |    false|          2023-01-01|        3000-01-01|     false|\n|      015057|               Other|         17|                    |              NULL|      |                    |    false|          2023-01-01|        3000-01-01|     false|\n|      015064|               Other|         17|                    |              NULL|      |                    |    false|          2023-01-01|        3000-01-01|     false|\n|      015080|  Health and Fitness|         11|            Bachelor|                 2|      |                    |     true|          2023-01-01|        3000-01-01|      true|\n|      015086|Network Security ...|         15|                    |              NULL|      |                    |    false|          2023-01-01|        3000-01-01|     false|\n|      015143|                  HR|         10|                    |              NULL|      |                    |    false|          2023-01-01|        3000-01-01|     false|\n|      015195|                  HR|         10|                 MBA|                 3|      |                    |     true|          2023-01-01|        3000-01-01|      true|\n|      015199|               Other|         17|                    |              NULL|      |                    |    false|          2023-01-01|        3000-01-01|     false|\n|      015309|               Other|         17|                    |              NULL|      |                    |    false|          2023-01-01|        3000-01-01|     false|\n|      015335|            Advocate|          2|                    |              NULL|      |                    |    false|          2023-01-01|        3000-01-01|     false|\n|      015341|   Software Engineer|         20|                    |              NULL|      |                    |     true|          2023-01-01|        3000-01-01|      true|\n|      015382|        Data Science|          7|                    |              NULL|      |                    |    false|          2023-01-01|        3000-01-01|     false|\n|      015387|      Java Developer|         12|                    |              NULL|      |                    |    false|          2023-01-01|        3000-01-01|     false|\n|      015408|                  HR|         10|                    |              NULL|      |                    |    false|          2023-01-01|        3000-01-01|     false|\n|      015446|               Other|         17|                    |              NULL|      |                    |    false|          2023-01-01|        3000-01-01|     false|\n|      015480|               Other|         17|                    |              NULL|      |                    |    false|          2023-01-01|        3000-01-01|     false|\n|      015529|               Other|         17|                    |              NULL|      |                    |    false|          2023-01-01|        3000-01-01|     false|\n|      015546|    Business Analyst|          5|                    |              NULL|      |                    |    false|          2023-01-01|        3000-01-01|     false|\n|      015596|               Other|         17|                    |              NULL|      |                    |    false|          2023-01-01|        3000-01-01|     false|\n|      015622|  Operations Manager|         16|                    |              NULL|      |                    |     true|          2023-01-01|        3000-01-01|      true|\n|      015656|               Other|         17|                    |              NULL|      |                    |    false|          2023-01-01|        3000-01-01|     false|\n|      015672|               Other|         17|                    |              NULL|      |                    |    false|          2023-01-01|        3000-01-01|     false|\n|      015677|                  HR|         10|                    |              NULL|      |                    |    false|          2023-01-01|        3000-01-01|     false|\n|      015727|               Other|         17|                    |              NULL|      |                    |    false|          2023-01-01|        3000-01-01|     false|\n|      015746|               Other|         17|                    |              NULL|      |                    |    false|          2023-01-01|        3000-01-01|     false|\n|      015763|  Health and Fitness|         11|                    |              NULL|      |                    |    false|          2023-01-01|        3000-01-01|     false|\n|      015805|               Other|         17|                    |              NULL|      |                    |    false|          2023-01-01|        3000-01-01|     false|\n|      015947|               Other|         17|                    |              NULL|      |                    |    false|          2023-01-01|        3000-01-01|     false|\n|      015982|               Other|         17|                    |              NULL|      |                    |    false|          2023-01-01|        3000-01-01|     false|\n|      016003|               Other|         17|                    |              NULL|      |                    |    false|          2023-01-01|        3000-01-01|     false|\n|      016107|               Other|         17|                    |              NULL|      |                    |    false|          2023-01-01|        3000-01-01|     false|\n|      016135|               Other|         17|                    |              NULL|      |                    |    false|          2023-01-01|        3000-01-01|     false|\n|      016188|               Other|         17|                    |              NULL|      |                    |    false|          2023-01-01|        3000-01-01|     false|\n|      016234|        Data Science|          7|                    |              NULL|      |                    |    false|          2023-01-01|        3000-01-01|     false|\n|      016311|               Other|         17|                    |              NULL|      |                    |    false|          2023-01-01|        3000-01-01|     false|\n|      016321|               Other|         17|                    |              NULL|      |                    |    false|          2023-01-01|        3000-01-01|     false|\n|      016330|        Data Science|          7|                    |              NULL|      |                    |    false|          2023-01-01|        3000-01-01|     false|\n|      016349|               Other|         17|                    |              NULL|      |                    |    false|          2023-01-01|        3000-01-01|     false|\n|      016429|               Other|         17|                    |              NULL|      |                    |    false|          2023-01-01|        3000-01-01|     false|\n|      016473|        Data Science|          7|                    |              NULL|      |                    |    false|          2023-01-01|        3000-01-01|     false|\n|      016551|Network Security ...|         15|                    |              NULL|      |https://schema.or...|     true|          2023-01-01|        3000-01-01|      true|\n|      016553|               Other|         17|                    |              NULL|      |                    |    false|          2023-01-01|        3000-01-01|     false|\n|      016588|               Other|         17|                    |              NULL|      |                    |    false|          2023-01-01|        3000-01-01|     false|\n|      016615|               Other|         17|                    |              NULL|      |                    |    false|          2023-01-01|        3000-01-01|     false|\n|      016624|               Other|         17|                    |              NULL|      |                    |    false|          2023-01-01|        3000-01-01|     false|\n|      016649|          Accounting|          1|                    |              NULL|      |                    |    false|          2023-01-01|        3000-01-01|     false|\n|      016773|               Other|         17|                    |              NULL|      |https://schema.or...|     true|          2023-01-01|        3000-01-01|      true|\n|      016778|               Other|         17|                    |              NULL|      |                    |    false|          2023-01-01|        3000-01-01|     false|\n|      016805|                  HR|         10|                    |              NULL|      |                    |    false|          2023-01-01|        3000-01-01|     false|\n|      016895|               Other|         17|                    |              NULL|      |                    |    false|          2023-01-01|        3000-01-01|     false|\n|      016906|               Other|         17|                    |              NULL|      |                    |    false|          2023-01-01|        3000-01-01|     false|\n|      016976|               Other|         17|                    |              NULL|      |                    |    false|          2023-01-01|        3000-01-01|     false|\n|      016984|               Other|         17|                    |              NULL|      |                    |    false|          2023-01-01|        3000-01-01|     false|\n|      016994|                  HR|         10|                    |              NULL|      |                    |    false|          2023-01-01|        3000-01-01|     false|\n|      017004|               Other|         17|                    |              NULL|      |                    |    false|          2023-01-01|        3000-01-01|     false|\n|      017082|      Civil Engineer|          6|                    |              NULL|      |                    |    false|          2023-01-01|        3000-01-01|     false|\n|      017155|               Other|         17|                    |              NULL|      |                    |    false|          2023-01-01|        3000-01-01|     false|\n|      017206|               Other|         17|                    |              NULL|      |                    |    false|          2023-01-01|        3000-01-01|     false|\n|      017209|               Other|         17|                    |              NULL|      |                    |    false|          2023-01-01|        3000-01-01|     false|\n|      017257|               Other|         17|                    |              NULL|      |                    |    false|          2023-01-01|        3000-01-01|     false|\n|      017297|               Other|         17|                    |              NULL|      |                    |    false|          2023-01-01|        3000-01-01|     false|\n|      017301|               Other|         17|                    |              NULL|      |                    |    false|          2023-01-01|        3000-01-01|     false|\n|      017398|               Other|         17|                    |              NULL|      |https://schema.or...|     true|          2023-01-01|        3000-01-01|      true|\n|      017422|               Other|         17|                    |              NULL|      |                    |    false|          2023-01-01|        3000-01-01|     false|\n|      017456|               Other|         17|                    |              NULL|      |                    |    false|          2023-01-01|        3000-01-01|     false|\n|      017476|               Other|         17|                    |              NULL|      |                    |    false|          2023-01-01|        3000-01-01|     false|\n|      017529|               Other|         17|                    |              NULL|      |                    |    false|          2023-01-01|        3000-01-01|     false|\n|      017618|                  HR|         10|                 MBA|                 3|      |                    |     true|          2023-01-01|        3000-01-01|      true|\n|      017621|               Other|         17|                    |              NULL|      |                    |    false|          2023-01-01|        3000-01-01|     false|\n|      017622|               Other|         17|                    |              NULL|      |https://schema.or...|     true|          2023-01-01|        3000-01-01|      true|\n|      017623|               Other|         17|                    |              NULL|      |                    |    false|          2023-01-01|        3000-01-01|     false|\n|      017664|                  HR|         10|                    |              NULL|      |                    |    false|          2023-01-01|        3000-01-01|     false|\n|      017666|               Other|         17|                    |              NULL|      |                    |    false|          2023-01-01|        3000-01-01|     false|\n|      017670| Mechanical Engineer|         14|                    |              NULL|      |                    |    false|          2023-01-01|        3000-01-01|     false|\n|      017683|            Database|          8|                    |              NULL|      |                    |    false|          2023-01-01|        3000-01-01|     false|\n|      017756|Network Security ...|         15|                    |              NULL|      |                    |    false|          2023-01-01|        3000-01-01|     false|\n|      017762|               Other|         17|                    |              NULL|      |                    |    false|          2023-01-01|        3000-01-01|     false|\n|      017859|  Health and Fitness|         11|                    |              NULL|      |                    |    false|          2023-01-01|        3000-01-01|     false|\n|      017861|        Data Science|          7|                    |              NULL|      |                    |    false|          2023-01-01|        3000-01-01|     false|\n|      017883|               Other|         17|                    |              NULL|      |                    |    false|          2023-01-01|        3000-01-01|     false|\n|      017939|                  HR|         10|                    |              NULL|      |                    |    false|          2023-01-01|        3000-01-01|     false|\n|      017964|                  HR|         10|                    |              NULL|      |                    |    false|          2023-01-01|        3000-01-01|     false|\n|      017989|               Other|         17|                    |              NULL|      |                    |    false|          2023-01-01|        3000-01-01|     false|\n|      018001|        Data Science|          7|                    |              NULL|      |                    |    false|          2023-01-01|        3000-01-01|     false|\n|      018017|  Health and Fitness|         11|                    |              NULL|      |                    |    false|          2023-01-01|        3000-01-01|     false|\n|      018025|               Other|         17|                    |              NULL|      |                    |    false|          2023-01-01|        3000-01-01|     false|\n|      018071|               Other|         17|                    |              NULL|      |                    |    false|          2023-01-01|        3000-01-01|     false|\n|      018135|               Other|         17|                    |              NULL|      |                    |    false|          2023-01-01|        3000-01-01|     false|\n|      018183|               Other|         17|                    |              NULL|      |                    |    false|          2023-01-01|        3000-01-01|     false|\n|      018188|               Other|         17|                    |              NULL|      |                    |    false|          2023-01-01|        3000-01-01|     false|\n|      018190|  Automation Testing|          4|                    |              NULL|      |                    |    false|          2023-01-01|        3000-01-01|     false|\n|      018199|               Other|         17|                    |              NULL|      |                    |    false|          2023-01-01|        3000-01-01|     false|\n|      018236|               Other|         17|                    |              NULL|      |                    |    false|          2023-01-01|        3000-01-01|     false|\n|      018255|               Other|         17|                    |              NULL|      |                    |    false|          2023-01-01|        3000-01-01|     false|\n|      018268|Network Security ...|         15|                    |              NULL|      |                    |    false|          2023-01-01|        3000-01-01|     false|\n|      018310|               Other|         17|                    |              NULL|      |                    |    false|          2023-01-01|        3000-01-01|     false|\n|      018325|               Other|         17|                    |              NULL|      |                    |    false|          2023-01-01|        3000-01-01|     false|\n|      018354|               Other|         17|                    |              NULL|      |                    |    false|          2023-01-01|        3000-01-01|     false|\n|      018376|               Other|         17|                    |              NULL|      |                    |    false|          2023-01-01|        3000-01-01|     false|\n|      018413|   Software Engineer|         20|                    |              NULL|      |                    |    false|          2023-01-01|        3000-01-01|     false|\n|      018455|               Other|         17|                    |              NULL|      |                    |    false|          2023-01-01|        3000-01-01|     false|\n|      018538|               Other|         17|                    |              NULL|      |                    |    false|          2023-01-01|        3000-01-01|     false|\n|      018551|                  HR|         10|                    |              NULL|      |                    |    false|          2023-01-01|        3000-01-01|     false|\n|      018605|               Other|         17|                    |              NULL|      |                    |    false|          2023-01-01|        3000-01-01|     false|\n|      018677|               Other|         17|                    |              NULL|      |                    |    false|          2023-01-01|        3000-01-01|     false|\n|      018707|               Other|         17|                    |              NULL|      |                    |    false|          2023-01-01|        3000-01-01|     false|\n|      018709|            Advocate|          2|    Bachelor, Master|                10|      |                    |     true|          2023-01-01|        3000-01-01|      true|\n|      018731|                  HR|         10|                    |              NULL|      |                    |    false|          2023-01-01|        3000-01-01|     false|\n|      018756|               Other|         17|                    |              NULL|      |                    |    false|          2023-01-01|        3000-01-01|     false|\n|      018758|               Other|         17|                    |              NULL|      |                    |    false|          2023-01-01|        3000-01-01|     false|\n|      018784|  Health and Fitness|         11|              Master|                 7|      |                    |     true|          2023-01-01|        3000-01-01|      true|\n|      018786|               Other|         17|                    |              NULL|      |                    |    false|          2023-01-01|        3000-01-01|     false|\n|      018803|               Other|         17|                    |              NULL|      |                    |    false|          2023-01-01|        3000-01-01|     false|\n|      018818|                  HR|         10|MBA, Bachelor, ma...|                 5|      |www.linkedin.com/...|     true|          2023-01-01|        3000-01-01|      true|\n|      018829|                  HR|         10|                    |              NULL|      |                    |    false|          2023-01-01|        3000-01-01|     false|\n|      019009|               Other|         17|                    |              NULL|      |                    |    false|          2023-01-01|        3000-01-01|     false|\n|      019055|                  HR|         10|                    |              NULL|      |                    |    false|          2023-01-01|        3000-01-01|     false|\n|      019131|               Other|         17|                    |              NULL|      |                    |    false|          2023-01-01|        3000-01-01|     false|\n|      019146|                  HR|         10|                    |              NULL|      |                    |     true|          2023-01-01|        3000-01-01|      true|\n|      019181|       SAP Developer|         18|                    |              NULL|      |                    |     true|          2023-01-01|        3000-01-01|      true|\n|      019226|               Other|         17|                    |              NULL|      |                    |    false|          2023-01-01|        3000-01-01|     false|\n|      019275|        Data Science|          7|                    |              NULL|      |                    |    false|          2023-01-01|        3000-01-01|     false|\n|      019300|               Other|         17|                    |              NULL|      |                    |    false|          2023-01-01|        3000-01-01|     false|\n|      019357|        Data Science|          7|                    |              NULL|      |                    |    false|          2023-01-01|        3000-01-01|     false|\n|      019407|               Other|         17|                    |              NULL|      |                    |    false|          2023-01-01|        3000-01-01|     false|\n|      019439|               Other|         17|                    |              NULL|      |                    |    false|          2023-01-01|        3000-01-01|     false|\n|      019453|  Automation Testing|          4|                    |              NULL|      |                    |    false|          2023-01-01|        3000-01-01|     false|\n|      019463|               Other|         17|                    |              NULL|      |                    |    false|          2023-01-01|        3000-01-01|     false|\n|      019506|               Other|         17|                    |              NULL|      |                    |    false|          2023-01-01|        3000-01-01|     false|\n|      019551|        Data Science|          7|                    |              NULL|      |                    |    false|          2023-01-01|        3000-01-01|     false|\n|      019560|               Other|         17|                    |              NULL|      |                    |    false|          2023-01-01|        3000-01-01|     false|\n|      019562|               Other|         17|                    |              NULL|      |                    |    false|          2023-01-01|        3000-01-01|     false|\n+------------+--------------------+-----------+--------------------+------------------+------+--------------------+---------+--------------------+------------------+----------+\n\n"
     ]
    }
   ],
   "source": [
    "cand_stage.show(1000)"
   ]
  },
  {
   "cell_type": "code",
   "execution_count": 0,
   "metadata": {
    "application/vnd.databricks.v1+cell": {
     "cellMetadata": {
      "byteLimit": 2048000,
      "rowLimit": 10000
     },
     "inputWidgets": {},
     "nuid": "17a7a033-94c7-49c8-9e07-46e1cc4b7c95",
     "showTitle": false,
     "tableResultSettingsMap": {},
     "title": ""
    }
   },
   "outputs": [
    {
     "output_type": "stream",
     "name": "stdout",
     "output_type": "stream",
     "text": [
      "root\n |-- candidate_id: string (nullable = true)\n |-- Category: string (nullable = true)\n |-- category_id: integer (nullable = true)\n |-- education_level: string (nullable = true)\n |-- education_level_id: integer (nullable = true)\n |-- emails: string (nullable = true)\n |-- urls: string (nullable = true)\n |-- is_usable: boolean (nullable = true)\n |-- effective_start_date: date (nullable = true)\n |-- effective_end_date: string (nullable = true)\n |-- is_current: boolean (nullable = true)\n\n"
     ]
    }
   ],
   "source": [
    "# Candidate dimension rows for SCD2 merge\n",
    "cand_stage.printSchema()"
   ]
  },
  {
   "cell_type": "code",
   "execution_count": 0,
   "metadata": {
    "application/vnd.databricks.v1+cell": {
     "cellMetadata": {
      "byteLimit": 2048000,
      "rowLimit": 10000
     },
     "inputWidgets": {},
     "nuid": "b5e05070-fa82-4bd4-ab10-336f05e469a7",
     "showTitle": false,
     "tableResultSettingsMap": {},
     "title": ""
    }
   },
   "outputs": [
    {
     "output_type": "stream",
     "name": "stdout",
     "output_type": "stream",
     "text": [
      "root\n |-- candidate_id: string (nullable = true)\n |-- skill_id: integer (nullable = true)\n\n"
     ]
    }
   ],
   "source": [
    "bridge_candidate_skill.printSchema()"
   ]
  },
  {
   "cell_type": "code",
   "execution_count": 0,
   "metadata": {
    "application/vnd.databricks.v1+cell": {
     "cellMetadata": {
      "byteLimit": 2048000,
      "rowLimit": 10000
     },
     "inputWidgets": {},
     "nuid": "0712ba76-9050-4d3b-9412-5c3adb9e7e50",
     "showTitle": false,
     "tableResultSettingsMap": {},
     "title": ""
    }
   },
   "outputs": [
    {
     "output_type": "stream",
     "name": "stdout",
     "output_type": "stream",
     "text": [
      "root\n |-- skill: string (nullable = true)\n |-- skill_id: integer (nullable = true)\n\n"
     ]
    }
   ],
   "source": [
    "dim_skill_df.printSchema()"
   ]
  },
  {
   "cell_type": "code",
   "execution_count": 0,
   "metadata": {
    "application/vnd.databricks.v1+cell": {
     "cellMetadata": {
      "byteLimit": 2048000,
      "rowLimit": 10000
     },
     "inputWidgets": {},
     "nuid": "c1e5208e-9682-40d3-95e4-b98f6b4a85a1",
     "showTitle": false,
     "tableResultSettingsMap": {},
     "title": ""
    }
   },
   "outputs": [
    {
     "output_type": "stream",
     "name": "stdout",
     "output_type": "stream",
     "text": [
      "root\n |-- Category: string (nullable = true)\n |-- Category_id: integer (nullable = true)\n\n"
     ]
    }
   ],
   "source": [
    "dim_category.printSchema()"
   ]
  },
  {
   "cell_type": "code",
   "execution_count": 0,
   "metadata": {
    "application/vnd.databricks.v1+cell": {
     "cellMetadata": {
      "byteLimit": 2048000,
      "rowLimit": 10000
     },
     "inputWidgets": {},
     "nuid": "24f82cab-2719-453a-80cd-03ba7e1a79d0",
     "showTitle": false,
     "tableResultSettingsMap": {},
     "title": ""
    }
   },
   "outputs": [
    {
     "output_type": "stream",
     "name": "stdout",
     "output_type": "stream",
     "text": [
      "root\n |-- education_level: string (nullable = true)\n |-- education_level_id: integer (nullable = true)\n\n"
     ]
    }
   ],
   "source": [
    "dim_education.printSchema()"
   ]
  },
  {
   "cell_type": "markdown",
   "metadata": {
    "application/vnd.databricks.v1+cell": {
     "cellMetadata": {
      "byteLimit": 2048000,
      "rowLimit": 10000
     },
     "inputWidgets": {},
     "nuid": "63c671ec-c1c7-4b74-acaf-4f594f3ccc44",
     "showTitle": false,
     "tableResultSettingsMap": {},
     "title": ""
    }
   },
   "source": [
    "## SCD Type 2"
   ]
  },
  {
   "cell_type": "code",
   "execution_count": 0,
   "metadata": {
    "application/vnd.databricks.v1+cell": {
     "cellMetadata": {
      "byteLimit": 2048000,
      "rowLimit": 10000
     },
     "inputWidgets": {},
     "nuid": "1365fa15-93c0-47a0-9b86-29604126e29d",
     "showTitle": false,
     "tableResultSettingsMap": {},
     "title": ""
    }
   },
   "outputs": [],
   "source": [
    "from pyspark.sql.functions import col, lit, to_date, date_sub\n",
    "\n",
    "stage_df = spark.read.table(\"workspace.resume_project.dim_candidate_stage\")\n",
    "\n",
    "table_name = \"workspace.resume_project.dim_candidate\"\n",
    "\n",
    "if not spark.catalog.tableExists(table_name):\n",
    "    first_run = True\n",
    "else:\n",
    "    first_run = False\n",
    "    existing_df = spark.read.table(table_name)"
   ]
  },
  {
   "cell_type": "code",
   "execution_count": 0,
   "metadata": {
    "application/vnd.databricks.v1+cell": {
     "cellMetadata": {
      "byteLimit": 2048000,
      "rowLimit": 10000
     },
     "inputWidgets": {},
     "nuid": "6333bbff-071e-44ee-8bcf-bbd306bd34ac",
     "showTitle": false,
     "tableResultSettingsMap": {},
     "title": ""
    }
   },
   "outputs": [
    {
     "output_type": "stream",
     "name": "stdout",
     "output_type": "stream",
     "text": [
      "+------------+--------+-----------+---------------+------------------+------+----+---------+--------------------+------------------+----------+\n|candidate_id|Category|category_id|education_level|education_level_id|emails|urls|is_usable|effective_start_date|effective_end_date|is_current|\n+------------+--------+-----------+---------------+------------------+------+----+---------+--------------------+------------------+----------+\n|      000038|   Other|         17|               |              NULL|      |    |    false|          2023-01-01|        3000-01-01|     false|\n|      000047|   Other|         17|               |              NULL|      |    |    false|          2023-01-01|        3000-01-01|     false|\n|      000052|   Other|         17|               |              NULL|      |    |    false|          2023-01-01|        3000-01-01|     false|\n|      000077|      HR|         10|               |              NULL|      |    |     true|          2023-01-01|        3000-01-01|      true|\n|      000090|   Other|         17|               |              NULL|      |    |    false|          2023-01-01|        3000-01-01|     false|\n|      000099|   Other|         17|               |              NULL|      |    |    false|          2023-01-01|        3000-01-01|     false|\n|      000135|   Other|         17|               |              NULL|      |    |    false|          2023-01-01|        3000-01-01|     false|\n|      000204|   Other|         17|               |              NULL|      |    |    false|          2023-01-01|        3000-01-01|     false|\n|      000237|   Other|         17|               |              NULL|      |    |    false|          2023-01-01|        3000-01-01|     false|\n|      000240|   Other|         17|               |              NULL|      |    |    false|          2023-01-01|        3000-01-01|     false|\n|      000256|   Other|         17|               |              NULL|      |    |    false|          2023-01-01|        3000-01-01|     false|\n|      000301|   Other|         17|               |              NULL|      |    |    false|          2023-01-01|        3000-01-01|     false|\n|      000344|   Other|         17|               |              NULL|      |    |    false|          2023-01-01|        3000-01-01|     false|\n|      000448|      HR|         10|       MBA, B.E|                 4|      |    |     true|          2023-01-01|        3000-01-01|      true|\n|      000479|   Other|         17|               |              NULL|      |    |    false|          2023-01-01|        3000-01-01|     false|\n|      000494|      HR|         10|               |              NULL|      |    |    false|          2023-01-01|        3000-01-01|     false|\n|      000511|   Other|         17|               |              NULL|      |    |    false|          2023-01-01|        3000-01-01|     false|\n|      000528|   Other|         17|               |              NULL|      |    |    false|          2023-01-01|        3000-01-01|     false|\n|      000634|   Other|         17|               |              NULL|      |    |    false|          2023-01-01|        3000-01-01|     false|\n|      000652|      HR|         10|               |              NULL|      |    |    false|          2023-01-01|        3000-01-01|     false|\n+------------+--------+-----------+---------------+------------------+------+----+---------+--------------------+------------------+----------+\nonly showing top 20 rows\n"
     ]
    }
   ],
   "source": [
    "stage_df.show()"
   ]
  },
  {
   "cell_type": "code",
   "execution_count": 0,
   "metadata": {
    "application/vnd.databricks.v1+cell": {
     "cellMetadata": {
      "byteLimit": 2048000,
      "rowLimit": 10000
     },
     "inputWidgets": {},
     "nuid": "85e1ca65-9154-42bd-a80f-bc1e3b57e5a7",
     "showTitle": false,
     "tableResultSettingsMap": {},
     "title": ""
    }
   },
   "outputs": [
    {
     "output_type": "stream",
     "name": "stdout",
     "output_type": "stream",
     "text": [
      "+------------+--------+-----------+---------------+------------------+------+----+---------+--------------------+------------------+----------+\n|candidate_id|Category|category_id|education_level|education_level_id|emails|urls|is_usable|effective_start_date|effective_end_date|is_current|\n+------------+--------+-----------+---------------+------------------+------+----+---------+--------------------+------------------+----------+\n|      000038|   Other|         17|               |              NULL|      |    |    false|          2023-01-01|        3000-01-01|     false|\n|      000047|   Other|         17|               |              NULL|      |    |    false|          2023-01-01|        3000-01-01|     false|\n|      000052|   Other|         17|               |              NULL|      |    |    false|          2023-01-01|        3000-01-01|     false|\n|      000077|      HR|         10|               |              NULL|      |    |     true|          2023-01-01|        3000-01-01|      true|\n|      000090|   Other|         17|               |              NULL|      |    |    false|          2023-01-01|        3000-01-01|     false|\n|      000099|   Other|         17|               |              NULL|      |    |    false|          2023-01-01|        3000-01-01|     false|\n|      000135|   Other|         17|               |              NULL|      |    |    false|          2023-01-01|        3000-01-01|     false|\n|      000204|   Other|         17|               |              NULL|      |    |    false|          2023-01-01|        3000-01-01|     false|\n|      000237|   Other|         17|               |              NULL|      |    |    false|          2023-01-01|        3000-01-01|     false|\n|      000240|   Other|         17|               |              NULL|      |    |    false|          2023-01-01|        3000-01-01|     false|\n+------------+--------+-----------+---------------+------------------+------+----+---------+--------------------+------------------+----------+\nonly showing top 10 rows\n+------------+------------------+-----------+--------------------+------------------+------+----+---------+--------------------+------------------+----------+\n|candidate_id|          Category|category_id|     education_level|education_level_id|emails|urls|is_usable|effective_start_date|effective_end_date|is_current|\n+------------+------------------+-----------+--------------------+------------------+------+----+---------+--------------------+------------------+----------+\n|      012995|Operations Manager|         16|MBA, Doctorate, M...|                11|      |    |     true|          2023-01-01|        3000-01-01|      true|\n|      013878|                HR|         10|    Bachelor, Master|                10|      |    |     true|          2023-01-01|        3000-01-01|      true|\n|      018709|          Advocate|          2|    Bachelor, Master|                10|      |    |     true|          2023-01-01|        3000-01-01|      true|\n+------------+------------------+-----------+--------------------+------------------+------+----+---------+--------------------+------------------+----------+\n\n+------------+--------+-----------+---------------+------------------+------+----+---------+--------------------+------------------+----------+------------+--------+-----------+---------------+------------------+------+----+---------+--------------------+------------------+----------+\n|candidate_id|Category|category_id|education_level|education_level_id|emails|urls|is_usable|effective_start_date|effective_end_date|is_current|candidate_id|Category|category_id|education_level|education_level_id|emails|urls|is_usable|effective_start_date|effective_end_date|is_current|\n+------------+--------+-----------+---------------+------------------+------+----+---------+--------------------+------------------+----------+------------+--------+-----------+---------------+------------------+------+----+---------+--------------------+------------------+----------+\n+------------+--------+-----------+---------------+------------------+------+----+---------+--------------------+------------------+----------+------------+--------+-----------+---------------+------------------+------+----+---------+--------------------+------------------+----------+\n\nSCD2 merge complete. 530 candidate(s) updated.\n"
     ]
    }
   ],
   "source": [
    "if first_run:\n",
    "    stage_df.write.format(\"delta\").mode(\"overwrite\").saveAsTable(table_name)\n",
    "    print(\"First run: dim_candidate table created.\")\n",
    "else:\n",
    "    current_df = existing_df.filter(\"is_current = true\")\n",
    "\n",
    "    join_cond = [stage_df.candidate_id == current_df.candidate_id]\n",
    "    stage = stage_df.alias(\"stage\")\n",
    "    curr = current_df.alias(\"curr\")\n",
    "\n",
    "    changes_df = (\n",
    "        stage.join(curr, join_cond, \"left\")\n",
    "        .filter(\n",
    "            (curr.candidate_id.isNull()) |\n",
    "            (stage.category_id != curr.category_id) |\n",
    "            (stage.education_level_id != curr.education_level_id) |\n",
    "            (stage.emails != curr.emails) |\n",
    "            (stage.urls != curr.urls) |\n",
    "            (stage.is_usable != curr.is_usable)\n",
    "    )\n",
    "    .select(\"stage.*\")\n",
    "    )\n",
    "\n",
    "    if changes_df.count() == 0:\n",
    "        print(\"No new or updated candidate records.\")\n",
    "    else:\n",
    "        changes_df.show(n=10)\n",
    "        current_df.show(n=10)\n",
    "        stage = changes_df.alias(\"stage\")\n",
    "        curr = current_df.alias(\"curr\")\n",
    "\n",
    "        joined_df = curr.join(stage, curr.candidate_id == stage.candidate_id, \"inner\")\n",
    "        joined_df.show(n=10)\n",
    "        expired_df = (\n",
    "            curr\n",
    "            .drop(\"effective_end_date\")\n",
    "            .drop(\"is_current\")\n",
    "            .join(stage, curr.candidate_id == stage.candidate_id, \"inner\")\n",
    "            .withColumn(\"effective_end_date\", date_sub(col(\"curr.effective_start_date\"), 1))\n",
    "            .withColumn(\"effective_end_date\", col(\"effective_end_date\").cast(\"string\"))\n",
    "            .withColumn(\"is_current\", lit(False))\n",
    "            .select(\n",
    "                col(\"curr.candidate_id\").alias(\"candidate_id\"),\n",
    "                col(\"curr.Category\").alias(\"Category\"),\n",
    "                col(\"curr.category_id\").alias(\"category_id\"),\n",
    "                col(\"curr.education_level\").alias(\"education_level\"),\n",
    "                col(\"curr.education_level_id\").alias(\"education_level_id\"),\n",
    "                col(\"curr.emails\").alias(\"emails\"),\n",
    "                col(\"curr.urls\").alias(\"urls\"),\n",
    "                col(\"curr.is_usable\").alias(\"is_usable\"),\n",
    "                col(\"curr.effective_start_date\").alias(\"effective_start_date\"),\n",
    "                col(\"effective_end_date\"),  \n",
    "                col(\"is_current\")\n",
    "            )\n",
    "        )\n",
    "\n",
    "        final_df = (\n",
    "            existing_df.filter(\"is_current = false\")\n",
    "            .unionByName(expired_df)\n",
    "            .unionByName(changes_df)\n",
    "        )\n",
    "\n",
    "        final_df.write.format(\"delta\").mode(\"overwrite\").saveAsTable(\"workspace.resume_project.dim_candidate\")\n",
    "        print(f\"SCD2 merge complete. {changes_df.count()} candidate(s) updated.\")\n"
   ]
  }
 ],
 "metadata": {
  "application/vnd.databricks.v1+notebook": {
   "computePreferences": null,
   "dashboards": [],
   "environmentMetadata": {
    "base_environment": "",
    "environment_version": "2"
   },
   "inputWidgetPreferences": null,
   "language": "python",
   "notebookMetadata": {
    "mostRecentlyExecutedCommandWithImplicitDF": {
     "commandId": 7157560461717182,
     "dataframes": [
      "_sqldf"
     ]
    },
    "pythonIndentUnit": 4
   },
   "notebookName": "03_transform_and_scd2",
   "widgets": {}
  },
  "language_info": {
   "name": "python"
  }
 },
 "nbformat": 4,
 "nbformat_minor": 0
}