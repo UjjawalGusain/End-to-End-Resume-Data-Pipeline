{
 "cells": [
  {
   "cell_type": "code",
   "execution_count": 0,
   "metadata": {
    "application/vnd.databricks.v1+cell": {
     "cellMetadata": {
      "byteLimit": 2048000,
      "rowLimit": 10000
     },
     "inputWidgets": {},
     "nuid": "41930015-774b-4d07-b108-6d7ec875a4b6",
     "showTitle": false,
     "tableResultSettingsMap": {},
     "title": ""
    }
   },
   "outputs": [],
   "source": [
    "from pyspark.sql.functions import lit\n",
    "from datetime import date\n",
    "\n",
    "initial_date = \"2022-12-31\"\n",
    "spark.createDataFrame([(initial_date,)], [\"last_processed_date\"]) \\\n",
    "     .write.mode(\"overwrite\") \\\n",
    "     .format(\"delta\") \\\n",
    "     .saveAsTable(\"workspace.resume_project.processing_tracker\")"
   ]
  },
  {
   "cell_type": "code",
   "execution_count": 0,
   "metadata": {
    "application/vnd.databricks.v1+cell": {
     "cellMetadata": {
      "byteLimit": 2048000,
      "rowLimit": 10000
     },
     "inputWidgets": {},
     "nuid": "43506c00-e15c-4157-8a23-9231f138e4d5",
     "showTitle": false,
     "tableResultSettingsMap": {},
     "title": ""
    }
   },
   "outputs": [],
   "source": [
    "from pyspark.sql.functions import col\n",
    "from datetime import datetime, timedelta\n",
    "\n",
    "tracker = spark.read.table(\"workspace.resume_project.processing_tracker\")\n",
    "last_date = tracker.collect()[0][\"last_processed_date\"]\n",
    "next_date = (datetime.strptime(last_date, \"%Y-%m-%d\") + timedelta(days=1)).strftime(\"%Y-%m-%d\")\n",
    "\n",
    "df = spark.read.table(\"workspace.resume_project.resume_master_source\")\n",
    "df_today = df.filter(col(\"upload_date\") == next_date)\n",
    "\n",
    "df_today.write.format(\"delta\") \\\n",
    "    .mode(\"overwrite\") \\\n",
    "    .saveAsTable(\"workspace.resume_project.resume_raw_data\")"
   ]
  },
  {
   "cell_type": "code",
   "execution_count": 0,
   "metadata": {
    "application/vnd.databricks.v1+cell": {
     "cellMetadata": {
      "byteLimit": 2048000,
      "rowLimit": 10000
     },
     "inputWidgets": {},
     "nuid": "59591f92-a93c-42c6-9a86-0b676b381876",
     "showTitle": false,
     "tableResultSettingsMap": {},
     "title": ""
    }
   },
   "outputs": [
    {
     "output_type": "stream",
     "name": "stdout",
     "output_type": "stream",
     "text": [
      "+--------------------+------------------+------------+-------------------+\n|              Resume|          Category|candidate_id|        upload_date|\n+--------------------+------------------+------------+-------------------+\n| enthusiastic com...|Operations Manager|      007018|2023-01-01 00:00:00|\n|   State     Help...|             Other|      003532|2023-01-01 00:00:00|\n|  <u> Micros </u>...|             Other|      007260|2023-01-01 00:00:00|\n| </span> <span cl...|             Other|      009123|2023-01-01 00:00:00|\n| </span> <span cl...|             Other|      017155|2023-01-01 00:00:00|\n+--------------------+------------------+------------+-------------------+\nonly showing top 5 rows\n"
     ]
    }
   ],
   "source": [
    "df_today.show(n=5)"
   ]
  }
 ],
 "metadata": {
  "application/vnd.databricks.v1+notebook": {
   "computePreferences": null,
   "dashboards": [],
   "environmentMetadata": {
    "base_environment": "",
    "environment_version": "2"
   },
   "inputWidgetPreferences": null,
   "language": "python",
   "notebookMetadata": {
    "pythonIndentUnit": 4
   },
   "notebookName": "01_simulate_daily_ingestion",
   "widgets": {}
  },
  "language_info": {
   "name": "python"
  }
 },
 "nbformat": 4,
 "nbformat_minor": 0
}