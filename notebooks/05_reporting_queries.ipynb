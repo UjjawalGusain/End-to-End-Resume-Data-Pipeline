{
 "cells": [
  {
   "cell_type": "code",
   "execution_count": 0,
   "metadata": {
    "application/vnd.databricks.v1+cell": {
     "cellMetadata": {
      "byteLimit": 2048000,
      "rowLimit": 10000
     },
     "inputWidgets": {},
     "nuid": "b6e56a64-5f80-4cdb-8f76-81a490bd367e",
     "showTitle": false,
     "tableResultSettingsMap": {},
     "title": ""
    }
   },
   "outputs": [
    {
     "output_type": "display_data",
     "data": {
      "text/html": [
       "<style scoped>\n",
       "  .table-result-container {\n",
       "    max-height: 300px;\n",
       "    overflow: auto;\n",
       "  }\n",
       "  table, th, td {\n",
       "    border: 1px solid black;\n",
       "    border-collapse: collapse;\n",
       "  }\n",
       "  th, td {\n",
       "    padding: 5px;\n",
       "  }\n",
       "  th {\n",
       "    text-align: left;\n",
       "  }\n",
       "</style><div class='table-result-container'><table class='table-result'><thead style='background-color: white'><tr><th>skill</th><th>candidate_count</th></tr></thead><tbody><tr><td>excel</td><td>47</td></tr><tr><td>communication</td><td>37</td></tr><tr><td>leadership</td><td>31</td></tr><tr><td>sap</td><td>14</td></tr><tr><td>time management</td><td>10</td></tr><tr><td>peopleSoft</td><td>9</td></tr><tr><td>oracle</td><td>7</td></tr><tr><td>problem solving</td><td>7</td></tr><tr><td>illustrator</td><td>6</td></tr><tr><td>c</td><td>6</td></tr></tbody></table></div>"
      ]
     },
     "metadata": {
      "application/vnd.databricks.v1+output": {
       "addedWidgets": {},
       "aggData": [],
       "aggError": "",
       "aggOverflow": false,
       "aggSchema": [],
       "aggSeriesLimitReached": false,
       "aggType": "",
       "arguments": {},
       "columnCustomDisplayInfos": {},
       "data": [
        [
         "excel",
         47
        ],
        [
         "communication",
         37
        ],
        [
         "leadership",
         31
        ],
        [
         "sap",
         14
        ],
        [
         "time management",
         10
        ],
        [
         "peopleSoft",
         9
        ],
        [
         "oracle",
         7
        ],
        [
         "problem solving",
         7
        ],
        [
         "illustrator",
         6
        ],
        [
         "c",
         6
        ]
       ],
       "datasetInfos": [
        {
         "name": "_sqldf",
         "schema": {
          "fields": [
           {
            "metadata": {},
            "name": "skill",
            "nullable": true,
            "type": "string"
           },
           {
            "metadata": {},
            "name": "candidate_count",
            "nullable": false,
            "type": "long"
           }
          ],
          "type": "struct"
         },
         "tableIdentifier": null,
         "typeStr": "pyspark.sql.connect.dataframe.DataFrame"
        }
       ],
       "dbfsResultPath": null,
       "isJsonSchema": true,
       "metadata": {
        "createTempViewForImplicitDf": true,
        "dataframeName": "_sqldf",
        "executionCount": 8
       },
       "overflow": false,
       "plotOptions": {
        "customPlotOptions": {},
        "displayType": "table",
        "pivotAggregation": null,
        "pivotColumns": null,
        "xColumns": null,
        "yColumns": null
       },
       "removedWidgets": [],
       "schema": [
        {
         "metadata": "{}",
         "name": "skill",
         "type": "\"string\""
        },
        {
         "metadata": "{}",
         "name": "candidate_count",
         "type": "\"long\""
        }
       ],
       "type": "table"
      }
     },
     "output_type": "display_data"
    }
   ],
   "source": [
    "-- Top 10 most common skills among candidates\n",
    "\n",
    "SELECT s.skill, COUNT(b.candidate_id) AS candidate_count\n",
    "FROM workspace.resume_project.bridge_candidate_skill b\n",
    "JOIN workspace.resume_project.dim_skill s ON b.skill_id = s.skill_id\n",
    "GROUP BY s.skill\n",
    "ORDER BY candidate_count DESC\n",
    "LIMIT 10;"
   ]
  },
  {
   "cell_type": "code",
   "execution_count": 0,
   "metadata": {
    "application/vnd.databricks.v1+cell": {
     "cellMetadata": {
      "byteLimit": 2048000,
      "rowLimit": 10000
     },
     "inputWidgets": {},
     "nuid": "fabd5947-cbaa-4a23-b54e-33c39321cfe5",
     "showTitle": false,
     "tableResultSettingsMap": {},
     "title": ""
    }
   },
   "outputs": [
    {
     "output_type": "display_data",
     "data": {
      "text/html": [
       "<style scoped>\n",
       "  .table-result-container {\n",
       "    max-height: 300px;\n",
       "    overflow: auto;\n",
       "  }\n",
       "  table, th, td {\n",
       "    border: 1px solid black;\n",
       "    border-collapse: collapse;\n",
       "  }\n",
       "  th, td {\n",
       "    padding: 5px;\n",
       "  }\n",
       "  th {\n",
       "    text-align: left;\n",
       "  }\n",
       "</style><div class='table-result-container'><table class='table-result'><thead style='background-color: white'><tr><th>skill</th><th>candidate_count</th></tr></thead><tbody><tr><td>excel</td><td>47</td></tr><tr><td>communication</td><td>37</td></tr><tr><td>leadership</td><td>31</td></tr><tr><td>sap</td><td>14</td></tr><tr><td>time management</td><td>10</td></tr><tr><td>peopleSoft</td><td>9</td></tr><tr><td>problem solving</td><td>7</td></tr><tr><td>oracle</td><td>7</td></tr><tr><td>illustrator</td><td>6</td></tr><tr><td>c</td><td>6</td></tr><tr><td>photoshop</td><td>5</td></tr><tr><td>networking</td><td>5</td></tr><tr><td>html</td><td>5</td></tr><tr><td>teamwork</td><td>5</td></tr><tr><td>collaboration</td><td>5</td></tr><tr><td>unit testing</td><td>4</td></tr><tr><td>r</td><td>4</td></tr><tr><td>negotiation</td><td>4</td></tr><tr><td>go</td><td>3</td></tr><tr><td>css</td><td>2</td></tr><tr><td>safe</td><td>2</td></tr><tr><td>social media</td><td>2</td></tr><tr><td>confluence</td><td>2</td></tr><tr><td>sql server</td><td>2</td></tr><tr><td>creativity</td><td>2</td></tr><tr><td>critical thinking</td><td>1</td></tr><tr><td>spring</td><td>1</td></tr><tr><td>linux</td><td>1</td></tr><tr><td>workday</td><td>1</td></tr><tr><td>java</td><td>1</td></tr><tr><td>tableau</td><td>1</td></tr><tr><td>decision making</td><td>1</td></tr><tr><td>swift</td><td>1</td></tr><tr><td>javascript</td><td>1</td></tr><tr><td>adaptability</td><td>1</td></tr><tr><td>puppet</td><td>1</td></tr><tr><td>google sheets</td><td>1</td></tr></tbody></table></div>"
      ]
     },
     "metadata": {
      "application/vnd.databricks.v1+output": {
       "addedWidgets": {},
       "aggData": [],
       "aggError": "",
       "aggOverflow": false,
       "aggSchema": [],
       "aggSeriesLimitReached": false,
       "aggType": "",
       "arguments": {},
       "columnCustomDisplayInfos": {},
       "data": [
        [
         "excel",
         47
        ],
        [
         "communication",
         37
        ],
        [
         "leadership",
         31
        ],
        [
         "sap",
         14
        ],
        [
         "time management",
         10
        ],
        [
         "peopleSoft",
         9
        ],
        [
         "problem solving",
         7
        ],
        [
         "oracle",
         7
        ],
        [
         "illustrator",
         6
        ],
        [
         "c",
         6
        ],
        [
         "photoshop",
         5
        ],
        [
         "networking",
         5
        ],
        [
         "html",
         5
        ],
        [
         "teamwork",
         5
        ],
        [
         "collaboration",
         5
        ],
        [
         "unit testing",
         4
        ],
        [
         "r",
         4
        ],
        [
         "negotiation",
         4
        ],
        [
         "go",
         3
        ],
        [
         "css",
         2
        ],
        [
         "safe",
         2
        ],
        [
         "social media",
         2
        ],
        [
         "confluence",
         2
        ],
        [
         "sql server",
         2
        ],
        [
         "creativity",
         2
        ],
        [
         "critical thinking",
         1
        ],
        [
         "spring",
         1
        ],
        [
         "linux",
         1
        ],
        [
         "workday",
         1
        ],
        [
         "java",
         1
        ],
        [
         "tableau",
         1
        ],
        [
         "decision making",
         1
        ],
        [
         "swift",
         1
        ],
        [
         "javascript",
         1
        ],
        [
         "adaptability",
         1
        ],
        [
         "puppet",
         1
        ],
        [
         "google sheets",
         1
        ]
       ],
       "datasetInfos": [
        {
         "name": "_sqldf",
         "schema": {
          "fields": [
           {
            "metadata": {},
            "name": "skill",
            "nullable": true,
            "type": "string"
           },
           {
            "metadata": {},
            "name": "candidate_count",
            "nullable": false,
            "type": "long"
           }
          ],
          "type": "struct"
         },
         "tableIdentifier": null,
         "typeStr": "pyspark.sql.connect.dataframe.DataFrame"
        }
       ],
       "dbfsResultPath": null,
       "isJsonSchema": true,
       "metadata": {
        "createTempViewForImplicitDf": true,
        "dataframeName": "_sqldf",
        "executionCount": 13
       },
       "overflow": false,
       "plotOptions": {
        "customPlotOptions": {},
        "displayType": "table",
        "pivotAggregation": null,
        "pivotColumns": null,
        "xColumns": null,
        "yColumns": null
       },
       "removedWidgets": [],
       "schema": [
        {
         "metadata": "{}",
         "name": "skill",
         "type": "\"string\""
        },
        {
         "metadata": "{}",
         "name": "candidate_count",
         "type": "\"long\""
        }
       ],
       "type": "table"
      }
     },
     "output_type": "display_data"
    }
   ],
   "source": [
    "-- Count of candidates per skill\n",
    "\n",
    "SELECT ds.skill, count(bcs.candidate_id) as candidate_count\n",
    "FROM workspace.resume_project.bridge_candidate_skill as bcs\n",
    "JOIN workspace.resume_project.dim_skill as ds\n",
    "ON ds.skill_id = bcs.skill_id\n",
    "GROUP BY ds.skill\n",
    "ORDER BY candidate_count DESC;"
   ]
  },
  {
   "cell_type": "code",
   "execution_count": 0,
   "metadata": {
    "application/vnd.databricks.v1+cell": {
     "cellMetadata": {
      "byteLimit": 2048000,
      "rowLimit": 10000
     },
     "inputWidgets": {},
     "nuid": "2912382a-a092-4238-989a-2f7230f88400",
     "showTitle": false,
     "tableResultSettingsMap": {},
     "title": ""
    }
   },
   "outputs": [
    {
     "output_type": "display_data",
     "data": {
      "text/html": [
       "<style scoped>\n",
       "  .table-result-container {\n",
       "    max-height: 300px;\n",
       "    overflow: auto;\n",
       "  }\n",
       "  table, th, td {\n",
       "    border: 1px solid black;\n",
       "    border-collapse: collapse;\n",
       "  }\n",
       "  th, td {\n",
       "    padding: 5px;\n",
       "  }\n",
       "  th {\n",
       "    text-align: left;\n",
       "  }\n",
       "</style><div class='table-result-container'><table class='table-result'><thead style='background-color: white'><tr><th>avg_skills_per_candidate</th></tr></thead><tbody><tr><td>2.3333333333333335</td></tr></tbody></table></div>"
      ]
     },
     "metadata": {
      "application/vnd.databricks.v1+output": {
       "addedWidgets": {},
       "aggData": [],
       "aggError": "",
       "aggOverflow": false,
       "aggSchema": [],
       "aggSeriesLimitReached": false,
       "aggType": "",
       "arguments": {},
       "columnCustomDisplayInfos": {},
       "data": [
        [
         2.3333333333333335
        ]
       ],
       "datasetInfos": [
        {
         "name": "_sqldf",
         "schema": {
          "fields": [
           {
            "metadata": {},
            "name": "avg_skills_per_candidate",
            "nullable": true,
            "type": "double"
           }
          ],
          "type": "struct"
         },
         "tableIdentifier": null,
         "typeStr": "pyspark.sql.connect.dataframe.DataFrame"
        }
       ],
       "dbfsResultPath": null,
       "isJsonSchema": true,
       "metadata": {
        "createTempViewForImplicitDf": true,
        "dataframeName": "_sqldf",
        "executionCount": 20
       },
       "overflow": false,
       "plotOptions": {
        "customPlotOptions": {},
        "displayType": "table",
        "pivotAggregation": null,
        "pivotColumns": null,
        "xColumns": null,
        "yColumns": null
       },
       "removedWidgets": [],
       "schema": [
        {
         "metadata": "{}",
         "name": "avg_skills_per_candidate",
         "type": "\"double\""
        }
       ],
       "type": "table"
      }
     },
     "output_type": "display_data"
    }
   ],
   "source": [
    "SELECT AVG(skill_count) AS avg_skills_per_candidate\n",
    "FROM (\n",
    "    SELECT candidate_id, COUNT(*) AS skill_count\n",
    "    FROM workspace.resume_project.bridge_candidate_skill\n",
    "    GROUP BY candidate_id\n",
    ") t;"
   ]
  },
  {
   "cell_type": "code",
   "execution_count": 0,
   "metadata": {
    "application/vnd.databricks.v1+cell": {
     "cellMetadata": {
      "byteLimit": 2048000,
      "rowLimit": 10000
     },
     "inputWidgets": {},
     "nuid": "2fa10d2f-e722-43cc-856d-a6b553406d32",
     "showTitle": false,
     "tableResultSettingsMap": {},
     "title": ""
    }
   },
   "outputs": [
    {
     "output_type": "display_data",
     "data": {
      "text/html": [
       "<style scoped>\n",
       "  .table-result-container {\n",
       "    max-height: 300px;\n",
       "    overflow: auto;\n",
       "  }\n",
       "  table, th, td {\n",
       "    border: 1px solid black;\n",
       "    border-collapse: collapse;\n",
       "  }\n",
       "  th, td {\n",
       "    padding: 5px;\n",
       "  }\n",
       "  th {\n",
       "    text-align: left;\n",
       "  }\n",
       "</style><div class='table-result-container'><table class='table-result'><thead style='background-color: white'><tr><th>NO_SKILL_CANDIDATE</th></tr></thead><tbody><tr><td>11</td></tr></tbody></table></div>"
      ]
     },
     "metadata": {
      "application/vnd.databricks.v1+output": {
       "addedWidgets": {},
       "aggData": [],
       "aggError": "",
       "aggOverflow": false,
       "aggSchema": [],
       "aggSeriesLimitReached": false,
       "aggType": "",
       "arguments": {},
       "columnCustomDisplayInfos": {},
       "data": [
        [
         11
        ]
       ],
       "datasetInfos": [
        {
         "name": "_sqldf",
         "schema": {
          "fields": [
           {
            "metadata": {},
            "name": "NO_SKILL_CANDIDATE",
            "nullable": false,
            "type": "long"
           }
          ],
          "type": "struct"
         },
         "tableIdentifier": null,
         "typeStr": "pyspark.sql.connect.dataframe.DataFrame"
        }
       ],
       "dbfsResultPath": null,
       "isJsonSchema": true,
       "metadata": {
        "createTempViewForImplicitDf": true,
        "dataframeName": "_sqldf",
        "executionCount": 24
       },
       "overflow": false,
       "plotOptions": {
        "customPlotOptions": {},
        "displayType": "table",
        "pivotAggregation": null,
        "pivotColumns": null,
        "xColumns": null,
        "yColumns": null
       },
       "removedWidgets": [],
       "schema": [
        {
         "metadata": "{}",
         "name": "NO_SKILL_CANDIDATE",
         "type": "\"long\""
        }
       ],
       "type": "table"
      }
     },
     "output_type": "display_data"
    }
   ],
   "source": [
    "-- No. of candidates with no skills detected\n",
    "SELECT COUNT(c.candidate_id) as NO_SKILL_CANDIDATE\n",
    "FROM workspace.resume_project.dim_candidate c\n",
    "LEFT JOIN workspace.resume_project.bridge_candidate_skill b ON c.candidate_id = b.candidate_id\n",
    "WHERE b.candidate_id IS NULL AND c.is_current = true;"
   ]
  },
  {
   "cell_type": "code",
   "execution_count": 0,
   "metadata": {
    "application/vnd.databricks.v1+cell": {
     "cellMetadata": {
      "byteLimit": 2048000,
      "rowLimit": 10000
     },
     "inputWidgets": {},
     "nuid": "28dc1073-4f14-4eab-afd6-02dbe8caac16",
     "showTitle": false,
     "tableResultSettingsMap": {},
     "title": ""
    }
   },
   "outputs": [
    {
     "output_type": "display_data",
     "data": {
      "text/html": [
       "<style scoped>\n",
       "  .table-result-container {\n",
       "    max-height: 300px;\n",
       "    overflow: auto;\n",
       "  }\n",
       "  table, th, td {\n",
       "    border: 1px solid black;\n",
       "    border-collapse: collapse;\n",
       "  }\n",
       "  th, td {\n",
       "    padding: 5px;\n",
       "  }\n",
       "  th {\n",
       "    text-align: left;\n",
       "  }\n",
       "</style><div class='table-result-container'><table class='table-result'><thead style='background-color: white'><tr><th>Category</th><th>candidate_count</th></tr></thead><tbody><tr><td>HR</td><td>33</td></tr><tr><td>Other</td><td>10</td></tr><tr><td>Operations Manager</td><td>6</td></tr><tr><td>Advocate</td><td>4</td></tr><tr><td>Software Engineer</td><td>4</td></tr><tr><td>Data Science</td><td>3</td></tr><tr><td>Health and Fitness</td><td>3</td></tr><tr><td>SAP Developer</td><td>3</td></tr><tr><td>Arts</td><td>2</td></tr><tr><td>Web Designing</td><td>2</td></tr><tr><td>Network Security Engineer</td><td>2</td></tr><tr><td>Java Developer</td><td>1</td></tr><tr><td>Civil Engineer</td><td>1</td></tr><tr><td>Mechanical Engineer</td><td>1</td></tr><tr><td>DotNet Developer</td><td>1</td></tr></tbody></table></div>"
      ]
     },
     "metadata": {
      "application/vnd.databricks.v1+output": {
       "addedWidgets": {},
       "aggData": [],
       "aggError": "",
       "aggOverflow": false,
       "aggSchema": [],
       "aggSeriesLimitReached": false,
       "aggType": "",
       "arguments": {},
       "columnCustomDisplayInfos": {},
       "data": [
        [
         "HR",
         33
        ],
        [
         "Other",
         10
        ],
        [
         "Operations Manager",
         6
        ],
        [
         "Advocate",
         4
        ],
        [
         "Software Engineer",
         4
        ],
        [
         "Data Science",
         3
        ],
        [
         "Health and Fitness",
         3
        ],
        [
         "SAP Developer",
         3
        ],
        [
         "Arts",
         2
        ],
        [
         "Web Designing",
         2
        ],
        [
         "Network Security Engineer",
         2
        ],
        [
         "Java Developer",
         1
        ],
        [
         "Civil Engineer",
         1
        ],
        [
         "Mechanical Engineer",
         1
        ],
        [
         "DotNet Developer",
         1
        ]
       ],
       "datasetInfos": [
        {
         "name": "_sqldf",
         "schema": {
          "fields": [
           {
            "metadata": {},
            "name": "Category",
            "nullable": true,
            "type": "string"
           },
           {
            "metadata": {},
            "name": "candidate_count",
            "nullable": false,
            "type": "long"
           }
          ],
          "type": "struct"
         },
         "tableIdentifier": null,
         "typeStr": "pyspark.sql.connect.dataframe.DataFrame"
        }
       ],
       "dbfsResultPath": null,
       "isJsonSchema": true,
       "metadata": {
        "createTempViewForImplicitDf": true,
        "dataframeName": "_sqldf",
        "executionCount": 26
       },
       "overflow": false,
       "plotOptions": {
        "customPlotOptions": {},
        "displayType": "table",
        "pivotAggregation": null,
        "pivotColumns": null,
        "xColumns": null,
        "yColumns": null
       },
       "removedWidgets": [],
       "schema": [
        {
         "metadata": "{}",
         "name": "Category",
         "type": "\"string\""
        },
        {
         "metadata": "{}",
         "name": "candidate_count",
         "type": "\"long\""
        }
       ],
       "type": "table"
      }
     },
     "output_type": "display_data"
    }
   ],
   "source": [
    "-- Candidate count per category\n",
    "SELECT d.Category, COUNT(*) AS candidate_count\n",
    "FROM workspace.resume_project.dim_candidate d\n",
    "WHERE d.is_current = true\n",
    "GROUP BY d.Category\n",
    "ORDER BY candidate_count DESC;"
   ]
  },
  {
   "cell_type": "code",
   "execution_count": 0,
   "metadata": {
    "application/vnd.databricks.v1+cell": {
     "cellMetadata": {
      "byteLimit": 2048000,
      "rowLimit": 10000
     },
     "inputWidgets": {},
     "nuid": "e7876b2a-e9c0-4d5e-b3f1-80e89ae9ce59",
     "showTitle": false,
     "tableResultSettingsMap": {},
     "title": ""
    }
   },
   "outputs": [
    {
     "output_type": "display_data",
     "data": {
      "text/html": [
       "<style scoped>\n",
       "  .table-result-container {\n",
       "    max-height: 300px;\n",
       "    overflow: auto;\n",
       "  }\n",
       "  table, th, td {\n",
       "    border: 1px solid black;\n",
       "    border-collapse: collapse;\n",
       "  }\n",
       "  th, td {\n",
       "    padding: 5px;\n",
       "  }\n",
       "  th {\n",
       "    text-align: left;\n",
       "  }\n",
       "</style><div class='table-result-container'><table class='table-result'><thead style='background-color: white'><tr><th>Category</th><th>category_id</th><th>skill</th><th>skill_count</th></tr></thead><tbody><tr><td>Advocate</td><td>2</td><td>leadership</td><td>4</td></tr><tr><td>Advocate</td><td>2</td><td>sap</td><td>2</td></tr><tr><td>Advocate</td><td>2</td><td>peopleSoft</td><td>2</td></tr><tr><td>Arts</td><td>3</td><td>communication</td><td>1</td></tr><tr><td>Civil Engineer</td><td>6</td><td>oracle</td><td>1</td></tr><tr><td>Civil Engineer</td><td>6</td><td>communication</td><td>1</td></tr><tr><td>Civil Engineer</td><td>6</td><td>time management</td><td>1</td></tr><tr><td>Data Science</td><td>7</td><td>photoshop</td><td>2</td></tr><tr><td>Data Science</td><td>7</td><td>illustrator</td><td>2</td></tr><tr><td>Data Science</td><td>7</td><td>communication</td><td>1</td></tr><tr><td>DotNet Developer</td><td>9</td><td>c</td><td>1</td></tr><tr><td>DotNet Developer</td><td>9</td><td>excel</td><td>1</td></tr><tr><td>DotNet Developer</td><td>9</td><td>oracle</td><td>1</td></tr><tr><td>HR</td><td>10</td><td>communication</td><td>19</td></tr><tr><td>HR</td><td>10</td><td>excel</td><td>17</td></tr><tr><td>HR</td><td>10</td><td>leadership</td><td>13</td></tr><tr><td>Health and Fitness</td><td>11</td><td>problem solving</td><td>2</td></tr><tr><td>Health and Fitness</td><td>11</td><td>leadership</td><td>2</td></tr><tr><td>Health and Fitness</td><td>11</td><td>communication</td><td>1</td></tr><tr><td>Java Developer</td><td>12</td><td>excel</td><td>1</td></tr><tr><td>Mechanical Engineer</td><td>14</td><td>r</td><td>1</td></tr><tr><td>Mechanical Engineer</td><td>14</td><td>photoshop</td><td>1</td></tr><tr><td>Operations Manager</td><td>16</td><td>leadership</td><td>5</td></tr><tr><td>Operations Manager</td><td>16</td><td>communication</td><td>4</td></tr><tr><td>Operations Manager</td><td>16</td><td>excel</td><td>2</td></tr><tr><td>Other</td><td>17</td><td>leadership</td><td>2</td></tr><tr><td>Other</td><td>17</td><td>communication</td><td>1</td></tr><tr><td>SAP Developer</td><td>18</td><td>sap</td><td>3</td></tr><tr><td>SAP Developer</td><td>18</td><td>excel</td><td>1</td></tr><tr><td>SAP Developer</td><td>18</td><td>r</td><td>1</td></tr><tr><td>Software Engineer</td><td>20</td><td>communication</td><td>4</td></tr><tr><td>Software Engineer</td><td>20</td><td>leadership</td><td>3</td></tr><tr><td>Software Engineer</td><td>20</td><td>excel</td><td>3</td></tr><tr><td>Web Designing</td><td>21</td><td>collaboration</td><td>2</td></tr><tr><td>Web Designing</td><td>21</td><td>html</td><td>2</td></tr></tbody></table></div>"
      ]
     },
     "metadata": {
      "application/vnd.databricks.v1+output": {
       "addedWidgets": {},
       "aggData": [],
       "aggError": "",
       "aggOverflow": false,
       "aggSchema": [],
       "aggSeriesLimitReached": false,
       "aggType": "",
       "arguments": {},
       "columnCustomDisplayInfos": {},
       "data": [
        [
         "Advocate",
         2,
         "leadership",
         4
        ],
        [
         "Advocate",
         2,
         "sap",
         2
        ],
        [
         "Advocate",
         2,
         "peopleSoft",
         2
        ],
        [
         "Arts",
         3,
         "communication",
         1
        ],
        [
         "Civil Engineer",
         6,
         "oracle",
         1
        ],
        [
         "Civil Engineer",
         6,
         "communication",
         1
        ],
        [
         "Civil Engineer",
         6,
         "time management",
         1
        ],
        [
         "Data Science",
         7,
         "photoshop",
         2
        ],
        [
         "Data Science",
         7,
         "illustrator",
         2
        ],
        [
         "Data Science",
         7,
         "communication",
         1
        ],
        [
         "DotNet Developer",
         9,
         "c",
         1
        ],
        [
         "DotNet Developer",
         9,
         "excel",
         1
        ],
        [
         "DotNet Developer",
         9,
         "oracle",
         1
        ],
        [
         "HR",
         10,
         "communication",
         19
        ],
        [
         "HR",
         10,
         "excel",
         17
        ],
        [
         "HR",
         10,
         "leadership",
         13
        ],
        [
         "Health and Fitness",
         11,
         "problem solving",
         2
        ],
        [
         "Health and Fitness",
         11,
         "leadership",
         2
        ],
        [
         "Health and Fitness",
         11,
         "communication",
         1
        ],
        [
         "Java Developer",
         12,
         "excel",
         1
        ],
        [
         "Mechanical Engineer",
         14,
         "r",
         1
        ],
        [
         "Mechanical Engineer",
         14,
         "photoshop",
         1
        ],
        [
         "Operations Manager",
         16,
         "leadership",
         5
        ],
        [
         "Operations Manager",
         16,
         "communication",
         4
        ],
        [
         "Operations Manager",
         16,
         "excel",
         2
        ],
        [
         "Other",
         17,
         "leadership",
         2
        ],
        [
         "Other",
         17,
         "communication",
         1
        ],
        [
         "SAP Developer",
         18,
         "sap",
         3
        ],
        [
         "SAP Developer",
         18,
         "excel",
         1
        ],
        [
         "SAP Developer",
         18,
         "r",
         1
        ],
        [
         "Software Engineer",
         20,
         "communication",
         4
        ],
        [
         "Software Engineer",
         20,
         "leadership",
         3
        ],
        [
         "Software Engineer",
         20,
         "excel",
         3
        ],
        [
         "Web Designing",
         21,
         "collaboration",
         2
        ],
        [
         "Web Designing",
         21,
         "html",
         2
        ]
       ],
       "datasetInfos": [
        {
         "name": "_sqldf",
         "schema": {
          "fields": [
           {
            "metadata": {},
            "name": "Category",
            "nullable": true,
            "type": "string"
           },
           {
            "metadata": {},
            "name": "category_id",
            "nullable": true,
            "type": "integer"
           },
           {
            "metadata": {},
            "name": "skill",
            "nullable": true,
            "type": "string"
           },
           {
            "metadata": {},
            "name": "skill_count",
            "nullable": false,
            "type": "long"
           }
          ],
          "type": "struct"
         },
         "tableIdentifier": null,
         "typeStr": "pyspark.sql.connect.dataframe.DataFrame"
        }
       ],
       "dbfsResultPath": null,
       "isJsonSchema": true,
       "metadata": {
        "createTempViewForImplicitDf": true,
        "dataframeName": "_sqldf",
        "executionCount": 32
       },
       "overflow": false,
       "plotOptions": {
        "customPlotOptions": {},
        "displayType": "table",
        "pivotAggregation": null,
        "pivotColumns": null,
        "xColumns": null,
        "yColumns": null
       },
       "removedWidgets": [],
       "schema": [
        {
         "metadata": "{}",
         "name": "Category",
         "type": "\"string\""
        },
        {
         "metadata": "{}",
         "name": "category_id",
         "type": "\"integer\""
        },
        {
         "metadata": "{}",
         "name": "skill",
         "type": "\"string\""
        },
        {
         "metadata": "{}",
         "name": "skill_count",
         "type": "\"long\""
        }
       ],
       "type": "table"
      }
     },
     "output_type": "display_data"
    }
   ],
   "source": [
    "-- Top 3 skills in each category (with category name)\n",
    "\n",
    "WITH joined AS (\n",
    "    SELECT c.Category, c.category_id, s.skill\n",
    "    FROM workspace.resume_project.bridge_candidate_skill b\n",
    "    JOIN workspace.resume_project.dim_candidate c\n",
    "        ON b.candidate_id = c.candidate_id AND c.is_current = true\n",
    "    JOIN workspace.resume_project.dim_skill s\n",
    "        ON b.skill_id = s.skill_id\n",
    "),\n",
    "ranked AS (\n",
    "    SELECT Category, category_id, skill, COUNT(*) AS skill_count,\n",
    "           ROW_NUMBER() OVER (PARTITION BY category_id ORDER BY COUNT(*) DESC) AS rn\n",
    "    FROM joined\n",
    "    GROUP BY Category, category_id, skill\n",
    ")\n",
    "SELECT Category, category_id, skill, skill_count\n",
    "FROM ranked\n",
    "WHERE rn <= 3\n",
    "ORDER BY category_id, rn;\n"
   ]
  },
  {
   "cell_type": "code",
   "execution_count": 0,
   "metadata": {
    "application/vnd.databricks.v1+cell": {
     "cellMetadata": {
      "byteLimit": 2048000,
      "rowLimit": 10000
     },
     "inputWidgets": {},
     "nuid": "ff49ee37-c472-4295-b25a-a49d6e4c825e",
     "showTitle": false,
     "tableResultSettingsMap": {},
     "title": ""
    }
   },
   "outputs": [
    {
     "output_type": "display_data",
     "data": {
      "text/html": [
       "<style scoped>\n",
       "  .table-result-container {\n",
       "    max-height: 300px;\n",
       "    overflow: auto;\n",
       "  }\n",
       "  table, th, td {\n",
       "    border: 1px solid black;\n",
       "    border-collapse: collapse;\n",
       "  }\n",
       "  th, td {\n",
       "    padding: 5px;\n",
       "  }\n",
       "  th {\n",
       "    text-align: left;\n",
       "  }\n",
       "</style><div class='table-result-container'><table class='table-result'><thead style='background-color: white'><tr><th>total_candidates</th></tr></thead><tbody><tr><td>603</td></tr></tbody></table></div>"
      ]
     },
     "metadata": {
      "application/vnd.databricks.v1+output": {
       "addedWidgets": {},
       "aggData": [],
       "aggError": "",
       "aggOverflow": false,
       "aggSchema": [],
       "aggSeriesLimitReached": false,
       "aggType": "",
       "arguments": {},
       "columnCustomDisplayInfos": {},
       "data": [
        [
         603
        ]
       ],
       "datasetInfos": [
        {
         "name": "_sqldf",
         "schema": {
          "fields": [
           {
            "metadata": {},
            "name": "total_candidates",
            "nullable": false,
            "type": "long"
           }
          ],
          "type": "struct"
         },
         "tableIdentifier": null,
         "typeStr": "pyspark.sql.connect.dataframe.DataFrame"
        }
       ],
       "dbfsResultPath": null,
       "isJsonSchema": true,
       "metadata": {
        "createTempViewForImplicitDf": true,
        "dataframeName": "_sqldf",
        "executionCount": 34
       },
       "overflow": false,
       "plotOptions": {
        "customPlotOptions": {},
        "displayType": "table",
        "pivotAggregation": null,
        "pivotColumns": null,
        "xColumns": null,
        "yColumns": null
       },
       "removedWidgets": [],
       "schema": [
        {
         "metadata": "{}",
         "name": "total_candidates",
         "type": "\"long\""
        }
       ],
       "type": "table"
      }
     },
     "output_type": "display_data"
    }
   ],
   "source": [
    "-- Total number of candidates\n",
    "\n",
    "SELECT COUNT(DISTINCT candidate_id) AS total_candidates\n",
    "FROM workspace.resume_project.dim_candidate;"
   ]
  },
  {
   "cell_type": "code",
   "execution_count": 0,
   "metadata": {
    "application/vnd.databricks.v1+cell": {
     "cellMetadata": {
      "byteLimit": 2048000,
      "rowLimit": 10000
     },
     "inputWidgets": {},
     "nuid": "bd8c8d8b-e833-4af5-8452-d29bdede5193",
     "showTitle": false,
     "tableResultSettingsMap": {},
     "title": ""
    }
   },
   "outputs": [
    {
     "output_type": "display_data",
     "data": {
      "text/html": [
       "<style scoped>\n",
       "  .table-result-container {\n",
       "    max-height: 300px;\n",
       "    overflow: auto;\n",
       "  }\n",
       "  table, th, td {\n",
       "    border: 1px solid black;\n",
       "    border-collapse: collapse;\n",
       "  }\n",
       "  th, td {\n",
       "    padding: 5px;\n",
       "  }\n",
       "  th {\n",
       "    text-align: left;\n",
       "  }\n",
       "</style><div class='table-result-container'><table class='table-result'><thead style='background-color: white'><tr><th>new_candidates</th></tr></thead><tbody><tr><td>0</td></tr></tbody></table></div>"
      ]
     },
     "metadata": {
      "application/vnd.databricks.v1+output": {
       "addedWidgets": {},
       "aggData": [],
       "aggError": "",
       "aggOverflow": false,
       "aggSchema": [],
       "aggSeriesLimitReached": false,
       "aggType": "",
       "arguments": {},
       "columnCustomDisplayInfos": {},
       "data": [
        [
         0
        ]
       ],
       "datasetInfos": [
        {
         "name": "_sqldf",
         "schema": {
          "fields": [
           {
            "metadata": {},
            "name": "new_candidates",
            "nullable": false,
            "type": "long"
           }
          ],
          "type": "struct"
         },
         "tableIdentifier": null,
         "typeStr": "pyspark.sql.connect.dataframe.DataFrame"
        }
       ],
       "dbfsResultPath": null,
       "isJsonSchema": true,
       "metadata": {
        "createTempViewForImplicitDf": true,
        "dataframeName": "_sqldf",
        "executionCount": 35
       },
       "overflow": false,
       "plotOptions": {
        "customPlotOptions": {},
        "displayType": "table",
        "pivotAggregation": null,
        "pivotColumns": null,
        "xColumns": null,
        "yColumns": null
       },
       "removedWidgets": [],
       "schema": [
        {
         "metadata": "{}",
         "name": "new_candidates",
         "type": "\"long\""
        }
       ],
       "type": "table"
      }
     },
     "output_type": "display_data"
    }
   ],
   "source": [
    "-- New candidates in last 7 days (Answer would be 0 because we are not starting from current date)\n",
    "\n",
    "SELECT COUNT(*) AS new_candidates\n",
    "FROM workspace.resume_project.dim_candidate\n",
    "WHERE is_current = true AND effective_start_date >= current_date() - INTERVAL 7 DAYS;"
   ]
  },
  {
   "cell_type": "code",
   "execution_count": 0,
   "metadata": {
    "application/vnd.databricks.v1+cell": {
     "cellMetadata": {
      "byteLimit": 2048000,
      "rowLimit": 10000
     },
     "inputWidgets": {},
     "nuid": "e0fbd0c6-0cbf-4202-bb7a-970e5a4fec55",
     "showTitle": false,
     "tableResultSettingsMap": {},
     "title": ""
    }
   },
   "outputs": [
    {
     "output_type": "display_data",
     "data": {
      "text/html": [
       "<style scoped>\n",
       "  .table-result-container {\n",
       "    max-height: 300px;\n",
       "    overflow: auto;\n",
       "  }\n",
       "  table, th, td {\n",
       "    border: 1px solid black;\n",
       "    border-collapse: collapse;\n",
       "  }\n",
       "  th, td {\n",
       "    padding: 5px;\n",
       "  }\n",
       "  th {\n",
       "    text-align: left;\n",
       "  }\n",
       "</style><div class='table-result-container'><table class='table-result'><thead style='background-color: white'><tr><th>candidate_id</th><th>Category</th><th>category_id</th><th>education_level</th><th>education_level_id</th><th>emails</th><th>urls</th><th>is_usable</th><th>effective_start_date</th><th>effective_end_date</th><th>is_current</th></tr></thead><tbody><tr><td>000038</td><td>Other</td><td>17</td><td></td><td>null</td><td></td><td></td><td>false</td><td>2023-01-01</td><td>3000-01-01</td><td>false</td></tr></tbody></table></div>"
      ]
     },
     "metadata": {
      "application/vnd.databricks.v1+output": {
       "addedWidgets": {},
       "aggData": [],
       "aggError": "",
       "aggOverflow": false,
       "aggSchema": [],
       "aggSeriesLimitReached": false,
       "aggType": "",
       "arguments": {},
       "columnCustomDisplayInfos": {},
       "data": [
        [
         "000038",
         "Other",
         17,
         "",
         null,
         "",
         "",
         false,
         "2023-01-01",
         "3000-01-01",
         false
        ]
       ],
       "datasetInfos": [
        {
         "name": "_sqldf",
         "schema": {
          "fields": [
           {
            "metadata": {},
            "name": "candidate_id",
            "nullable": true,
            "type": "string"
           },
           {
            "metadata": {},
            "name": "Category",
            "nullable": true,
            "type": "string"
           },
           {
            "metadata": {},
            "name": "category_id",
            "nullable": true,
            "type": "integer"
           },
           {
            "metadata": {},
            "name": "education_level",
            "nullable": true,
            "type": "string"
           },
           {
            "metadata": {},
            "name": "education_level_id",
            "nullable": true,
            "type": "integer"
           },
           {
            "metadata": {},
            "name": "emails",
            "nullable": true,
            "type": "string"
           },
           {
            "metadata": {},
            "name": "urls",
            "nullable": true,
            "type": "string"
           },
           {
            "metadata": {},
            "name": "is_usable",
            "nullable": true,
            "type": "boolean"
           },
           {
            "metadata": {},
            "name": "effective_start_date",
            "nullable": true,
            "type": "date"
           },
           {
            "metadata": {},
            "name": "effective_end_date",
            "nullable": true,
            "type": "string"
           },
           {
            "metadata": {},
            "name": "is_current",
            "nullable": true,
            "type": "boolean"
           }
          ],
          "type": "struct"
         },
         "tableIdentifier": null,
         "typeStr": "pyspark.sql.connect.dataframe.DataFrame"
        }
       ],
       "dbfsResultPath": null,
       "isJsonSchema": true,
       "metadata": {
        "createTempViewForImplicitDf": true,
        "dataframeName": "_sqldf",
        "executionCount": 42
       },
       "overflow": false,
       "plotOptions": {
        "customPlotOptions": {},
        "displayType": "table",
        "pivotAggregation": null,
        "pivotColumns": null,
        "xColumns": null,
        "yColumns": null
       },
       "removedWidgets": [],
       "schema": [
        {
         "metadata": "{}",
         "name": "candidate_id",
         "type": "\"string\""
        },
        {
         "metadata": "{}",
         "name": "Category",
         "type": "\"string\""
        },
        {
         "metadata": "{}",
         "name": "category_id",
         "type": "\"integer\""
        },
        {
         "metadata": "{}",
         "name": "education_level",
         "type": "\"string\""
        },
        {
         "metadata": "{}",
         "name": "education_level_id",
         "type": "\"integer\""
        },
        {
         "metadata": "{}",
         "name": "emails",
         "type": "\"string\""
        },
        {
         "metadata": "{}",
         "name": "urls",
         "type": "\"string\""
        },
        {
         "metadata": "{}",
         "name": "is_usable",
         "type": "\"boolean\""
        },
        {
         "metadata": "{}",
         "name": "effective_start_date",
         "type": "\"date\""
        },
        {
         "metadata": "{}",
         "name": "effective_end_date",
         "type": "\"string\""
        },
        {
         "metadata": "{}",
         "name": "is_current",
         "type": "\"boolean\""
        }
       ],
       "type": "table"
      }
     },
     "output_type": "display_data"
    }
   ],
   "source": [
    "-- Change history of candidate\n",
    "\n",
    "SELECT *\n",
    "FROM workspace.resume_project.dim_candidate\n",
    "WHERE candidate_id = '000038'\n",
    "ORDER BY effective_start_date;"
   ]
  },
  {
   "cell_type": "code",
   "execution_count": 0,
   "metadata": {
    "application/vnd.databricks.v1+cell": {
     "cellMetadata": {
      "byteLimit": 2048000,
      "rowLimit": 10000
     },
     "inputWidgets": {},
     "nuid": "20b92e95-76f3-4397-859c-30622147d97a",
     "showTitle": false,
     "tableResultSettingsMap": {},
     "title": ""
    }
   },
   "outputs": [
    {
     "output_type": "display_data",
     "data": {
      "text/html": [
       "<style scoped>\n",
       "  .table-result-container {\n",
       "    max-height: 300px;\n",
       "    overflow: auto;\n",
       "  }\n",
       "  table, th, td {\n",
       "    border: 1px solid black;\n",
       "    border-collapse: collapse;\n",
       "  }\n",
       "  th, td {\n",
       "    padding: 5px;\n",
       "  }\n",
       "  th {\n",
       "    text-align: left;\n",
       "  }\n",
       "</style><div class='table-result-container'><table class='table-result'><thead style='background-color: white'><tr><th>missing_contact_info</th></tr></thead><tbody><tr><td>603</td></tr></tbody></table></div>"
      ]
     },
     "metadata": {
      "application/vnd.databricks.v1+output": {
       "addedWidgets": {},
       "aggData": [],
       "aggError": "",
       "aggOverflow": false,
       "aggSchema": [],
       "aggSeriesLimitReached": false,
       "aggType": "",
       "arguments": {},
       "columnCustomDisplayInfos": {},
       "data": [
        [
         603
        ]
       ],
       "datasetInfos": [
        {
         "name": "_sqldf",
         "schema": {
          "fields": [
           {
            "metadata": {},
            "name": "missing_contact_info",
            "nullable": false,
            "type": "long"
           }
          ],
          "type": "struct"
         },
         "tableIdentifier": null,
         "typeStr": "pyspark.sql.connect.dataframe.DataFrame"
        }
       ],
       "dbfsResultPath": null,
       "isJsonSchema": true,
       "metadata": {
        "createTempViewForImplicitDf": true,
        "dataframeName": "_sqldf",
        "executionCount": 43
       },
       "overflow": false,
       "plotOptions": {
        "customPlotOptions": {},
        "displayType": "table",
        "pivotAggregation": null,
        "pivotColumns": null,
        "xColumns": null,
        "yColumns": null
       },
       "removedWidgets": [],
       "schema": [
        {
         "metadata": "{}",
         "name": "missing_contact_info",
         "type": "\"long\""
        }
       ],
       "type": "table"
      }
     },
     "output_type": "display_data"
    }
   ],
   "source": [
    "-- Count of candidates with missing emails\n",
    "\n",
    "SELECT COUNT(*) AS missing_contact_info\n",
    "FROM workspace.resume_project.dim_candidate\n",
    "WHERE (emails IS NULL OR emails = '') OR (urls IS NULL OR urls = '') AND is_current = true;"
   ]
  },
  {
   "cell_type": "code",
   "execution_count": 0,
   "metadata": {
    "application/vnd.databricks.v1+cell": {
     "cellMetadata": {
      "byteLimit": 2048000,
      "rowLimit": 10000
     },
     "inputWidgets": {},
     "nuid": "8ac3872d-eff2-457d-9c11-abe763446d2f",
     "showTitle": false,
     "tableResultSettingsMap": {},
     "title": ""
    }
   },
   "outputs": [
    {
     "output_type": "display_data",
     "data": {
      "text/html": [
       "<style scoped>\n",
       "  .table-result-container {\n",
       "    max-height: 300px;\n",
       "    overflow: auto;\n",
       "  }\n",
       "  table, th, td {\n",
       "    border: 1px solid black;\n",
       "    border-collapse: collapse;\n",
       "  }\n",
       "  th, td {\n",
       "    padding: 5px;\n",
       "  }\n",
       "  th {\n",
       "    text-align: left;\n",
       "  }\n",
       "</style><div class='table-result-container'><table class='table-result'><thead style='background-color: white'><tr><th>candidate_id</th><th>skill_count</th></tr></thead><tbody></tbody></table></div>"
      ]
     },
     "metadata": {
      "application/vnd.databricks.v1+output": {
       "addedWidgets": {},
       "aggData": [],
       "aggError": "",
       "aggOverflow": false,
       "aggSchema": [],
       "aggSeriesLimitReached": false,
       "aggType": "",
       "arguments": {},
       "columnCustomDisplayInfos": {},
       "data": [],
       "datasetInfos": [
        {
         "name": "_sqldf",
         "schema": {
          "fields": [
           {
            "metadata": {},
            "name": "candidate_id",
            "nullable": true,
            "type": "string"
           },
           {
            "metadata": {},
            "name": "skill_count",
            "nullable": false,
            "type": "long"
           }
          ],
          "type": "struct"
         },
         "tableIdentifier": null,
         "typeStr": "pyspark.sql.connect.dataframe.DataFrame"
        }
       ],
       "dbfsResultPath": null,
       "isJsonSchema": true,
       "metadata": {
        "createTempViewForImplicitDf": true,
        "dataframeName": "_sqldf",
        "executionCount": 47
       },
       "overflow": false,
       "plotOptions": {
        "customPlotOptions": {},
        "displayType": "table",
        "pivotAggregation": null,
        "pivotColumns": null,
        "xColumns": null,
        "yColumns": null
       },
       "removedWidgets": [],
       "schema": [
        {
         "metadata": "{}",
         "name": "candidate_id",
         "type": "\"string\""
        },
        {
         "metadata": "{}",
         "name": "skill_count",
         "type": "\"long\""
        }
       ],
       "type": "table"
      }
     },
     "output_type": "display_data"
    }
   ],
   "source": [
    "-- Candidates with >20 skills\n",
    "\n",
    "SELECT candidate_id, COUNT(*) AS skill_count\n",
    "FROM workspace.resume_project.bridge_candidate_skill\n",
    "GROUP BY candidate_id\n",
    "HAVING skill_count > 20;"
   ]
  }
 ],
 "metadata": {
  "application/vnd.databricks.v1+notebook": {
   "computePreferences": null,
   "dashboards": [],
   "environmentMetadata": {
    "base_environment": "",
    "environment_version": "2"
   },
   "inputWidgetPreferences": null,
   "language": "sql",
   "notebookMetadata": {
    "pythonIndentUnit": 4
   },
   "notebookName": "05_reporting_queries",
   "widgets": {}
  },
  "language_info": {
   "name": "sql"
  }
 },
 "nbformat": 4,
 "nbformat_minor": 0
}