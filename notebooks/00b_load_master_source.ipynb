{
 "cells": [
  {
   "cell_type": "code",
   "execution_count": 0,
   "metadata": {
    "application/vnd.databricks.v1+cell": {
     "cellMetadata": {
      "byteLimit": 2048000,
      "rowLimit": 10000
     },
     "inputWidgets": {},
     "nuid": "1b65aacd-5140-40f0-86e9-fa06ccaab80d",
     "showTitle": false,
     "tableResultSettingsMap": {},
     "title": ""
    }
   },
   "outputs": [],
   "source": [
    "from pyspark.sql import SparkSession\n",
    "df = spark.read.table(\"workspace.resume_project.master_resume_data\")"
   ]
  },
  {
   "cell_type": "code",
   "execution_count": 0,
   "metadata": {
    "application/vnd.databricks.v1+cell": {
     "cellMetadata": {
      "byteLimit": 2048000,
      "rowLimit": 10000
     },
     "inputWidgets": {},
     "nuid": "0ed49550-585e-4f7e-86fc-1c185e7d769a",
     "showTitle": false,
     "tableResultSettingsMap": {},
     "title": ""
    }
   },
   "outputs": [
    {
     "output_type": "stream",
     "name": "stdout",
     "output_type": "stream",
     "text": [
      "root\n |-- Resume: string (nullable = true)\n |-- Category: string (nullable = true)\n |-- candidate_id: string (nullable = true)\n |-- upload_date: timestamp (nullable = true)\n\n+--------------------+--------+------------+-------------------+\n|              Resume|Category|candidate_id|        upload_date|\n+--------------------+--------+------------+-------------------+\n|   State      Sal...|   Sales|      015239|2023-01-06 00:00:00|\n| </span> <span cl...|   Sales|      008272|2023-01-06 00:00:00|\n|         BUSINESS...|Advocate|      009743|2023-01-06 00:00:00|\n|         BUSINESS...|Advocate|      005792|2023-01-06 00:00:00|\n|                 500|   Other|      012264|2023-01-06 00:00:00|\n+--------------------+--------+------------+-------------------+\nonly showing top 5 rows\nTotal rows in master dataset: 21750\n"
     ]
    }
   ],
   "source": [
    "df.printSchema()\n",
    "df.show(5, truncate=True)\n",
    "print(f\"Total rows in master dataset: {df.count()}\")"
   ]
  },
  {
   "cell_type": "code",
   "execution_count": 0,
   "metadata": {
    "application/vnd.databricks.v1+cell": {
     "cellMetadata": {
      "byteLimit": 2048000,
      "rowLimit": 10000
     },
     "inputWidgets": {},
     "nuid": "d3297d7e-1ba9-4a07-9cc9-ce0de35e44dc",
     "showTitle": false,
     "tableResultSettingsMap": {},
     "title": ""
    }
   },
   "outputs": [],
   "source": [
    "df.write.format(\"delta\") \\\n",
    "    .mode(\"overwrite\") \\\n",
    "    .saveAsTable(\"workspace.resume_project.resume_master_source\")"
   ]
  },
  {
   "cell_type": "code",
   "execution_count": 0,
   "metadata": {
    "application/vnd.databricks.v1+cell": {
     "cellMetadata": {
      "byteLimit": 2048000,
      "rowLimit": 10000
     },
     "inputWidgets": {},
     "nuid": "5e47c5bb-3e10-4cc2-b159-e0df5e646c6e",
     "showTitle": false,
     "tableResultSettingsMap": {},
     "title": ""
    }
   },
   "outputs": [],
   "source": [
    "df_source = spark.read.table(\"workspace.resume_project.resume_master_source\")"
   ]
  },
  {
   "cell_type": "code",
   "execution_count": 0,
   "metadata": {
    "application/vnd.databricks.v1+cell": {
     "cellMetadata": {
      "byteLimit": 2048000,
      "rowLimit": 10000
     },
     "inputWidgets": {},
     "nuid": "d4df9710-262e-4cbf-a1b8-629d2c8ee4b7",
     "showTitle": false,
     "tableResultSettingsMap": {},
     "title": ""
    }
   },
   "outputs": [
    {
     "output_type": "stream",
     "name": "stdout",
     "output_type": "stream",
     "text": [
      "Total rows in source: 21750\n+--------------------+------------------+------------+-------------------+\n|              Resume|          Category|candidate_id|        upload_date|\n+--------------------+------------------+------------+-------------------+\n| enthusiastic com...|Operations Manager|      007018|2023-01-01 00:00:00|\n|   State     Help...|             Other|      003532|2023-01-01 00:00:00|\n|  <u> Micros </u>...|             Other|      007260|2023-01-01 00:00:00|\n| </span> <span cl...|             Other|      009123|2023-01-01 00:00:00|\n| </span> <span cl...|             Other|      017155|2023-01-01 00:00:00|\n+--------------------+------------------+------------+-------------------+\nonly showing top 5 rows\n"
     ]
    }
   ],
   "source": [
    "print(f\"Total rows in source: {df_source.count()}\")\n",
    "df_source.show(5, truncate=True)"
   ]
  }
 ],
 "metadata": {
  "application/vnd.databricks.v1+notebook": {
   "computePreferences": null,
   "dashboards": [],
   "environmentMetadata": {
    "base_environment": "",
    "environment_version": "2"
   },
   "inputWidgetPreferences": null,
   "language": "python",
   "notebookMetadata": {
    "pythonIndentUnit": 4
   },
   "notebookName": "00b_load_master_source",
   "widgets": {}
  },
  "language_info": {
   "name": "python"
  }
 },
 "nbformat": 4,
 "nbformat_minor": 0
}